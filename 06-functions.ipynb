{
 "cells": [
  {
   "cell_type": "raw",
   "id": "56d7a840",
   "metadata": {},
   "source": [
    "---\n",
    "title: \"Functions\"\n",
    "teaching: 10\n",
    "exercises: 2\n",
    "---"
   ]
  },
  {
   "cell_type": "markdown",
   "id": "6ef7e7fa",
   "metadata": {},
   "source": []
  },
  {
   "cell_type": "markdown",
   "id": "e2e41259",
   "metadata": {},
   "source": [
    "- \n",
    "-\n",
    "-\n",
    "\n",
    "\n"
   ]
  },
  {
   "cell_type": "markdown",
   "id": "d6e58ac3",
   "metadata": {},
   "source": [
    "-\n",
    "-\n",
    "-\n"
   ]
  },
  {
   "cell_type": "markdown",
   "id": "4e469668",
   "metadata": {},
   "source": [
    "**The materials for this chapter will be released on 06 June 2022.**\n",
    "\n",
    "\n"
   ]
  },
  {
   "cell_type": "markdown",
   "id": "2a4cb863",
   "metadata": {},
   "source": [
    "-\n",
    "-\n",
    "-\n",
    "\n",
    "\n"
   ]
  },
  {
   "cell_type": "markdown",
   "id": "799b559d",
   "metadata": {},
   "source": [
    "[r-markdown]: https://rmarkdown.rstudio.com/"
   ]
  }
 ],
 "metadata": {
  "jupytext": {
   "cell_metadata_filter": "-all",
   "main_language": "python",
   "notebook_metadata_filter": "-all"
  }
 },
 "nbformat": 4,
 "nbformat_minor": 5
}
