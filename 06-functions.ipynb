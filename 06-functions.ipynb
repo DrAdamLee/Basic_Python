{
 "cells": [
  {
   "cell_type": "raw",
   "id": "2f2891c1",
   "metadata": {},
   "source": [
    "---\n",
    "title: \"Functions\"\n",
    "teaching: 10\n",
    "exercises: 2\n",
    "---"
   ]
  },
  {
   "cell_type": "markdown",
   "id": "0f998989",
   "metadata": {},
   "source": []
  },
  {
   "cell_type": "markdown",
   "id": "088558a1",
   "metadata": {},
   "source": [
    "- \n",
    "-\n",
    "-\n",
    "\n",
    "\n"
   ]
  },
  {
   "cell_type": "markdown",
   "id": "38a1bec7",
   "metadata": {},
   "source": [
    "-\n",
    "-\n",
    "-\n"
   ]
  },
  {
   "cell_type": "markdown",
   "id": "87450cc3",
   "metadata": {},
   "source": [
    "**The materials for this chapter will be released on 06 June 2022.**\n",
    "\n",
    "\n"
   ]
  },
  {
   "cell_type": "markdown",
   "id": "816ec758",
   "metadata": {},
   "source": [
    "-\n",
    "-\n",
    "-\n",
    "\n",
    "\n"
   ]
  },
  {
   "cell_type": "markdown",
   "id": "8dd8c401",
   "metadata": {},
   "source": [
    "[r-markdown]: https://rmarkdown.rstudio.com/"
   ]
  }
 ],
 "metadata": {
  "jupytext": {
   "cell_metadata_filter": "-all",
   "main_language": "python",
   "notebook_metadata_filter": "-all"
  }
 },
 "nbformat": 4,
 "nbformat_minor": 5
}
