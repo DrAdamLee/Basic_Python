{
 "cells": [
  {
   "cell_type": "raw",
   "id": "888abe66",
   "metadata": {},
   "source": [
    "---\n",
    "title: \"Introduction to Arrays\"\n",
    "teaching: 10\n",
    "exercises: 2\n",
    "---"
   ]
  },
  {
   "cell_type": "markdown",
   "id": "40f5f7a9",
   "metadata": {},
   "source": [
    "\n",
    "[**Download Chapter notebook (ipynb)**](04-arrays.ipynb)\n",
    "\n",
    "[<span style=\"color: rgb(255, 0, 0);\">**Mandatory Lesson Feedback Survey**</span>](https://docs.google.com/forms/d/e/1FAIpQLSdr0capF7jloJhPH3Pki1B3LZoKOG16poOpuVJ7SL2LkwLHQA/viewform?pli=1)\n",
    "\n",
    ":::::::::::::::::::::::::::::::::::::: questions\n",
    "\n",
    "- What are different types of arrays?\n",
    "- How is data stored and retrieved from an array\n",
    "- Why nested arrays?\n",
    "- What are tuples?\n",
    "\n",
    "::::::::::::::::::::::::::::::::::::::::::::::::\n",
    "\n",
    "::::::::::::::::::::::::::::::::::::: objectives\n",
    "- Understanding difference between lists and tuples.\n",
    "- Building concepts of operations on arrays.\n",
    "- knowing storing multidimensional data.\n",
    "- Understanding mutability and immutability.\n",
    "::::::::::::::::::::::::::::::::::::::::::::::::\n",
    "\n",
    "<br>\n",
    "<p align = \"center\">\n",
    "<iframe width=\"560\" height=\"315\" src=\"https://www.youtube.com/embed/RlhGPZv8fZI\" title=\"YouTube video player\" frameborder=\"0\" allow=\"accelerometer; autoplay; clipboard-write; encrypted-media; gyroscope; picture-in-picture\" allowfullscreen></iframe>\n",
    "</p>\n",
    "<br>\n",
    "<p align = \"center\">\n",
    "<iframe width=\"560\" height=\"315\" src=\"https://www.youtube.com/embed/KiMQiN4CN8s\" title=\"YouTube video player\" frameborder=\"0\" allow=\"accelerometer; autoplay; clipboard-write; encrypted-media; gyroscope; picture-in-picture\" allowfullscreen></iframe>\n",
    "</p>\n",
    "<br>\n",
    "<p align = \"center\">\n",
    "<iframe width=\"560\" height=\"315\" src=\"https://www.youtube.com/embed/id72qTBmCEY\" title=\"YouTube video player\" frameborder=\"0\" allow=\"accelerometer; autoplay; clipboard-write; encrypted-media; gyroscope; picture-in-picture\" allowfullscreen></iframe>\n",
    "</p>\n",
    "<br>\n",
    "\n",
    ":::::::::::::::::: prereq\n",
    "- [Variables and Types](02-input_output.Rmd#varTypes)\n",
    "- [Logical Operations](02-input_output.Rmd#subsec:logicalOperatons)\n",
    "- [Conditional Statements](03-conditional_statements.Rmd)"
   ]
  },
  {
   "cell_type": "markdown",
   "id": "349c178b",
   "metadata": {},
   "source": [
    "::::::::::::::::::\n",
    "\n",
    "<p style='text-align: justify;'>\n",
    "So far, we have been using variables to store individual values. In some circumstances, we may need to access multiple values to perform operations. In such occasions, defining a variable for every single value can become very tedious. To address this, we use arrays.\n",
    "</p>\n",
    "\n",
    "<p style='text-align: justify;'>\n",
    "Arrays are variables that hold any number of values. Python provides 3 types of built-in arrays: ```list```, ```tuple```, and ```set```. There are a several common features amongst all arrays in Python; however, each type of array enjoys its own range of unique features that facilitate specific operations.\n",
    "</p>\n",
    "\n",
    ":::::::::::::::::::::::::::::::::::: callout\n",
    "## Remember\n",
    "Each item inside an array may be referred to as a *member* or *item* of that array.\n",
    "\n",
    "::::::::::::::::::::::::::::::::::::\n",
    "\n",
    "## Lists\n",
    "[**Resource for Lists**](https://docs.python.org/3/tutorial/datastructures.html\\#more-on-lists)\n",
    "\n",
    "<p style='text-align: justify;'>\n",
    "Lists are the most frequently used type of arrays in Python. It is therefore important to understand how they work, and that how can we use them and features they offer to our advantage.\n",
    "</p>\n",
    "\n",
    "<p style='text-align: justify;'>\n",
    "The easiest way to imagine how a ```list``` works is to think of it as a table that can have any number of rows. This is akin to a spreadsheet with one column. For instance, suppose we have a table with 4 rows in a spreadsheet application as follows:\n",
    "</p>\n",
    "\n",
    "![](fig/spreadsheet.png)\n",
    "\n",
    "The number of rows in an array determine the *length.* The above table has 4 rows; therefore it is said to have a *length* of 4."
   ]
  },
  {
   "cell_type": "markdown",
   "id": "c37f4d2f",
   "metadata": {},
   "source": [
    "### **Implementation**\n",
    "\n",
    ":::::::::::::::::::::::::::::::::::: callout\n",
    "## Remember\n",
    "To implement a ```list``` in Python, we place the values separated by commas inside square brackets <span style=\"color: rgb(32, 121, 77);\">[1, 2, 3, ...]</span>.\n",
    "\n",
    "::::::::::::::::::::::::::::::::::::"
   ]
  },
  {
   "cell_type": "code",
   "execution_count": null,
   "id": "19ac6776",
   "metadata": {
    "lines_to_next_cell": 2
   },
   "outputs": [],
   "source": [
    "table = [5, 21, 5, -1]\n",
    "\n",
    "print(table)\n"
   ]
  },
  {
   "cell_type": "code",
   "execution_count": null,
   "id": "971b4019",
   "metadata": {},
   "outputs": [],
   "source": [
    "\n",
    "print(type(table))\n"
   ]
  },
  {
   "cell_type": "markdown",
   "id": "09b52b40",
   "metadata": {},
   "source": [
    "::::::::::::::::::::::::::::::: challenge\n",
    "\n",
    "## Do it Yourself {#diy:array:list:fibonacci}\n",
    "\n",
    "Implement a ```list``` array called <span style=\"color: rgb(32, 121, 77);\">fibonacci</span>, whose members represent the first 8 numbers of the [Fibonacci sequence](https://en.wikipedia.org/wiki/Fibonacci_number) as follows:\n",
    "\n",
    "| FIBONACCI NUMBERS (FIRST 8) |   |   |   |   |   |    |    |\n",
    "|:---------------------------:|:---:|:---:|:---:|:---:|:---:|:---:|:---:|\n",
    "| 1 | 1 | 2 | 3 | 5 | 8 | 13 | 21 |"
   ]
  },
  {
   "cell_type": "markdown",
   "id": "c8d80348",
   "metadata": {},
   "source": [
    "::::::::::::::::: solution\n",
    "\n",
    "## DIY ANSWER"
   ]
  },
  {
   "cell_type": "code",
   "execution_count": null,
   "id": "ecb322fb",
   "metadata": {},
   "outputs": [],
   "source": [
    "fibonacci = [1, 1, 2, 3, 5, 8, 13, 21]"
   ]
  },
  {
   "cell_type": "markdown",
   "id": "891f5c18",
   "metadata": {},
   "source": [
    ":::::::::::::::::\n",
    "\n",
    ":::::::::::::::::::::::::::::::"
   ]
  },
  {
   "cell_type": "markdown",
   "id": "36dee726",
   "metadata": {},
   "source": [
    "### **Indexing** {#sec:list:indexing}\n",
    "\n",
    "In arrays, an index is an integer number that corresponds to a specific item.\n",
    "\n",
    "<p style='text-align: justify;'>\n",
    "You can think of an index as a *unique reference* or a *key* that corresponds to a specific row in a table. We don't always write the row number when we create a table. However, we always know that the 3^rd^ row of a table means that we start from the first row (row \\#1), count 3 rows down and there we find the 3^rd^ row.\n",
    "</p>\n",
    "\n",
    "<p style='text-align: justify;'>\n",
    "The only difference in Python is that we don't take the first row as row \\#1; instead, we consider it to be row \\#0. As a consequence of starting from \\#0, we count rows in our table down to row \\#2 instead of \\#3 to find the 3^rd^ row. So our table may in essence be visualised as follows:\n",
    "</p>\n",
    "\n",
    "![](fig/indexing_diagram.png)\n",
    "\n",
    "::::::::::::::::::::::::::::::::::: callout\n",
    "## Remember\n",
    "Python uses a zero-based indexing system. This means that the first row of an array, regardless of its type, is always \\#0.\n",
    "\n",
    ":::::::::::::::::::::::::::::::::::\n",
    "\n",
    "With that in mind, we can use the index for each value to retrieve it from a ```list```.\n",
    "\n",
    "Given a ```list``` of 4 members stored in a variable called <span style=\"color: rgb(32, 121, 77);\">table</span>:\n",
    "\n",
    "```\n",
    "table = [5, 21, 5, -1]\n",
    "```\n",
    "\n",
    "we can visualise the referencing protocol in Python as follows:\n",
    "![](fig/indexing_diagram2.png)\n",
    "<p style='text-align: justify;'>\n",
    "As demonstrated in the diagram; to retrieve a member of an array through its index, we write the name of the variable immediately followed by the index value inside a pair of square brackets --- *e.g.* <span style=\"color: rgb(32, 121, 77);\">table[2]</span>.\n",
    "</p>"
   ]
  },
  {
   "cell_type": "code",
   "execution_count": null,
   "id": "c52b93c9",
   "metadata": {},
   "outputs": [],
   "source": [
    "print(table[2])"
   ]
  },
  {
   "cell_type": "code",
   "execution_count": null,
   "id": "0082d994",
   "metadata": {},
   "outputs": [],
   "source": [
    "print(table[0])"
   ]
  },
  {
   "cell_type": "code",
   "execution_count": null,
   "id": "77a43971",
   "metadata": {},
   "outputs": [],
   "source": [
    "item = table[3]\n",
    "\n",
    "print(item)\n"
   ]
  },
  {
   "cell_type": "markdown",
   "id": "0b4075c7",
   "metadata": {},
   "source": [
    "::::::::::::::::::::::::::::::: challenge\n",
    "\n",
    "## Do it Yourself\n",
    "\n",
    "Retrieve and display the 5^th^ Fibonacci number from the ```list``` you created in previous [DIY](#diy:array:list:fibonacci)."
   ]
  },
  {
   "cell_type": "markdown",
   "id": "0b227ff7",
   "metadata": {},
   "source": [
    "::::::::::::::::: solution\n",
    "\n",
    "## DIY ANSWER"
   ]
  },
  {
   "cell_type": "code",
   "execution_count": null,
   "id": "787f98c6",
   "metadata": {
    "lines_to_next_cell": 0
   },
   "outputs": [],
   "source": [
    "print(fibonacci[4])"
   ]
  },
  {
   "cell_type": "markdown",
   "id": "8238ab69",
   "metadata": {},
   "source": [
    ":::::::::::::::::\n",
    "\n",
    ":::::::::::::::::::::::::::::::\n",
    "\n",
    "<p style='text-align: justify;'>\n",
    "It is sometimes more convenient to index an array backwards --- that is, to reference the members from the bottom of the array. This is called *negative indexing* and is particularly useful when we are dealing with very lengthy arrays. The indexing system in Python support both positive and negative indexing systems.\n",
    "</p>\n",
    "\n",
    "The table above therefore may also be represented as follows:\n",
    "\n",
    "![](fig/indexing_diagram3.png)\n",
    "\n",
    ":::::::::::::::::::::::::::::::::::: callout\n",
    "## Remember\n",
    "Unlike the normal indexing system, which starts from \\#0, negative indexes start from \\#-1 so that it will always be clear which indexing system is being used.\n",
    "\n",
    "::::::::::::::::::::::::::::::::::::\n",
    "\n",
    "If the index is a negative number, the indices are counted from the end of the ```list```. We can implement negative indices the same way we do positive ones:"
   ]
  },
  {
   "cell_type": "code",
   "execution_count": null,
   "id": "0b9ced70",
   "metadata": {},
   "outputs": [],
   "source": [
    "print(table[-1])"
   ]
  },
  {
   "cell_type": "code",
   "execution_count": null,
   "id": "5d04a80f",
   "metadata": {},
   "outputs": [],
   "source": [
    "print(table[-2])"
   ]
  },
  {
   "cell_type": "code",
   "execution_count": null,
   "id": "d5c2ca60",
   "metadata": {
    "lines_to_next_cell": 2
   },
   "outputs": [],
   "source": [
    "print(table[-3])"
   ]
  },
  {
   "cell_type": "markdown",
   "id": "b6f64561",
   "metadata": {},
   "source": [
    "We know that in <span style=\"color: rgb(32, 121, 77);\">table</span>, index \\#-3 refers the same value as index \\#1. So let us go ahead and test this:"
   ]
  },
  {
   "cell_type": "code",
   "execution_count": null,
   "id": "6afe1642",
   "metadata": {
    "lines_to_next_cell": 2
   },
   "outputs": [],
   "source": [
    "equivalence = table[-3] == table[1]\n",
    "\n",
    "print(equivalence)"
   ]
  },
  {
   "cell_type": "markdown",
   "id": "f3e5f1fa",
   "metadata": {},
   "source": [
    "If the index requested is larger than the length of the ```list``` minus one, an ```IndexError``` will be raised:"
   ]
  },
  {
   "cell_type": "code",
   "execution_count": null,
   "id": "b33b31ad",
   "metadata": {},
   "outputs": [],
   "source": [
    "print(table[4])"
   ]
  },
  {
   "cell_type": "markdown",
   "id": "a49f6ddf",
   "metadata": {},
   "source": [
    ":::::::::::::::::::::::::::::::::::: callout\n",
    "## Remember\n",
    "The values stored in a ```list``` may be referred to as the **members** of that ```list```.\n",
    "\n",
    "::::::::::::::::::::::::::::::::::::\n",
    "\n",
    "::::::::::::::::::::::::::::::: challenge\n",
    "\n",
    "## Do it Yourself\n",
    "\n",
    "Retrieve and display the *last* Fibonacci number from the ```list``` you created in [DIY](#diy:array:list:fibonacci)."
   ]
  },
  {
   "cell_type": "markdown",
   "id": "ba535ed9",
   "metadata": {
    "lines_to_next_cell": 0
   },
   "source": [
    "::::::::::::::::: solution\n",
    "\n",
    "## DIY ANSWER"
   ]
  },
  {
   "cell_type": "code",
   "execution_count": null,
   "id": "bd033d86",
   "metadata": {},
   "outputs": [],
   "source": [
    "print(fibonacci[-1])"
   ]
  },
  {
   "cell_type": "markdown",
   "id": "2564e7d2",
   "metadata": {},
   "source": [
    ":::::::::::::::::\n",
    "\n",
    ":::::::::::::::::::::::::::::::\n"
   ]
  },
  {
   "cell_type": "markdown",
   "id": "38a79922",
   "metadata": {},
   "source": [
    "### **Slicing** {#sec:list:slicing}\n",
    "\n",
    "We may retrieve more than one value from a ```list``` at a time, as long as the values are in *consecutive* rows. This process is known as \\emph{slicing}, and may be visualised as follows:\n",
    "\n",
    "![](fig/slicing_diagram.png)\n",
    "\n",
    ":::::::::::::::::::::::::::::::::::: callout\n",
    "## Remember\n",
    "Python is a **non-inclusive** language. This means that in <span style=\"color: rgb(32, 121, 77);\">table[a:b]</span>, a *slice* includes all the values from, and including index <span style=\"color: rgb(32, 121, 77);\">a</span> right down to, but *excluding*, index <span style=\"color: rgb(32, 121, 77);\">b</span>.\n",
    "\n",
    "::::::::::::::::::::::::::::::::::::\n",
    "\n",
    "Given a ```list``` representing the above table:\n",
    "\n",
    "```\n",
    "table = [5, 21, 5, -1]\n",
    "```\n",
    "\n",
    "we may retrieve a slice of <span style=\"color: rgb(32, 121, 77);\">table</span> as follows:"
   ]
  },
  {
   "cell_type": "code",
   "execution_count": null,
   "id": "4103fdf6",
   "metadata": {},
   "outputs": [],
   "source": [
    "my_slice = table[1:3]\n",
    "\n",
    "print(my_slice)"
   ]
  },
  {
   "cell_type": "code",
   "execution_count": null,
   "id": "703d9d65",
   "metadata": {},
   "outputs": [],
   "source": [
    "print(table[0:2])"
   ]
  },
  {
   "cell_type": "markdown",
   "id": "aaeef68d",
   "metadata": {},
   "source": [
    "If the first index of a slice is \\#0, the slice may also be written as:"
   ]
  },
  {
   "cell_type": "code",
   "execution_count": null,
   "id": "bc514463",
   "metadata": {},
   "outputs": [],
   "source": [
    "print(table[:2])"
   ]
  },
  {
   "cell_type": "markdown",
   "id": "ebb0474b",
   "metadata": {},
   "source": [
    "Negative slicing is also possible:"
   ]
  },
  {
   "cell_type": "code",
   "execution_count": null,
   "id": "08d234dd",
   "metadata": {},
   "outputs": [],
   "source": [
    "# Retrieves every item from the first member down\n",
    "# to, but excluding the last one:\n",
    "print(table[:-1])"
   ]
  },
  {
   "cell_type": "code",
   "execution_count": null,
   "id": "d06b7085",
   "metadata": {},
   "outputs": [],
   "source": [
    "print(table[1:-2])"
   ]
  },
  {
   "cell_type": "markdown",
   "id": "c8539f6e",
   "metadata": {
    "lines_to_next_cell": 0
   },
   "source": [
    "If the second index of a slice represents the last index of a ```list```, it be written as:"
   ]
  },
  {
   "cell_type": "code",
   "execution_count": null,
   "id": "34f7389a",
   "metadata": {},
   "outputs": [],
   "source": [
    "print(table[2:])"
   ]
  },
  {
   "cell_type": "code",
   "execution_count": null,
   "id": "debd558a",
   "metadata": {},
   "outputs": [],
   "source": [
    "print(table[-3:])"
   ]
  },
  {
   "cell_type": "markdown",
   "id": "53237fe1",
   "metadata": {},
   "source": [
    "We may store indices and slices in variables:"
   ]
  },
  {
   "cell_type": "code",
   "execution_count": null,
   "id": "747cc73c",
   "metadata": {
    "lines_to_next_cell": 2
   },
   "outputs": [],
   "source": [
    "start, end = 1, 3\n",
    "new_table = table[start:end]\n",
    "\n",
    "print(new_table)"
   ]
  },
  {
   "cell_type": "markdown",
   "id": "1801f892",
   "metadata": {
    "lines_to_next_cell": 0
   },
   "source": [
    "The <kbd>slice()</kbd> function may also be used to create a slice variable:"
   ]
  },
  {
   "cell_type": "code",
   "execution_count": null,
   "id": "d53e56d9",
   "metadata": {},
   "outputs": [],
   "source": [
    "my_slice = slice(1, 3)\n",
    "\n",
    "print(table[my_slice])"
   ]
  },
  {
   "cell_type": "markdown",
   "id": "d106be53",
   "metadata": {},
   "source": [
    "::::::::::::::::::::::::::::::: challenge\n",
    "\n",
    "## Do it Yourself\n",
    "<p style='text-align: justify;'>\n",
    "Retrieve and display a slice of Fibonacci numbers from the ```list``` you created in [DIY](#diy:array:list:fibonacci) that includes all the members from the 2nd number onwards --- *i.e*.  the slice must not include the first value in the ```list```.\n",
    "</p>\n",
    "\n",
    "::::::::::::::::: solution\n",
    "\n",
    "## DIY ANSWER"
   ]
  },
  {
   "cell_type": "code",
   "execution_count": null,
   "id": "f9b83eea",
   "metadata": {},
   "outputs": [],
   "source": [
    "print(fibonacci[1:])"
   ]
  },
  {
   "cell_type": "markdown",
   "id": "21d7a0f0",
   "metadata": {},
   "source": [
    ":::::::::::::::::\n",
    "\n",
    ":::::::::::::::::::::::::::::::\n",
    "\n",
    ":::::::::::::::::::::::::::::::::::: callout\n",
    "## Note\n",
    "<p style='text-align: justify;'>\n",
    "**Methods** are features of [Object-Oriented Programming (OOP)](https://en.wikipedia.org/wiki/Object-oriented_programming), a programming paradigm that we do not discuss in the context of this course. You can think of a *method* as a *function* that is associated with a specific *type*. The job of a *method* is to provide a certain functionality unique to the *type* it is associated with. In this case, ```.index()``` is a *method* of type ```list``` that given a value, finds and produces its index from the ```list```.\n",
    "</p>\n",
    "\n",
    "::::::::::::::::::::::::::::::::::::"
   ]
  },
  {
   "cell_type": "markdown",
   "id": "9282c4b5",
   "metadata": {},
   "source": [
    "### **From value to index**\n",
    "\n",
    "Given a ```list``` entitled <span style=\"color: rgb(32, 121, 77);\">table</span> as:"
   ]
  },
  {
   "cell_type": "code",
   "execution_count": null,
   "id": "df701455",
   "metadata": {
    "lines_to_next_cell": 2
   },
   "outputs": [],
   "source": [
    "table = [5, 21, 5, -1]"
   ]
  },
  {
   "cell_type": "markdown",
   "id": "23f808cb",
   "metadata": {},
   "source": [
    "we can also find out the index of a specific value. To do so, we use the <kbd>.index()</kbd> *method*:"
   ]
  },
  {
   "cell_type": "code",
   "execution_count": null,
   "id": "ccb260ff",
   "metadata": {},
   "outputs": [],
   "source": [
    "print(table.index(21))"
   ]
  },
  {
   "cell_type": "code",
   "execution_count": null,
   "id": "80151baa",
   "metadata": {
    "lines_to_next_cell": 2
   },
   "outputs": [],
   "source": [
    "last_item = table.index(-1)\n",
    "\n",
    "print(last_item)"
   ]
  },
  {
   "cell_type": "markdown",
   "id": "1d18679c",
   "metadata": {
    "lines_to_next_cell": 0
   },
   "source": [
    "If a value is repeated more than once in the  ```list```, the index corresponding to the *first* instance of that value is returned:"
   ]
  },
  {
   "cell_type": "code",
   "execution_count": null,
   "id": "cb8bd78e",
   "metadata": {},
   "outputs": [],
   "source": [
    "print(table.index(5))"
   ]
  },
  {
   "cell_type": "markdown",
   "id": "f87ff476",
   "metadata": {},
   "source": [
    "If a value does *not* exist in the ```list```, using <kbd>.index()</kbd> will raise a ```ValueError```:"
   ]
  },
  {
   "cell_type": "code",
   "execution_count": null,
   "id": "5e45a318",
   "metadata": {
    "lines_to_next_cell": 2
   },
   "outputs": [],
   "source": [
    "print(table.index(9))"
   ]
  },
  {
   "cell_type": "markdown",
   "id": "e1b26180",
   "metadata": {},
   "source": [
    "::::::::::::::::::::::::::::::: challenge\n",
    "\n",
    "## Do it Yourself\n",
    "\n",
    "Find and display the index of these values from the ```list``` of Fibonacci numbers that you created in [DIY](#diy:array:list:fibonacci):\n",
    "\n",
    "* 1\n",
    "* 5\n",
    "* 21"
   ]
  },
  {
   "cell_type": "markdown",
   "id": "86d3a401",
   "metadata": {},
   "source": [
    "::::::::::::::::: solution\n",
    "\n",
    "## DIY ANSWER"
   ]
  },
  {
   "cell_type": "code",
   "execution_count": null,
   "id": "356a5f9e",
   "metadata": {
    "results": "hold"
   },
   "outputs": [],
   "source": [
    "print(fibonacci.index(1))\n",
    "\n",
    "print(fibonacci.index(5))\n",
    "\n",
    "print(fibonacci.index(21))\n"
   ]
  },
  {
   "cell_type": "markdown",
   "id": "dc00dd6b",
   "metadata": {},
   "source": [
    ":::::::::::::::::\n",
    "\n",
    ":::::::::::::::::::::::::::::::\n",
    "\n",
    "### **Mutability** {#subsubsec:list:mutability}\n",
    "<p style='text-align: justify;'>\n",
    "Arrays of type ```list``` are modifiable. That is, we can add new values, change the existing ones, or remove them from the array all together. Variable types that allow their contents to be modified are referred to as *mutable types* in programming.\n",
    "</p>\n",
    "\n",
    "#### **Addition of new members**\n",
    "\n",
    "Given a ```list``` called <span style=\"color: rgb(32, 121, 77);\">table</span> as:\n",
    "\n",
    "\\begin{lstlisting}\n",
    "\ttable = [5, 21, 5, -1]\n",
    "\\end{lstlisting}\n",
    "\n",
    "We can add new values to <span style=\"color: rgb(32, 121, 77);\">table</span> using <kbd>.append()</kbd>:"
   ]
  },
  {
   "cell_type": "code",
   "execution_count": null,
   "id": "c233f45f",
   "metadata": {},
   "outputs": [],
   "source": [
    "table.append(29)\n",
    "\n",
    "print(table)"
   ]
  },
  {
   "cell_type": "code",
   "execution_count": null,
   "id": "9f063c91",
   "metadata": {},
   "outputs": [],
   "source": [
    "table.append('a text')\n",
    "\n",
    "print(table)"
   ]
  },
  {
   "cell_type": "markdown",
   "id": "4329b651",
   "metadata": {},
   "source": [
    "<p style='text-align: justify;'>\n",
    "Sometimes, it may be necessary to insert a value at a specific index in a ```list```. To do so, we may use <kbd>.insert()</kbd>, which takes two input arguments; the first representing the index, and the second the value to be inserted:\n",
    "</p>"
   ]
  },
  {
   "cell_type": "code",
   "execution_count": null,
   "id": "23485a81",
   "metadata": {},
   "outputs": [],
   "source": [
    "table.insert(3, 56)\n",
    "\n",
    "print(table)"
   ]
  },
  {
   "cell_type": "markdown",
   "id": "281d3061",
   "metadata": {},
   "source": [
    "::::::::::::::::::::::::::::::: challenge\n",
    "\n",
    "## Do it Yourself\n",
    "\n",
    "Given <span style=\"color: rgb(32, 121, 77);\">fibonacci</span> the ```list``` representing the first 8 numbers in the Fibonacci sequence that you created in [DIY](#diy:array:list:fibonacci):\n",
    "\n",
    "1. The 10^th^ number in the Fibonacci sequence is 55. Add this value to <span style=\"color: rgb(32, 121, 77);\">fibonacci</span>.\n",
    "\n",
    "2. Now that you have added 55 to the ```list```, it no longer provides a correct representation of the Fibonacci sequence. Alter <span style=\"color: rgb(32, 121, 77);\">fibonacci</span> and insert the missing number such that your it correctly represents the first 10 numbers in the Fibonacci sequence, as follows:\n"
   ]
  },
  {
   "cell_type": "markdown",
   "id": "4f6690fe",
   "metadata": {
    "lines_to_next_cell": 0
   },
   "source": [
    "| FIBONACCI NUMBERS (FIRST 8) |   |   |   |   |   |    |    |   |   |\n",
    "|:---------------------------:|:---:|:---:|:---:|:---:|:---:|:---:|:---:|:---:|:---:|\n",
    "| 1 | 1 | 2 | 3 | 5 | 8 | 13 | 21 | 34 | 55 |\n",
    "\n",
    "::::::::::::::::: solution\n",
    "\n",
    "## Q1"
   ]
  },
  {
   "cell_type": "code",
   "execution_count": null,
   "id": "f01e0358",
   "metadata": {},
   "outputs": [],
   "source": [
    "fibonacci.append(55)"
   ]
  },
  {
   "cell_type": "markdown",
   "id": "05c6b53c",
   "metadata": {
    "lines_to_next_cell": 0
   },
   "source": [
    ":::::::::::::::::\n",
    "\n",
    "::::::::::::::::: solution\n",
    "\n",
    "## Q2"
   ]
  },
  {
   "cell_type": "code",
   "execution_count": null,
   "id": "5b04834b",
   "metadata": {},
   "outputs": [],
   "source": [
    "fibonacci.insert(8, 34)"
   ]
  },
  {
   "cell_type": "markdown",
   "id": "a0c6ccbc",
   "metadata": {},
   "source": [
    ":::::::::::::::::\n",
    "\n",
    ":::::::::::::::::::::::::::::::\n",
    "\n",
    "#### **Modification of members**\n",
    "\n",
    "Given a ```list``` as:"
   ]
  },
  {
   "cell_type": "code",
   "execution_count": null,
   "id": "eca53916",
   "metadata": {},
   "outputs": [],
   "source": [
    "table = [5, 21, 5, 56, -1, 29, 'a text']"
   ]
  },
  {
   "cell_type": "markdown",
   "id": "c42feefb",
   "metadata": {},
   "source": [
    "We can also modify the exiting value or values inside a ```list```. This process is sometimes referred to as *item assignment*:"
   ]
  },
  {
   "cell_type": "code",
   "execution_count": null,
   "id": "27aa67b8",
   "metadata": {},
   "outputs": [],
   "source": [
    "# Changing the value of the 2nd member.\n",
    "\n",
    "table[1] = 174\n",
    "\n",
    "print(table)"
   ]
  },
  {
   "cell_type": "code",
   "execution_count": null,
   "id": "10ab8c14",
   "metadata": {},
   "outputs": [],
   "source": [
    "table[-4] = 19\n",
    "\n",
    "print(table)"
   ]
  },
  {
   "cell_type": "markdown",
   "id": "dfb008bc",
   "metadata": {},
   "source": [
    "<p style='text-align: justify;'>\n",
    "It is also possible to perform *item assignment* over a *slice* containing any number of values. Note that when modifying a slice, the replacement values must be the same length as the slice we are trying to replace:\n",
    "</p>"
   ]
  },
  {
   "cell_type": "code",
   "execution_count": null,
   "id": "910aac17",
   "metadata": {
    "results": "hold"
   },
   "outputs": [],
   "source": [
    "print('Before:', table)\n",
    "\n",
    "replacement = [-38, 0]\n",
    "\n",
    "print('Replacement length:', len(replacement))\n",
    "print('Replacement length:', len(table[2:4]))\n",
    "\n",
    "# The replacement process:\n",
    "table[2:4] = replacement\n",
    "\n",
    "print('After:', table)"
   ]
  },
  {
   "cell_type": "code",
   "execution_count": null,
   "id": "64a9bb8a",
   "metadata": {
    "lines_to_next_cell": 2
   },
   "outputs": [],
   "source": [
    "# Using the existing value to determine the new value:\n",
    "table[2] = table[2] + 50\n",
    "\n",
    "print(table)"
   ]
  },
  {
   "cell_type": "markdown",
   "id": "a6a60ff2",
   "metadata": {},
   "source": [
    "::::::::::::::::::::::::::::::: challenge\n",
    "\n",
    "## Do it Yourself\n",
    "\n",
    "Given a ```list``` containing the first 10 [prime numbers](https://en.wikipedia.org/wiki/Prime_number) as:\n",
    "\n",
    "```\n",
    "primes = [2, 3, 5, 11, 7, 13, 17, 19, 23, 29]\n",
    "\n",
    "```\n",
    "<p style='text-align: justify;'>\n",
    "However, values 11 and 7 have been misplaced in the sequence. Correct the order by replacing the slice of <span style=\"color: rgb(32, 121, 77);\">primes</span> that represents <span style=\"color: rgb(32, 121, 77);\">[11, 7]</span> with <span style=\"color: rgb(32, 121, 77);\">[7, 11]</span>.\n",
    "</p>\n",
    "\n",
    "::::::::::::::::: solution\n",
    "\n",
    "## DIY ANSWER"
   ]
  },
  {
   "cell_type": "code",
   "execution_count": null,
   "id": "b018c00b",
   "metadata": {
    "lines_to_next_cell": 0
   },
   "outputs": [],
   "source": [
    "primes = [2, 3, 5, 11, 7, 13, 17, 19, 23, 29]\n",
    "\n",
    "primes[3:5] = [7, 11]"
   ]
  },
  {
   "cell_type": "markdown",
   "id": "11a46a0b",
   "metadata": {},
   "source": [
    ":::::::::::::::::\n",
    "\n",
    ":::::::::::::::::::::::::::::::\n",
    "\n",
    "#### **Removal of members**\n",
    "<p style='text-align: justify;'>\n",
    "When removing a value from a ```list``` array, we have two options depending on our needs: we either remove the member and retain the value in another variable, or we remove it and dispose of the value.\n",
    "</p>\n",
    "\n",
    "<p style='text-align: justify;'>\n",
    "To remove a value from a ```list``` without retaining it, we use <kbd>.remove()</kbd>. The method takes one input argument, which is the value we would like to remove from our ```list```:\n",
    "</p>"
   ]
  },
  {
   "cell_type": "code",
   "execution_count": null,
   "id": "b095a6db",
   "metadata": {
    "lines_to_next_cell": 2
   },
   "outputs": [],
   "source": [
    "table.remove(174)\n",
    "\n",
    "print(table)"
   ]
  },
  {
   "cell_type": "markdown",
   "id": "c0d3dd34",
   "metadata": {},
   "source": [
    "Alternatively, we can use <kbd>del</kbd>; a Python syntax that we can use in this context to delete a specific member using its index:"
   ]
  },
  {
   "cell_type": "code",
   "execution_count": null,
   "id": "97a40091",
   "metadata": {
    "lines_to_next_cell": 0
   },
   "outputs": [],
   "source": [
    "del table[-1]\n",
    "\n",
    "print(table)"
   ]
  },
  {
   "cell_type": "markdown",
   "id": "c285809e",
   "metadata": {},
   "source": [
    "<p style='text-align: justify;'>\n",
    "As established above, we can also delete a member and retain its value. Of course we can do so by holding the value inside another variable before deleting it.\n",
    "</p>\n",
    "<p style='text-align: justify;'>\n",
    "Whilst that is a valid approach, Python's ```list``` provide us with <kbd>.pop()</kbd> to simplify the process even further. The method takes one input argument for the index of the member to be removed. It removes the member from the ```list``` and returns its value, so that we can retain it in a variable:\n",
    "</p>"
   ]
  },
  {
   "cell_type": "code",
   "execution_count": null,
   "id": "6fc2312e",
   "metadata": {
    "results": "hold"
   },
   "outputs": [],
   "source": [
    "removed_value = table.pop(2)\n",
    "\n",
    "print('Removed value:', removed_value)\n",
    "print(table)"
   ]
  },
  {
   "cell_type": "markdown",
   "id": "53010039",
   "metadata": {},
   "source": [
    "::::::::::::::::::::::::::::::: challenge\n",
    "\n",
    "## Do it Yourself\n",
    "\n",
    "We know that the nucleotides of DNA include <span style=\"color: rgb(32, 121, 77);\">A</span>, <span style=\"color: rgb(32, 121, 77);\">C</span>, <span style=\"color: rgb(32, 121, 77);\">T</span>, and <span style=\"color: rgb(32, 121, 77);\">G</span>.\n",
    "\n",
    "Given a ```list``` representing the nucleotides of a DNA strand as:\n",
    "\n",
    "```\n",
    "strand = ['A', 'C', 'G', 'G', 'C', 'M', 'T', 'A']\n",
    "```\n",
    "\n",
    "1. Find the index of the invalid nucleotide in <span style=\"color: rgb(32, 121, 77);\">strand</span>.\n",
    "\n",
    "2. Use the index you found to remove the invalid nucleotide from <span style=\"color: rgb(32, 121, 77);\">strand</span> and retain the value in another variable.\n",
    "Display the result as:\n",
    "\n",
    "```\n",
    "Removed from the strand: X\n",
    "New strand: [X, X, X, ...]\n",
    "```\n",
    "\n",
    "3. What do you think happens once we run the following code, and why? What would be the final result displayed on the screen?\n",
    "\n",
    "```\n",
    "strand.remove('G')\n",
    "\n",
    "print(strand)\n",
    "```\n",
    "\n",
    "::::::::::::::::: solution\n",
    "\n",
    "## Q1"
   ]
  },
  {
   "cell_type": "code",
   "execution_count": null,
   "id": "927ea9e3",
   "metadata": {
    "lines_to_next_cell": 0
   },
   "outputs": [],
   "source": [
    "strand = ['A', 'C', 'G', 'G', 'C', 'M', 'T', 'A']\n",
    "\n",
    "outlier_index = strand.index('M')\n"
   ]
  },
  {
   "cell_type": "markdown",
   "id": "a1cf552c",
   "metadata": {},
   "source": [
    ":::::::::::::::::\n",
    "\n",
    "::::::::::::::::: solution\n",
    "\n",
    "## Q2"
   ]
  },
  {
   "cell_type": "code",
   "execution_count": null,
   "id": "23580c98",
   "metadata": {
    "lines_to_next_cell": 0,
    "results": "hold"
   },
   "outputs": [],
   "source": [
    "outlier_value = strand.pop(outlier_index)\n",
    "\n",
    "print('Removed from the strand:', outlier_value)\n",
    "print('New strand:', strand)\n"
   ]
  },
  {
   "cell_type": "markdown",
   "id": "48c687c7",
   "metadata": {},
   "source": [
    ":::::::::::::::::\n",
    "\n",
    "::::::::::::::::: solution\n",
    "\n",
    "## Q3\n",
    "\n",
    "One of the two <span style=\"color: rgb(32, 121, 77);\">G</span> nucleotides, the one at index 2 of the original array, is removed. This means that the <kbd>.remove()</kbd> method removes only *first* instance of a member in an array. The output would therefore be:\n",
    "\n",
    "```\n",
    "['A', 'C', 'G', 'C', 'M', 'T', 'A']\n",
    "```\n",
    ":::::::::::::::::\n",
    ":::::::::::::::::::::::::::::::\n",
    "\n",
    "#### **Method--mediated operations**\n",
    "<p style='text-align: justify;'>\n",
    "We already know that *methods* are akin to functions that are associated with a specific type. In this subsection, we will be looking into how operations are performed using *methods*. To that end, we will not be introducing anything new, but recapitulate what we already know from different perspectives.\n",
    "</p>\n",
    "\n",
    "<p style='text-align: justify;'>\n",
    "So far in this chapter, we have learned how to perform different operations on ```list``` arrays in Python. You may have noticed that some operations return a result that we can store in a variable, whilst others change the original value.\n",
    "</p>\n",
    "With that in mind, we can divide operations performed using *methods* into two general categories:\n",
    "\n",
    "1. Operations that return a result *without* changing the original array:"
   ]
  },
  {
   "cell_type": "code",
   "execution_count": null,
   "id": "aec7a41a",
   "metadata": {
    "lines_to_next_cell": 2,
    "results": "hold"
   },
   "outputs": [],
   "source": [
    "table = [1, 2, 3, 4]\n",
    "\n",
    "index = table.index(3)\n",
    "\n",
    "print(index)\n",
    "print(table)"
   ]
  },
  {
   "cell_type": "markdown",
   "id": "98231d76",
   "metadata": {},
   "source": [
    "2. Operations that use specific **methods** to *change* the original array, but do *not* necessarily return anything (in-place operations):"
   ]
  },
  {
   "cell_type": "code",
   "execution_count": null,
   "id": "953ab278",
   "metadata": {
    "lines_to_next_cell": 2
   },
   "outputs": [],
   "source": [
    "table = [1, 2, 3, 4]\n",
    "\n",
    "table.append(5)\n",
    "\n",
    "print(table)"
   ]
  },
  {
   "cell_type": "markdown",
   "id": "d7dfb1fd",
   "metadata": {},
   "source": [
    "If we attempt to store the output of an operation that does not a return result inside a variable, the variable will be created, but its value will be set to ```None```:"
   ]
  },
  {
   "cell_type": "code",
   "execution_count": null,
   "id": "8e3357ed",
   "metadata": {
    "lines_to_next_cell": 2,
    "results": "hold"
   },
   "outputs": [],
   "source": [
    "result = table.append(6)\n",
    "\n",
    "print(result)\n",
    "print(table)"
   ]
  },
  {
   "cell_type": "markdown",
   "id": "69350804",
   "metadata": {},
   "source": [
    "It is important to know the difference between these types of operations. So as a rule of thumb, when we use *methods* to perform an operation, we can only change the original value if it is an instance of a *mutable* type. See [Table](02-input_output.Rmd#fig:nativeTypes) to find out which built-in types are mutable in Python.\n",
    "\n",
    "The *methods* that are associated with *immutable* objects always return the results and do not provide the ability to alter the original value:\n",
    "\n",
    "* In-place operation on a *mutable* object of type ```list```:"
   ]
  },
  {
   "cell_type": "code",
   "execution_count": null,
   "id": "1b77d26f",
   "metadata": {
    "lines_to_next_cell": 2
   },
   "outputs": [],
   "source": [
    "table = [5, 6, 7]\n",
    "\n",
    "table.remove(6)\n",
    "\n",
    "print(table)"
   ]
  },
  {
   "cell_type": "markdown",
   "id": "8ee243ad",
   "metadata": {},
   "source": [
    "* In-place operation on an *immutable* object of type ```str```:"
   ]
  },
  {
   "cell_type": "code",
   "execution_count": null,
   "id": "ce8a489d",
   "metadata": {},
   "outputs": [],
   "source": [
    "string = '567'\n",
    "\n",
    "string.remove(20)\n",
    "\n",
    "print(string)"
   ]
  },
  {
   "cell_type": "markdown",
   "id": "0f9ebb29",
   "metadata": {},
   "source": [
    "* Normal operation on a *mutable* object of type ```list```:"
   ]
  },
  {
   "cell_type": "code",
   "execution_count": null,
   "id": "fa44a100",
   "metadata": {},
   "outputs": [],
   "source": [
    "\n",
    "table = [5, 6, 7]\n",
    "\n",
    "ind = table.index(6)\n",
    "\n",
    "print(ind)"
   ]
  },
  {
   "cell_type": "markdown",
   "id": "3428e13b",
   "metadata": {},
   "source": [
    "* Normal operation on a *mutable* object of type ```list```:"
   ]
  },
  {
   "cell_type": "code",
   "execution_count": null,
   "id": "82beaeeb",
   "metadata": {
    "lines_to_next_cell": 2
   },
   "outputs": [],
   "source": [
    "string = '567'\n",
    "\n",
    "ind = string.index('6')\n",
    "\n",
    "print(ind)"
   ]
  },
  {
   "cell_type": "markdown",
   "id": "9521b466",
   "metadata": {},
   "source": [
    "### **List members**{#listMem}\n",
    "<p style='text-align: justify;'>\n",
    "A ```list``` is a collection of members that are independent of each other. Each member has its own [type](02-input_output.Rmd#varTypes), and is therefore subject to the properties and limitation of that type:\n",
    "</p>"
   ]
  },
  {
   "cell_type": "code",
   "execution_count": null,
   "id": "e222a0f1",
   "metadata": {
    "lines_to_next_cell": 0,
    "results": "hold"
   },
   "outputs": [],
   "source": [
    "table = [1, 2.1, 'abc']\n",
    "\n",
    "print(type(table[0]))\n",
    "print(type(table[1]))\n",
    "print(type(table[2]))"
   ]
  },
  {
   "cell_type": "markdown",
   "id": "d9b8a177",
   "metadata": {},
   "source": [
    "<p style='text-align: justify;'>\n",
    "For instance, mathematical operations may be considered a feature of all numeric types demonstrated in [Table](02-input_output.Rmd#fig:nativeTypes). However, unless in specific circumstance described in subsection [Non-numeric values](02-input_output.Rmd#subsubsec:mathematicalOperations:nonNumerics), such operations do not apply to instance of type ```str```.\n",
    "</p>"
   ]
  },
  {
   "cell_type": "code",
   "execution_count": null,
   "id": "2b84872d",
   "metadata": {
    "lines_to_next_cell": 0,
    "results": "hold"
   },
   "outputs": [],
   "source": [
    "table = [1, 2.1, 'abc']\n",
    "\n",
    "table[0] += 1\n",
    "table[-1] += 'def'\n",
    "\n",
    "print(table)"
   ]
  },
  {
   "cell_type": "markdown",
   "id": "6b7689d1",
   "metadata": {},
   "source": [
    "<p style='text-align: justify;'>\n",
    "Likewise, the ```list``` plays the role of a container that may incorporate any number of values. Thus far, we have learned how to handle individual members of a ```list```. In this subsection, we will be looking at several techniques that help us address different circumstances where we look at a ```list``` from a 'wholist' perspective; that is, a container whose members are unknown to us.\n",
    "</p>\n",
    "\n",
    "#### **Membership test**\n",
    "[**Membership test operations [advanced]**](https://docs.python.org/3/reference/expressions.html\\#membership-test-operations)\n",
    "\n",
    "We can check to see whether or not a specific value is a member of a ```list``` using the operator syntax <kbd>in</kbd>:"
   ]
  },
  {
   "cell_type": "code",
   "execution_count": null,
   "id": "e5a75161",
   "metadata": {},
   "outputs": [],
   "source": [
    "items = [1, 2.4, 'John', 5, 4]\n",
    "\n",
    "print(2.4 in items)"
   ]
  },
  {
   "cell_type": "code",
   "execution_count": null,
   "id": "109fba63",
   "metadata": {},
   "outputs": [],
   "source": [
    "print(3 in items)"
   ]
  },
  {
   "cell_type": "markdown",
   "id": "5181aba1",
   "metadata": {
    "lines_to_next_cell": 0
   },
   "source": [
    "The results may be stored in a variable:"
   ]
  },
  {
   "cell_type": "code",
   "execution_count": null,
   "id": "18129f47",
   "metadata": {},
   "outputs": [],
   "source": [
    "has_five = 5 in items\n",
    "\n",
    "print(has_five)"
   ]
  },
  {
   "cell_type": "markdown",
   "id": "7da987cf",
   "metadata": {},
   "source": [
    "Similar to any other [logical expression](02-input_output.Rmd#subsec:logicalOperatons), we can [negate](02-input_output.Rmd#sec:logicalStatements:Negation) membership tests by using \\texttt{not in}:"
   ]
  },
  {
   "cell_type": "code",
   "execution_count": null,
   "id": "873f656b",
   "metadata": {},
   "outputs": [],
   "source": [
    "expr = 10 not in items\n",
    "\n",
    "print(expr)"
   ]
  },
  {
   "cell_type": "code",
   "execution_count": null,
   "id": "598b0e55",
   "metadata": {},
   "outputs": [],
   "source": [
    "expr = 5 not in items\n",
    "\n",
    "print(expr)"
   ]
  },
  {
   "cell_type": "markdown",
   "id": "dd1c99fe",
   "metadata": {},
   "source": [
    ":::::::::::::::::::::::::::::::::::: callout\n",
    "## Remember\n",
    "\n",
    "When testing against ```str values``` --- *i.e.* text; don't forget that in programming, operations involving texts are *always* case-sensitive."
   ]
  },
  {
   "cell_type": "code",
   "execution_count": null,
   "id": "2317b35b",
   "metadata": {
    "lines_to_next_cell": 0,
    "results": "hold"
   },
   "outputs": [],
   "source": [
    "items = [1, 2.4, 'John', 5, 4]\n",
    "\n",
    "john_capital = 'John'\n",
    "john_small = 'john'\n",
    "\n",
    "print(john_capital in items)\n",
    "print(john_small in items)"
   ]
  },
  {
   "cell_type": "markdown",
   "id": "cb6fefc4",
   "metadata": {},
   "source": [
    "::::::::::::::::::::::::::::::::::::\n",
    "\n",
    "For *numeric* values, ```int``` and ```float``` may be used interchangeably:"
   ]
  },
  {
   "cell_type": "code",
   "execution_count": null,
   "id": "100c88de",
   "metadata": {},
   "outputs": [],
   "source": [
    "print(4 in items)"
   ]
  },
  {
   "cell_type": "code",
   "execution_count": null,
   "id": "48c3eb18",
   "metadata": {
    "lines_to_next_cell": 2
   },
   "outputs": [],
   "source": [
    "print(4.0 in items)"
   ]
  },
  {
   "cell_type": "markdown",
   "id": "1f929d66",
   "metadata": {},
   "source": [
    "Similar to other [logical expression](02-input_output.Rmd#subsec:logicalOperatons), membership tests may be incorporated into conditional statements:"
   ]
  },
  {
   "cell_type": "code",
   "execution_count": null,
   "id": "dca01057",
   "metadata": {
    "results": "hold"
   },
   "outputs": [],
   "source": [
    "if 'John' in items:\n",
    "    print('Hello John')\n",
    "else:\n",
    "    print('Hello')"
   ]
  },
  {
   "cell_type": "markdown",
   "id": "311815b5",
   "metadata": {},
   "source": [
    "::::::::::::::::::::::::::::::: challenge\n",
    "\n",
    "## Do it Yourself {#diy:arrays:list:randomPeptides}\n",
    "\n",
    "Given a ```list``` of randomly generated peptide sequences as:"
   ]
  },
  {
   "cell_type": "code",
   "execution_count": null,
   "id": "f4c1499c",
   "metadata": {
    "lines_to_next_cell": 0
   },
   "outputs": [],
   "source": [
    "peptides = [\n",
    "  'FAEKE', 'DMSGG', 'CMGFT', 'HVEFW', 'DCYFH', 'RDFDM', 'RTYRA',\n",
    "  'PVTEQ', 'WITFR', 'SWANQ', 'PFELC', 'KSANR', 'EQKVL', 'SYALD',\n",
    "  'FPNCF', 'SCDYK', 'MFRST', 'KFMII', 'NFYQC', 'LVKVR', 'PQKTF',\n",
    "  'LTWFQ', 'EFAYE', 'GPCCQ', 'VFDYF', 'RYSAY', 'CCTCG', 'ECFMY',\n",
    "  'CPNLY', 'CSMFW', 'NNVSR', 'SLNKF', 'CGRHC', 'LCQCS', 'AVERE',\n",
    "  'MDKHQ', 'YHKTQ', 'HVRWD', 'YNFQW', 'MGCLY', 'CQCCL', 'ACQCL'\n",
    "  ]"
   ]
  },
  {
   "cell_type": "markdown",
   "id": "b8f451c6",
   "metadata": {},
   "source": [
    "Determine whether or not each of the following sequences exist in <span style=\"color: rgb(32, 121, 77);\">peptides</span>; and if so, what is their corresponding index:"
   ]
  },
  {
   "cell_type": "markdown",
   "id": "c2e21928",
   "metadata": {},
   "source": [
    "* <span style=\"color: rgb(32, 121, 77);\">IVADH</span>\n",
    "* <span style=\"color: rgb(32, 121, 77);\">CMGFT</span>\n",
    "*\t<span style=\"color: rgb(32, 121, 77);\">DKAKL</span>\n",
    "* <span style=\"color: rgb(32, 121, 77);\">THGYP</span>\n",
    "* <span style=\"color: rgb(32, 121, 77);\">NNVSR</span>"
   ]
  },
  {
   "cell_type": "markdown",
   "id": "4ef6b3c6",
   "metadata": {},
   "source": [
    "Display the results in the following format:\n",
    "\n",
    "```\n",
    "Sequence XXXXX was found at index XX\n",
    "```\n",
    "::::::::::::::::: solution\n",
    "\n",
    "## Q1"
   ]
  },
  {
   "cell_type": "code",
   "execution_count": null,
   "id": "9f718f89",
   "metadata": {
    "lines_to_next_cell": 0
   },
   "outputs": [],
   "source": [
    "sequence = \"IVADH\"\n",
    "if sequence in peptides:\n",
    "    index = peptides.index(sequence)\n",
    "    print('Sequence', sequence, 'was found at index',  index)\n"
   ]
  },
  {
   "cell_type": "markdown",
   "id": "8b9c2513",
   "metadata": {},
   "source": [
    ":::::::::::::::::\n",
    "\n",
    "::::::::::::::::: solution\n",
    "\n",
    "## Q2"
   ]
  },
  {
   "cell_type": "code",
   "execution_count": null,
   "id": "ff1a8724",
   "metadata": {
    "lines_to_next_cell": 0
   },
   "outputs": [],
   "source": [
    "sequence = \"CMGFT\"\n",
    "if sequence in peptides:\n",
    "    index = peptides.index(sequence)\n",
    "    print('Sequence', sequence, 'was found at index',  index)\n"
   ]
  },
  {
   "cell_type": "markdown",
   "id": "6fefe0f0",
   "metadata": {},
   "source": [
    ":::::::::::::::::\n",
    "\n",
    "::::::::::::::::: solution\n",
    "## Q3"
   ]
  },
  {
   "cell_type": "code",
   "execution_count": null,
   "id": "271adeb2",
   "metadata": {
    "lines_to_next_cell": 0
   },
   "outputs": [],
   "source": [
    "sequence = \"DKAKL\"\n",
    "if sequence in peptides:\n",
    "    index = peptides.index(sequence)\n",
    "    print('Sequence', sequence, 'was found at index',  index)\n"
   ]
  },
  {
   "cell_type": "markdown",
   "id": "475d6395",
   "metadata": {},
   "source": [
    ":::::::::::::::::\n",
    "\n",
    "::::::::::::::::: solution\n",
    "## Q4"
   ]
  },
  {
   "cell_type": "code",
   "execution_count": null,
   "id": "d3a8752c",
   "metadata": {
    "lines_to_next_cell": 0
   },
   "outputs": [],
   "source": [
    "sequence = \"THGYP\"\n",
    "if sequence in peptides:\n",
    "    index = peptides.index(sequence)\n",
    "    print('Sequence', sequence, 'was found at index',  index)"
   ]
  },
  {
   "cell_type": "markdown",
   "id": "7043b818",
   "metadata": {},
   "source": [
    ":::::::::::::::::\n",
    "\n",
    "::::::::::::::::: solution\n",
    "## Q5"
   ]
  },
  {
   "cell_type": "code",
   "execution_count": null,
   "id": "5ffd749a",
   "metadata": {
    "lines_to_next_cell": 0
   },
   "outputs": [],
   "source": [
    "sequence = \"NNVSR\"\n",
    "if sequence in peptides:\n",
    "    index = peptides.index(sequence)\n",
    "    print('Sequence', sequence, 'was found at index',  index)"
   ]
  },
  {
   "cell_type": "markdown",
   "id": "c96bde87",
   "metadata": {},
   "source": [
    ":::::::::::::::::\n",
    "\n",
    ":::::::::::::::::::::::::::::::\n",
    "\n",
    "#### **Length**\n",
    "\n",
    "[**Built-in functions: len**](https://docs.python.org/3.6/library/functions.html\\#len)\n",
    "<p style='text-align: justify;'>\n",
    "The number of members contained within a ```list``` defines its length. Similar to the length of ```str``` values as discussed in [mathematical operations](02-input_output.Rmd#math_ops) [DIY-I](02-input_output.Rmd#diy:mathsI) and [DIY-IV](02-input_output.Rmd#diy:mathOpts:Huntington), we use the built-in function <kbd>len()</kbd> also to determine the length of a ```list```:\n",
    "</p>"
   ]
  },
  {
   "cell_type": "code",
   "execution_count": null,
   "id": "38e66c41",
   "metadata": {},
   "outputs": [],
   "source": [
    "items = [1, 2.4, 'John', 5, 4]\n",
    "\n",
    "print(len(items))"
   ]
  },
  {
   "cell_type": "code",
   "execution_count": null,
   "id": "c69c3d72",
   "metadata": {
    "lines_to_next_cell": 0
   },
   "outputs": [],
   "source": [
    "print(len([1, 5, 9]))"
   ]
  },
  {
   "cell_type": "markdown",
   "id": "b5593406",
   "metadata": {},
   "source": [
    "<p style='text-align: justify;'>\n",
    "The <kbd>len()</kbd> function *always* returns an integer value (```int```) equal to or greater than zero. We can store the length in a variable and use it in different [mathematical](02-input_output.Rmd#math_ops) or [logical](02-input_output.Rmd#subsec:logicalOperatons) operations:\n",
    "</p>"
   ]
  },
  {
   "cell_type": "code",
   "execution_count": null,
   "id": "e5f91457",
   "metadata": {},
   "outputs": [],
   "source": [
    "table = [1, 2, 3, 4]\n",
    "items_length = len(items)\n",
    "table_length = len(table)\n",
    "\n",
    "print(items_length + table_length)"
   ]
  },
  {
   "cell_type": "code",
   "execution_count": null,
   "id": "c9bb2c50",
   "metadata": {},
   "outputs": [],
   "source": [
    "print(len(table) > 2)"
   ]
  },
  {
   "cell_type": "markdown",
   "id": "7a7a5a8f",
   "metadata": {},
   "source": [
    "We can also use the length of an array in [conditional statements](03-conditional_statements.Rmd):"
   ]
  },
  {
   "cell_type": "code",
   "execution_count": null,
   "id": "a3d64b1f",
   "metadata": {},
   "outputs": [],
   "source": [
    "students = ['Julia', 'John', 'Jane', 'Jack']\n",
    "present = ['Julia', 'John', 'Jane', 'Jack', 'Janet']\n",
    "\n",
    "if len(present) == len(students):\n",
    "    print('All the students are here.')\n",
    "else:\n",
    "    print('One or more students are not here yet.')"
   ]
  },
  {
   "cell_type": "markdown",
   "id": "0aeaae2b",
   "metadata": {},
   "source": [
    ":::::::::::::::::::::::::::::::::::: callout\n",
    "## Remember\n",
    "Both <kbd>in</kbd> and <kbd>len()</kbd> may be used in reference to any *type* of array or sequence in Python.\n",
    "\n",
    "See [Table](02-input_output.Rmd#fig:nativeTypes) to find out which built-in types in Python are regarded as a sequence.\n",
    "\n",
    "::::::::::::::::::::::::::::::::::::"
   ]
  },
  {
   "cell_type": "markdown",
   "id": "a2da78c5",
   "metadata": {
    "lines_to_next_cell": 0
   },
   "source": [
    "::::::::::::::::::::::::::::::: challenge\n",
    "\n",
    "## Do it Yourself\n",
    "\n",
    "Given the ```list``` of random peptides defined in [DIY](#diy:arrays:list:randomPeptides):\n",
    "\n",
    "1. Define a ```list``` called <span style=\"color: rgb(32, 121, 77);\">overlaps</span> containing the sequences whose presence in <span style=\"color: rgb(32, 121, 77);\">peptides</span> you confirmed in [DIY](#diy:arrays:list:randomPeptides).\n",
    "2. Determine the length of <span style=\"color: rgb(32, 121, 77);\">peptides</span>.\n",
    "3. Determine the length of <span style=\"color: rgb(32, 121, 77);\">overlaps</span>.\n",
    "\n",
    "Display yours results as follows:\n",
    "```\n",
    "overlaps = ['XXXXX', 'XXXXX', ...]\n",
    "Length of peptides: XX\n",
    "Length of overlaps: XX\n",
    "```\n",
    "\n",
    "::::::::::::::::: solution\n",
    "\n",
    "## Q1"
   ]
  },
  {
   "cell_type": "code",
   "execution_count": null,
   "id": "e43cbeba",
   "metadata": {},
   "outputs": [],
   "source": [
    "overlaps = list()\n",
    "\n",
    "sequence = \"IVADH\"\n",
    "if sequence in peptides:\n",
    "    overlaps.append(sequence)\n",
    "\n",
    "sequence = \"CMGFT\"\n",
    "if sequence in peptides:\n",
    "    overlaps.append(sequence)\n",
    "\n",
    "sequence = \"DKAKL\"\n",
    "if sequence in peptides:\n",
    "    overlaps.append(sequence)\n",
    "\n",
    "sequence = \"THGYP\"\n",
    "if sequence in peptides:\n",
    "    overlaps.append(sequence)\n",
    "\n",
    "sequence = \"NNVSR\"\n",
    "if sequence in peptides:\n",
    "    overlaps.append(sequence)\n",
    "\n",
    "print('overlaps:', overlaps)\n"
   ]
  },
  {
   "cell_type": "markdown",
   "id": "8e2f7367",
   "metadata": {
    "lines_to_next_cell": 0
   },
   "source": [
    ":::::::::::::::::\n",
    "\n",
    "::::::::::::::::: solution\n",
    "\n",
    "## Q2"
   ]
  },
  {
   "cell_type": "code",
   "execution_count": null,
   "id": "244b0163",
   "metadata": {},
   "outputs": [],
   "source": [
    "print('Length of peptides:', len(peptides))"
   ]
  },
  {
   "cell_type": "markdown",
   "id": "8916048e",
   "metadata": {},
   "source": [
    ":::::::::::::::::\n",
    "\n",
    "::::::::::::::::: solution\n",
    "\n",
    "## Q3"
   ]
  },
  {
   "cell_type": "code",
   "execution_count": null,
   "id": "2b247168",
   "metadata": {
    "lines_to_next_cell": 0
   },
   "outputs": [],
   "source": [
    "print('Length of overlaps:', len(overlaps))"
   ]
  },
  {
   "cell_type": "markdown",
   "id": "53ab73e7",
   "metadata": {
    "lines_to_next_cell": 0
   },
   "source": [
    ":::::::::::::::::\n",
    ":::::::::::::::::::::::::::::::\n",
    "\n",
    "### **Weak References and Copies**\n",
    "<p style='text-align: justify;'>\n",
    "In our discussion on [mutability](#subsubsec:list:mutability), we also discussed some of the in-place operations such as <kbd>.remove()</kbd> and <kbd>.append()</kbd> that we use to modify an existing ```list```. The use of these operations gives rise the following question: What if we need to perform an in-place operation, but also want to preserve the original array?\n",
    "</p>\n",
    "\n",
    "<p style='text-align: justify;'>\n",
    "In such cases, we create a *deep copy* of the original array before we call the method and perform the operation.\n",
    "</p>\n",
    "Suppose we have:"
   ]
  },
  {
   "cell_type": "code",
   "execution_count": null,
   "id": "256ee3ef",
   "metadata": {
    "lines_to_next_cell": 0
   },
   "outputs": [],
   "source": [
    "table_a = [1, 2, 3, 4]"
   ]
  },
  {
   "cell_type": "markdown",
   "id": "17b72c8c",
   "metadata": {
    "lines_to_next_cell": 0
   },
   "source": [
    "<p style='text-align: justify;'>\n",
    "A weak reference for <span style=\"color: rgb(32, 121, 77);\">table_a</span>, also referred to as an alias or a symbolic link, may be defined as follows:\n",
    "</p>"
   ]
  },
  {
   "cell_type": "code",
   "execution_count": null,
   "id": "868c8a52",
   "metadata": {
    "lines_to_next_cell": 2
   },
   "outputs": [],
   "source": [
    "table_b = table_a\n",
    "\n",
    "print(table_a, table_b)"
   ]
  },
  {
   "cell_type": "markdown",
   "id": "099890ac",
   "metadata": {},
   "source": [
    "Now if we perform an in-place operation on only *one* of the two variables (the original or the alias) as follows:"
   ]
  },
  {
   "cell_type": "code",
   "execution_count": null,
   "id": "6309383d",
   "metadata": {},
   "outputs": [],
   "source": [
    "table_a.append(5)"
   ]
  },
  {
   "cell_type": "markdown",
   "id": "8b58b0cf",
   "metadata": {},
   "source": [
    "we will in effect change *both* of them:"
   ]
  },
  {
   "cell_type": "code",
   "execution_count": null,
   "id": "42abc405",
   "metadata": {},
   "outputs": [],
   "source": [
    "print(table_a, table_b)"
   ]
  },
  {
   "cell_type": "markdown",
   "id": "afdb4957",
   "metadata": {},
   "source": [
    "<p style='text-align: justify;'>\n",
    "This is useful if we need to change the name of a variable under certain conditions to make our code more explicit and readable; however, it does *nothing* to preserve an actual copy of the original data.\n",
    "</p>\n",
    "To retain a copy of the original array, however, we must perform a *deep copy* as follows:"
   ]
  },
  {
   "cell_type": "code",
   "execution_count": null,
   "id": "878233ee",
   "metadata": {},
   "outputs": [],
   "source": [
    "table_c = table_b.copy()\n",
    "\n",
    "print(table_b, table_c)"
   ]
  },
  {
   "cell_type": "markdown",
   "id": "a151b955",
   "metadata": {},
   "source": [
    "where <span style=\"color: rgb(32, 121, 77);\">table_c</span> represents a *deep copy* of <span style=\"color: rgb(32, 121, 77);\">table_b</span>.\n",
    "\n",
    "In this instance, performing an in-place operation on one variable would *not* have any impacts on the other one:"
   ]
  },
  {
   "cell_type": "code",
   "execution_count": null,
   "id": "5f606b4f",
   "metadata": {},
   "outputs": [],
   "source": [
    "table_b.append(6)\n",
    "\n",
    "print(table_a, table_b, table_c)"
   ]
  },
  {
   "cell_type": "markdown",
   "id": "25fd0690",
   "metadata": {},
   "source": [
    "<p style='text-align: justify;'>\n",
    "where both the original array and its weak reference (<span style=\"color: rgb(32, 121, 77);\">table_a</span> and <span style=\"color: rgb(32, 121, 77);\">table_b</span>) changed without influencing the *deep copy* (<span style=\"color: rgb(32, 121, 77);\">table_c</span>).\n",
    "</p>\n",
    "\n",
    "There is also a shorthand for the <kbd>.copy()</kbd> method to create a *deep copy*. As far as arrays of type ```list``` are concerned, writing:\n",
    "\n",
    "```\n",
    "new_table = original_table[:]\n",
    "```\n",
    "\n",
    "is exactly the same as writing:\n",
    "\n",
    "```\n",
    "new_table = original_table.copy()\n",
    "```\n",
    "\n",
    "Here is an example:"
   ]
  },
  {
   "cell_type": "code",
   "execution_count": null,
   "id": "242b2a0f",
   "metadata": {},
   "outputs": [],
   "source": [
    "table_a = ['a', 3, 'b']\n",
    "table_b = table_a\n",
    "table_c = table_a.copy()\n",
    "table_d = table_a[:]\n",
    "\n",
    "table_a[1] = 5\n",
    "\n",
    "print(table_a, table_b, table_c, table_d)"
   ]
  },
  {
   "cell_type": "markdown",
   "id": "f875ffcc",
   "metadata": {},
   "source": [
    "<p style='text-align: justify;'>\n",
    "Whilst both the original array and its weak reference (<span style=\"color: rgb(32, 121, 77);\">table_a</span> and <span style=\"color: rgb(32, 121, 77);\">table_b</span>) changed in this example; the *deep copies* (<span style=\"color: rgb(32, 121, 77);\">table_c</span> and <span style=\"color: rgb(32, 121, 77);\">table_d</span>) have remained unchanged.\n",
    "</p>\n",
    "\n",
    "::::::::::::::::::::::::::::::: challenge\n",
    "\n",
    "## Do it Yourself {#diy:arrays:list:consensus:one}\n",
    "<p style='text-align: justify;'>\n",
    "When defining a consensus sequence, it is common to include annotations to represent ambiguous amino acids. Four such annotations are as follows:\n",
    "</p>\n",
    "\n",
    "<p align = \"center\">\n",
    "![](fig/residues_annotation.png)\n",
    "</p>\n",
    "\n",
    "Given a ```list``` of amino acids as:"
   ]
  },
  {
   "cell_type": "code",
   "execution_count": null,
   "id": "054b370f",
   "metadata": {
    "lines_to_next_cell": 0
   },
   "outputs": [],
   "source": [
    "amino_acids = [\n",
    "    'A', 'R', 'N', 'D', 'C', 'E', 'Q', 'G', 'H', 'I',\n",
    "    'L', 'K', 'M', 'F', 'P', 'S', 'T', 'W', 'Y', 'V'\n",
    "  ]\n"
   ]
  },
  {
   "cell_type": "markdown",
   "id": "e51bfd49",
   "metadata": {},
   "source": [
    "<p style='text-align: justify;'>\n",
    "1. Use <span style=\"color: rgb(32, 121, 77);\">amino_acids</span> to create an independent ```list``` called <span style=\"color: rgb(32, 121, 77);\">amino_acids_annotations</span> that contains all the standard amino acids.\n",
    "</p>\n",
    "\n",
    "<p style='text-align: justify;'>\n",
    "2. Add to <span style=\"color: rgb(32, 121, 77);\">amino_acids_annotations</span> the **1-letter** annotations for the ambiguous amino acids as outlined in the table.\n",
    "</p>\n",
    "\n",
    "<p style='text-align: justify;'>\n",
    "3. Evaluate the lengths for <span style=\"color: rgb(32, 121, 77);\">amino_acids</span> and <span style=\"color: rgb(32, 121, 77);\">amino_acids_annotations</span> and retain the result in a new ```list``` called <span style=\"color: rgb(32, 121, 77);\">lengths</span>.\n",
    "</p>\n",
    "\n",
    "<p style='text-align: justify;'>\n",
    "4. Using [logical operations](02-input_output.Rmd#subsec:logicalOperatons), test the two values stored in <span style=\"color: rgb(32, 121, 77);\">lengths</span> for equivalence and display the result as a boolean (**i.e.**  ```True``` or ```False```) output.\n",
    "</p>\n",
    "\n",
    "::::::::::::::::: solution\n",
    "\n",
    "## Q1"
   ]
  },
  {
   "cell_type": "code",
   "execution_count": null,
   "id": "8f7f86a9",
   "metadata": {},
   "outputs": [],
   "source": [
    "amino_acid_annotations = amino_acids.copy()"
   ]
  },
  {
   "cell_type": "markdown",
   "id": "742fa193",
   "metadata": {},
   "source": [
    ":::::::::::::::::\n",
    "\n",
    "::::::::::::::::: solution\n",
    "\n",
    "## Q2"
   ]
  },
  {
   "cell_type": "code",
   "execution_count": null,
   "id": "776145bc",
   "metadata": {
    "lines_to_next_cell": 0
   },
   "outputs": [],
   "source": [
    "ambiguous_annotations = ['X', 'B', 'Z', 'J']\n",
    "\n",
    "amino_acid_annotations.extend(ambiguous_annotations)"
   ]
  },
  {
   "cell_type": "markdown",
   "id": "f3e71c90",
   "metadata": {},
   "source": [
    ":::::::::::::::::\n",
    "\n",
    "::::::::::::::::: solution\n",
    "\n",
    "## Q3"
   ]
  },
  {
   "cell_type": "code",
   "execution_count": null,
   "id": "e1894b14",
   "metadata": {},
   "outputs": [],
   "source": [
    "lengths = [len(amino_acids), len(amino_acid_annotations)]"
   ]
  },
  {
   "cell_type": "markdown",
   "id": "7eb5e9f9",
   "metadata": {},
   "source": [
    ":::::::::::::::::"
   ]
  },
  {
   "cell_type": "markdown",
   "id": "62d94d2e",
   "metadata": {
    "lines_to_next_cell": 0
   },
   "source": [
    "::::::::::::::::: solution\n",
    "\n",
    "## Q4"
   ]
  },
  {
   "cell_type": "code",
   "execution_count": null,
   "id": "3a8d139c",
   "metadata": {
    "lines_to_next_cell": 2
   },
   "outputs": [],
   "source": [
    "equivalence = lengths[0] == lengths[1]\n",
    "\n",
    "print(equivalence)"
   ]
  },
  {
   "cell_type": "markdown",
   "id": "cd71ff97",
   "metadata": {},
   "source": [
    ":::::::::::::::::\n",
    ":::::::::::::::::::::::::::::::\n",
    "\n",
    "### **Conversion to list** {#arrays:list:conversion}\n",
    "<p style='text-align: justify;'>\n",
    "As highlighted earlier in the section, arrays in Python can contain any value regardless of type. We can exploit this feature to extract some interesting information about the data we store in an array.\n",
    "</p>\n",
    "\n",
    "<p style='text-align: justify;'>\n",
    "To that end, we can [convert](02-input_output.Rmd#sec:conversionType) any sequence to a ```list```. See [Table](02-input_output.Rmd#fig:nativeTypes) to find out which of the built-in types in Python are considered to be a sequence.\n",
    "</p>\n",
    "\n",
    "Suppose we have the sequence for [Protein Kinase A Gamma (catalytic) subunit for humans](https://www.ncbi.nlm.nih.gov/protein/AAC41690.1?report=fasta) as follows:"
   ]
  },
  {
   "cell_type": "code",
   "execution_count": null,
   "id": "37b3e497",
   "metadata": {
    "lines_to_next_cell": 2
   },
   "outputs": [],
   "source": [
    "# Multiple lines of text may be split into\n",
    "# several lines inside parenthesis:\n",
    "\n",
    "human_pka_gamma = (\n",
    "  'MAAPAAATAMGNAPAKKDTEQEESVNEFLAKARGDFLYRWGNPAQNTASSDQFERLRTLGMGSFGRVMLV'\n",
    "  'RHQETGGHYAMKILNKQKVVKMKQVEHILNEKRILQAIDFPFLVKLQFSFKDNSYLYLVMEYVPGGEMFS'\n",
    "  'RLQRVGRFSEPHACFYAAQVVLAVQYLHSLDLIHRDLKPENLLIDQQGYLQVTDFGFAKRVKGRTWTLCG'\n",
    "  'TPEYLAPEIILSKGYNKAVDWWALGVLIYEMAVGFPPFYADQPIQIYEKIVSGRVRFPSKLSSDLKDLLR'\n",
    "  'SLLQVDLTKRFGNLRNGVGDIKNHKWFATTSWIAIYEKKVEAPFIPKYTGPGDASNFDDYEEEELRISIN'\n",
    "  'EKCAKEFSEF'\n",
    "\t)\n",
    "\n",
    "print(type(human_pka_gamma))"
   ]
  },
  {
   "cell_type": "markdown",
   "id": "61ddef17",
   "metadata": {},
   "source": [
    "We can now *convert* our sequence from its original type of ```str``` to ```list``` by using <kbd>list()</kbd> as a *function*. Doing so will automatically decompose the text down to individual characters:"
   ]
  },
  {
   "cell_type": "code",
   "execution_count": null,
   "id": "a3abd866",
   "metadata": {},
   "outputs": [],
   "source": [
    "# The function \"list\" may be used to convert string\n",
    "# variables into a list of characters:\n",
    "pka_list = list(human_pka_gamma)\n",
    "\n",
    "print(pka_list)"
   ]
  },
  {
   "cell_type": "markdown",
   "id": "ea1888a1",
   "metadata": {},
   "source": [
    "::::::::::::::::::::::::::::::: challenge\n",
    "\n",
    "## Do it Yourself\n",
    "\n",
    "Ask the user to enter a sequence of single-letter amino acids in *lower case*. Convert the sequence to ```list``` and:\n",
    "\n",
    "1. Count the number of serine and threonine residues and display the result in the following format:\n",
    "\n",
    "```\n",
    "Total number of serine residues: XX\n",
    "Total number of threonine residues: XX\n",
    "```\n",
    "\n",
    "2. Check whether or not the sequence contains both serine and threonine residues:\n",
    "\n",
    "* If it does, display:\n",
    "```\n",
    "The sequence does contain both serine and threonine residues.\n",
    "```\n",
    "\n",
    "* if it does not, display:\n",
    "```\n",
    "The sequence does not contain both serine and threonine residues.\n",
    "```\n",
    "\n",
    "::::::::::::::::: solution\n",
    "\n",
    "## Q1\n",
    "```\n",
    "sequence_str = input('Please enter a sequence of signle-letter amino acids in lower-case: ')\n",
    "\n",
    "sequence = list(sequence_str)\n",
    "\n",
    "ser_count = sequence.count('s')\n",
    "thr_count = sequence.count('t')\n",
    "\n",
    "print('Total number of serine residues:', ser_count)\n",
    "\n",
    "print('Total number of threonine residues:', thr_count)\n",
    "```\n",
    "\n",
    ":::::::::::::::::\n",
    "\n",
    "::::::::::::::::: solution\n",
    "\n",
    "## Q2\n",
    "```\n",
    "if ser_count > 0 and thr_count > 0:\n",
    "    response_state = ''\n",
    "else:\n",
    "    response_state = 'not'\n",
    "\n",
    "print(\n",
    "    'The sequence does',\n",
    "    'response_state',\n",
    "    'contain both serine and threonine residues.'\n",
    "\t\t)\n",
    "```\n",
    ":::::::::::::::::\n",
    "\n",
    ":::::::::::::::::::::::::::::::"
   ]
  },
  {
   "cell_type": "markdown",
   "id": "96facdd3",
   "metadata": {},
   "source": [
    ":::::::::::::::::::::::::::::::::::: callout\n",
    "## Advanced Topic\n",
    "<p style='text-align: justify;'>\n",
    "[Generators](https://en.wikipedia.org/wiki/Generator_(computer_programming)) represent a specific [type](02-input_output.Rmd#varTypes) in Python whose results are *not* immediately evaluated. This is a technique referred to as *lazy evaluation* in [functional programming](https://en.wikipedia.org/wiki/Functional_programming), and is often used in the context of a [for-loop](). This is because they postpone the evaluation of their results for as long as possible. We do not discuss generators in the course, but you can find out more about them in the [official documentations](https://docs.python.org/3.6/howto/functional.html\\#generators).\n",
    "</p>\n",
    "\n",
    "::::::::::::::::::::::::::::::::::::"
   ]
  },
  {
   "cell_type": "markdown",
   "id": "5dff4616",
   "metadata": {},
   "source": [
    "### **Useful methods** {#subsubsec:list:usefulMethodsForList}\n",
    "[**Data Structures: More on Lists**](https://docs.python.org/3.6/tutorial/datastructures.html\\#more-on-lists)\n",
    "\n",
    "<p style='text-align: justify;'>\n",
    "In this subsection, we will be reviewing some of the useful and important *methods* that are associated with object of type ```list```. To that end, we shall use snippets of code that exemplify such *methods* in practice. A [cheatsheet](#cheatsheat) of the *methods* associated with the built-in arrays in Python can be helpful.\n",
    "</p>\n",
    "\n",
    "![Commons operations for list, tuple, and set arrays in Python.](fig/arrays-cheatsheet.png){#cheatsheat}\n",
    "<p style='text-align: justify;'>\n",
    "The *methods* outline here are not individually described; however, at this point, you should be able to work out what they do by looking at their names and respective examples.\n",
    "</p>\n",
    "Count a specific value within a ```list```:"
   ]
  },
  {
   "cell_type": "code",
   "execution_count": null,
   "id": "10f1cf89",
   "metadata": {},
   "outputs": [],
   "source": [
    "table_a = [1, 2, 2, 2]\n",
    "table_b = [15, 16]\n",
    "\n",
    "print(table_a.count(2))"
   ]
  },
  {
   "cell_type": "markdown",
   "id": "8326747f",
   "metadata": {},
   "source": [
    "Extend a ```list```:"
   ]
  },
  {
   "cell_type": "code",
   "execution_count": null,
   "id": "5d817ef8",
   "metadata": {
    "lines_to_next_cell": 2
   },
   "outputs": [],
   "source": [
    "table_a = [1, 2, 2, 2]\n",
    "table_b = [15, 16]\n",
    "\n",
    "table_c = table_a.copy()  # deep copy.\n",
    "table_c.extend(table_b)\n",
    "\n",
    "print(table_a, table_b, table_c)"
   ]
  },
  {
   "cell_type": "markdown",
   "id": "70af228c",
   "metadata": {},
   "source": [
    "Extend a ```list``` by adding two lists to each other. Note that adding two lists is *not* an in-place operation:"
   ]
  },
  {
   "cell_type": "code",
   "execution_count": null,
   "id": "8356f18c",
   "metadata": {},
   "outputs": [],
   "source": [
    "table_a = [1, 2, 2, 2]\n",
    "table_b = [15, 16]\n",
    "\n",
    "table_c = table_a + table_b\n",
    "\n",
    "print(table_a, table_b, table_c)"
   ]
  },
  {
   "cell_type": "code",
   "execution_count": null,
   "id": "3afc8d6e",
   "metadata": {
    "lines_to_next_cell": 0
   },
   "outputs": [],
   "source": [
    "table_a = [1, 2, 2, 2]\n",
    "table_b = [15, 16]\n",
    "\n",
    "table_c = table_a.copy()  # deep copy.\n",
    "table_d = table_a + table_b\n",
    "\n",
    "print(table_c == table_d)"
   ]
  },
  {
   "cell_type": "markdown",
   "id": "4667472c",
   "metadata": {
    "lines_to_next_cell": 0
   },
   "source": [
    "<p style='text-align: justify;'>\n",
    "We can also reverse the values in a ```list```. There are two methods for doing so:Being a generator means that the output of the function is not evaluated immediately; and instead, we get a generic output:\n",
    "</p>\n",
    "\n",
    "1. Through an in-place operation using <kbd>.reverse()</kbd>"
   ]
  },
  {
   "cell_type": "code",
   "execution_count": null,
   "id": "95dd0e54",
   "metadata": {
    "lines_to_next_cell": 0
   },
   "outputs": [],
   "source": [
    "table = [1, 2, 2, 2, 15, 16]\n",
    "table.reverse()\n",
    "\n",
    "print(\"Reversed:\", table)"
   ]
  },
  {
   "cell_type": "markdown",
   "id": "4d4dfdd9",
   "metadata": {},
   "source": []
  },
  {
   "cell_type": "markdown",
   "id": "c1e099ed",
   "metadata": {
    "lines_to_next_cell": 0
   },
   "source": [
    "2. Through <kbd>reversed()</kbd>, which is a build-in generator function."
   ]
  },
  {
   "cell_type": "code",
   "execution_count": null,
   "id": "9da5cb41",
   "metadata": {
    "results": "hold"
   },
   "outputs": [],
   "source": [
    "table = [1, 2, 2, 2, 15, 16]\n",
    "table_rev = reversed(table)\n",
    "\n",
    "print(\"Result:\", table_rev)\n",
    "print(\"Type:\", type(table_rev))"
   ]
  },
  {
   "cell_type": "markdown",
   "id": "46cc6c37",
   "metadata": {},
   "source": [
    "We can, however, force the evaluation process by converting the generator results onto a ```list```:"
   ]
  },
  {
   "cell_type": "code",
   "execution_count": null,
   "id": "eb2aff75",
   "metadata": {},
   "outputs": [],
   "source": [
    "table_rev_evaluated = list(table_rev)\n",
    "\n",
    "print('Evaluated:', table_rev_evaluated)"
   ]
  },
  {
   "cell_type": "markdown",
   "id": "c3e5e610",
   "metadata": {},
   "source": [
    "Members of a ```list``` may be sorted in-place as follows:"
   ]
  },
  {
   "cell_type": "code",
   "execution_count": null,
   "id": "1877111e",
   "metadata": {},
   "outputs": [],
   "source": [
    "table = [16, 2, 15, 1, 2, 2]\n",
    "table.sort()\n",
    "\n",
    "print(\"Sorted (ascending):\", table)"
   ]
  },
  {
   "cell_type": "markdown",
   "id": "e221a2a9",
   "metadata": {},
   "source": [
    ":::::::::::::::::::::::::::::::::::: callout\n",
    "## Advanced Topic\n",
    "\n",
    "There is also the built-in function <kbd>sorted()</kbd> that works in a similar way to <kbd>reversed()</kbd>. Also a generator function, it offers more advanced features that are beyond the scope of this course. You can find out more about it from the [official documentations](https://docs.python.org/3/library/functions.html\\#sorted) and [examples](https://docs.python.org/3/howto/sorting.html\\#sortinghowto).\n",
    "::::::::::::::::::::::::::::::::::::\n",
    "\n",
    "The <kbd>.sort()</kbd> method takes an optional keyword argument entitled *reverse* (default: ```False```). If set to ```True```, the method will perform a descending sort:"
   ]
  },
  {
   "cell_type": "code",
   "execution_count": null,
   "id": "46ec2040",
   "metadata": {},
   "outputs": [],
   "source": [
    "table = [16, 2, 15, 1, 2, 2]\n",
    "table.sort(reverse=True)\n",
    "\n",
    "print(\"Sorted (descending):\", table)"
   ]
  },
  {
   "cell_type": "markdown",
   "id": "2e7f741f",
   "metadata": {},
   "source": [
    "We can also create an empty ```list```, so that we can add members to it later in our code using <kbd>.append()</kbd> or <kbd>.extend()</kbd> amongst other tools:"
   ]
  },
  {
   "cell_type": "code",
   "execution_count": null,
   "id": "c52c2470",
   "metadata": {},
   "outputs": [],
   "source": [
    "table = list()\n",
    "\n",
    "print(table)"
   ]
  },
  {
   "cell_type": "code",
   "execution_count": null,
   "id": "1dcb120d",
   "metadata": {},
   "outputs": [],
   "source": [
    "table.append(5)\n",
    "\n",
    "print(table)"
   ]
  },
  {
   "cell_type": "code",
   "execution_count": null,
   "id": "082d508d",
   "metadata": {},
   "outputs": [],
   "source": [
    "another_table = ['Jane', 'Janette']\n",
    "table.extend(another_table)\n",
    "\n",
    "print(another_table)"
   ]
  },
  {
   "cell_type": "markdown",
   "id": "f709e3aa",
   "metadata": {},
   "source": [
    "::::::::::::::::::::::::::::::: challenge\n",
    "\n",
    "## Do it Yourself\n",
    "<p style='text-align: justify;'>\n",
    "Create a ```list```, and experiment with each of the methods provided in the above example. Try including members of different *types* in your ```list``` and see how each of these methods behave.\n",
    "</p>\n",
    "\n",
    "::::::::::::::::: solution\n",
    "\n",
    "## DIY ANSWER\n",
    "\n",
    "This DIY was intended to encourage you to experiment with the methods outlined.\n",
    ":::::::::::::::::\n",
    "\n",
    ":::::::::::::::::::::::::::::::\n",
    "\n",
    "### **Nested arrays** {#arrays:list:nestedArrays}\n",
    "<p style='text-align: justify;'>\n",
    "At this point, you should be comfortable with creating, handling, and manipulating arrays of type ```list``` in Python. It is important to have a relatively good understanding of the principles outlined in this section so far before you start learning about *nested arrays*.\n",
    "</p>\n",
    "\n",
    "<p style='text-align: justify;'>\n",
    "We have already established that arrays can contain any value regardless of type. This means that they also contain other arrays. An array that includes at least one member that is itself an array is referred to as a *nested arrays*. This can be thought of as a table with more than one column:\n",
    "</p>\n",
    "\n",
    "![](fig/nested_arrays.png)\n",
    "\n",
    ":::::::::::::::::::::::::::::::::::: callout\n",
    "## Remember\n",
    "<p style='text-align: justify;'>\n",
    "Arrays can contain values of any *type*. This rule applies to nested arrays too. We have exclusively included ```int``` numbers in our table to trivialise that example.\n",
    "</p>\n",
    "\n",
    "::::::::::::::::::::::::::::::::::::\n",
    "\n",
    "#### **Implementation**\n",
    "The table can be written in Python as a nested array:"
   ]
  },
  {
   "cell_type": "code",
   "execution_count": null,
   "id": "9dfc9a06",
   "metadata": {},
   "outputs": [],
   "source": [
    "# The list has 3 members, 2 of which\n",
    "# are arrays of type list:\n",
    "table = [[1, 2, 3], 4, [7, 8]]\n",
    "\n",
    "print(table)"
   ]
  },
  {
   "cell_type": "markdown",
   "id": "16198a59",
   "metadata": {},
   "source": [
    "#### **Indexing**\n",
    "The indexing principles for nested arrays is slightly different. To retrieve an individual member in a nested ```list```, we always reference the *row index*, followed by the *column index*.\n",
    "\n",
    "We may visualise the process as follows:\n",
    "\n",
    "![](fig/nested_arrays2.png)\n",
    "\n",
    "To retrieve an entire row, we only need to include the reference for that row:"
   ]
  },
  {
   "cell_type": "code",
   "execution_count": null,
   "id": "fabd1cdd",
   "metadata": {},
   "outputs": [],
   "source": [
    "print(table[0])"
   ]
  },
  {
   "cell_type": "markdown",
   "id": "3f7b6f7e",
   "metadata": {},
   "source": [
    "and to retrieve a specific member, we include the reference for both the row and column:"
   ]
  },
  {
   "cell_type": "code",
   "execution_count": null,
   "id": "48ab27c7",
   "metadata": {},
   "outputs": [],
   "source": [
    "print(table[0][1])"
   ]
  },
  {
   "cell_type": "markdown",
   "id": "a96ce2d3",
   "metadata": {},
   "source": [
    "<p style='text-align: justify;'>\n",
    "We may also extract slices from a nested array. The protocol is identical to normal arrays described in subsection [slicing](#sec:list:slicing). In nested arrays, however, we may take slices from the columns as well as the rows:\n",
    "</p>"
   ]
  },
  {
   "cell_type": "code",
   "execution_count": null,
   "id": "fe35fa2c",
   "metadata": {},
   "outputs": [],
   "source": [
    "print(table[:2])"
   ]
  },
  {
   "cell_type": "code",
   "execution_count": null,
   "id": "436dce4c",
   "metadata": {},
   "outputs": [],
   "source": [
    "print(table[0][:2])"
   ]
  },
  {
   "cell_type": "markdown",
   "id": "6e70b6d6",
   "metadata": {},
   "source": [
    "Note that only 2 of the 3 members in <span style=\"color: rgb(32, 121, 77);\">table</span> are arrays of type ```list```:"
   ]
  },
  {
   "cell_type": "code",
   "execution_count": null,
   "id": "45904291",
   "metadata": {},
   "outputs": [],
   "source": [
    "print(table[0], type(table[0]))"
   ]
  },
  {
   "cell_type": "code",
   "execution_count": null,
   "id": "0ade9de3",
   "metadata": {},
   "outputs": [],
   "source": [
    "print(table[2], type(table[2]))"
   ]
  },
  {
   "cell_type": "markdown",
   "id": "6c4c6972",
   "metadata": {},
   "source": [
    "However, there is another member that is not an array:\n"
   ]
  },
  {
   "cell_type": "code",
   "execution_count": null,
   "id": "a6350472",
   "metadata": {},
   "outputs": [],
   "source": [
    "print(table[1], type(table[1]))"
   ]
  },
  {
   "cell_type": "markdown",
   "id": "b486de94",
   "metadata": {},
   "source": [
    "<p style='text-align: justify;'>\n",
    "In most circumstances, we would want all the members in an array to be *homogeneous* in type --- *i.e.* we want them all to have the same type. In such cases, we can implement the table as:\n",
    "</p>"
   ]
  },
  {
   "cell_type": "code",
   "execution_count": null,
   "id": "292e6390",
   "metadata": {
    "lines_to_next_cell": 0
   },
   "outputs": [],
   "source": [
    "table = [[1, 2, 3], [4], [7, 8]]\n",
    "\n",
    "print(table[1], type(table[1]))"
   ]
  },
  {
   "cell_type": "markdown",
   "id": "df33d1be",
   "metadata": {},
   "source": [
    "<p style='text-align: justify;'>\n",
    "An array with only one member --- *e.g.* <span style=\"color: rgb(32, 121, 77);\">[4]</span>, is sometimes referred to as a *singleton* array.\n",
    "</p>\n",
    "\n",
    "::::::::::::::::::::::::::::::: challenge\n",
    "\n",
    "## Do it Yourself\n",
    "\n",
    "Give then following of pathogens and their corresponding diseases:\n",
    "\n",
    "![](fig/pathogens.png)\n",
    "<p style='text-align: justify;'>\n",
    "1. Substituting <span style=\"color: rgb(32, 121, 77);\">N/A</span> for ```None```, create an array to represent the table in the original order. Retain the array in a variable and display the result.\n",
    "</p>\n",
    "\n",
    "<p style='text-align: justify;'>\n",
    "2. Modify the array you created so that the members are sorted *descendingly* and display the result.\n",
    "</p>\n",
    "\n",
    "::::::::::::::::: solution\n",
    "\n",
    "## Q1"
   ]
  },
  {
   "cell_type": "code",
   "execution_count": null,
   "id": "c093e5dd",
   "metadata": {
    "lines_to_next_cell": 0
   },
   "outputs": [],
   "source": [
    "disease_pathogen = [\n",
    "  [\"Bacterium\", \"Negative\", \"Shigella flexneri\" , \"Bacillary dysentery\"],\n",
    "  [\"Prion\", None, \"PrP(sc)\", \"Transmissible spongiform encephalopathies\"],\n",
    "  [\"Bacterium\", \"Negative\", \"Vibrio cholerae\", \"Cholera\"],\n",
    "  [\"Bacterium\", \"Negative\", \"Listeria monocytogenes\", \"Listeriosis\"],\n",
    "  [\"Virus\", None, \"Hepatitis C\", \"Hepatitis\"],\n",
    "  [\"Bacterium\", \"Negative\", \"Helicobacter pylori\", \"Peptic ulcers\"],\n",
    "  [\"Bacterium\", \"Negative\", \"Mycobacterium tuberculosis\", \"Tuberculosis\"],\n",
    "  [\"Bacterium\", \"Negative\", \"Chlamydia trachomatis\", \"Chlamydial diseases\"],\n",
    "  [\"Virus\", None, \"Human Immunodeficiency Virus\", \"Human Immunodeficiency\"]\n",
    "  ]\n",
    "\n",
    "print(disease_pathogen)"
   ]
  },
  {
   "cell_type": "markdown",
   "id": "65facf56",
   "metadata": {
    "lines_to_next_cell": 0
   },
   "source": [
    ":::::::::::::::::\n",
    "\n",
    "::::::::::::::::: solution\n",
    "\n",
    "## Q2"
   ]
  },
  {
   "cell_type": "code",
   "execution_count": null,
   "id": "f6fe2cb5",
   "metadata": {
    "lines_to_next_cell": 0
   },
   "outputs": [],
   "source": [
    "disease_pathogen.sort(reverse=True)\n",
    "\n",
    "print(disease_pathogen)"
   ]
  },
  {
   "cell_type": "markdown",
   "id": "86fe5c1e",
   "metadata": {},
   "source": [
    ":::::::::::::::::\n",
    ":::::::::::::::::::::::::::::::\n",
    "\n",
    "### **Dimensions** {#arrays:list:dimensions}\n",
    "\n",
    "A nested array is considered *two dimensional* or *2D* when:\n",
    "\n",
    "*\t*all* of the members in a nested array are arrays themselves;"
   ]
  },
  {
   "cell_type": "markdown",
   "id": "e058764b",
   "metadata": {},
   "source": [
    "* *all* of the sub-arrays have the same length --- *i.e.*  all the columns in the table are filled and have the same number of rows; and,"
   ]
  },
  {
   "cell_type": "markdown",
   "id": "15128361",
   "metadata": {},
   "source": [
    "* *all* of the members of the sub-arrays are *homogeneous* in type --- *i.e.*  they all have the same type (*e.g.* ```int```)."
   ]
  },
  {
   "cell_type": "markdown",
   "id": "66fd2508",
   "metadata": {},
   "source": [
    "A two dimensional arrays may be visualised as follows:\n",
    "![](fig/dimensions.png)\n",
    "\n",
    ":::::::::::::::::::::::::::::::::::: callout\n",
    "## Advanced Topic\n",
    "<p style='text-align: justify;'>\n",
    "Nested arrays may themselves be nested. This means that, if needed, we can have 3, 4 or *n* dimensional arrays, too. Analysis and organisation of such arrays is an important part of a field known as [optimisation](https://en.wikipedia.org/wiki/Mathematical_optimization) in computer science and mathematics. Optimisation is itself the cornerstone of machine learning, and addresses the problem known as [curse of dimensionality](https://en.wikipedia.org/wiki/Curse_of_dimensionality).\n",
    "</p>\n",
    "\n",
    "::::::::::::::::::::::::::::::::::::"
   ]
  },
  {
   "cell_type": "markdown",
   "id": "68d9b962",
   "metadata": {},
   "source": [
    "<p style='text-align: justify;'>\n",
    "Such arrays are referred to in mathematics as a [matrix](https://en.wikipedia.org/wiki/Matrix\\_(mathematics)). We can therefore represent a two-dimensional array as a mathematical matrix. To that end, the above array would translate to the annotation displayed in equation below.\n",
    "</p>\n",
    "\n",
    "$$table=\\begin{bmatrix}\n",
    "1&2&3\\\\\n",
    "4&5&6\\\\\n",
    "7&8&9\\\\\n",
    "\\end{bmatrix}$$"
   ]
  },
  {
   "cell_type": "markdown",
   "id": "7c95a802",
   "metadata": {},
   "source": [
    "The implementation of these arrays is identical to the implementation of other nested arrays. We can therefore code our table in Python as:"
   ]
  },
  {
   "cell_type": "code",
   "execution_count": null,
   "id": "5547bedc",
   "metadata": {},
   "outputs": [],
   "source": [
    "table = [\n",
    "  [1, 2, 3],\n",
    "  [4, 5, 6],\n",
    "  [7, 8, 9]\n",
    "  ]\n",
    "\n",
    "print(table)"
   ]
  },
  {
   "cell_type": "code",
   "execution_count": null,
   "id": "fe28d3d4",
   "metadata": {},
   "outputs": [],
   "source": [
    "print(table[2])"
   ]
  },
  {
   "cell_type": "code",
   "execution_count": null,
   "id": "861552f5",
   "metadata": {},
   "outputs": [],
   "source": [
    "print(table[1][0])"
   ]
  },
  {
   "cell_type": "code",
   "execution_count": null,
   "id": "c79404c5",
   "metadata": {},
   "outputs": [],
   "source": [
    "print(table[:2])"
   ]
  },
  {
   "cell_type": "markdown",
   "id": "cacc22f2",
   "metadata": {
    "lines_to_next_cell": 0
   },
   "source": [
    "::::::::::::::::::::::::::::::: challenge\n",
    "\n",
    "## Do it Yourself\n",
    "<p style='text-align: justify;'>\n",
    "Computers see images as multidimensional arrays (matrices). In its simplest form, an image is a two-dimensional array containing only 2 colours.\n",
    "</p>\n",
    "Given the following black and white image:\n",
    "\n",
    "![](fig/image.png)\n",
    "<p style='text-align: justify;'>\n",
    "1. Considering that black and white squares represent zeros and ones respectively, create a two-dimensional array to represent the above image. Display the results.\n",
    "</p>\n",
    "\n",
    "<p style='text-align: justify;'>\n",
    "2. Create a new array, but this time use ```False``` and ```True``` to represent black and white respectively.\n",
    "</p>\n",
    "Display the results.\n",
    "\n",
    "::::::::::::::::: solution\n",
    "\n",
    "## Q1"
   ]
  },
  {
   "cell_type": "code",
   "execution_count": null,
   "id": "6fbf46a1",
   "metadata": {
    "lines_to_next_cell": 0
   },
   "outputs": [],
   "source": [
    "cross = [\n",
    "\t\t    [0, 0, 0, 0, 0, 0, 0],\n",
    "\t\t    [0, 1, 0, 0, 0, 1, 0],\n",
    "\t\t    [0, 0, 1, 0, 1, 0, 0],\n",
    "\t\t    [0, 0, 0, 1, 0, 0, 0],\n",
    "\t\t    [0, 0, 1, 0, 1, 0, 0],\n",
    "\t\t    [0, 1, 0, 0, 0, 1, 0],\n",
    "\t\t    [0, 0, 0, 0, 0, 0, 0]\n",
    "\t\t]\n",
    "\n",
    "print(cross)"
   ]
  },
  {
   "cell_type": "markdown",
   "id": "5304826d",
   "metadata": {
    "lines_to_next_cell": 0
   },
   "source": [
    ":::::::::::::::::\n",
    "\n",
    "::::::::::::::::: solution\n",
    "\n",
    "## Q2"
   ]
  },
  {
   "cell_type": "code",
   "execution_count": null,
   "id": "0449424d",
   "metadata": {
    "lines_to_next_cell": 0
   },
   "outputs": [],
   "source": [
    "cross_bool = [\n",
    "  [False, False, False, False, False, False, False],\n",
    "  [False, True, False, False, False, True, False],\n",
    "  [False, False, True, False, True, False, False],\n",
    "  [False, False, False, True, False, False, False],\n",
    "  [False, False, True, False, True, False, False],\n",
    "  [False, True, False, False, False, True, False],\n",
    "  [False, False, False, False, False, False, False]\n",
    "  ]\n",
    "\n",
    "print(cross_bool)"
   ]
  },
  {
   "cell_type": "markdown",
   "id": "4dcb0671",
   "metadata": {},
   "source": [
    ":::::::::::::::::\n",
    ":::::::::::::::::::::::::::::::\n",
    "### **Summary**\n",
    "\n",
    "At this point, you should be familiar with arrays and how they work in general. Throughout this section, we talked about ```list```,  which is one the most popular types of *built-in* arrays in Python. To that end, we learned:\n",
    "\n",
    "* how to \\emph{create} ```list``` from the scratch;\n",
    "\n",
    "* how to *manipulate* ```list``` using different *methods*;\n",
    "\n",
    "* how to use *indexing* and *slicing* techniques to our advantage;\n",
    "\n",
    "* *mutability* --- a concept we revisit in the forthcoming lessons;\n",
    "\n",
    "*  *in-place operations*, and the difference between *weak references* and *deep copies*;\n",
    "\n",
    "* *nested* and *multi-dimensional* arrays; and,\n",
    "\n",
    "* how to *convert* other sequences (*e.g.* ```str```) to ```list```.\n",
    "\n",
    "## Tuple {#subsec:tuples}\n",
    "\n",
    "[**Data Structures: Tuples and Sequences**](https://docs.python.org/3.6/tutorial/datastructures.html\\#tuples-and-sequences)"
   ]
  },
  {
   "cell_type": "markdown",
   "id": "c374da4b",
   "metadata": {},
   "source": [
    "<p style='text-align: justify;'>\n",
    "Another type of built-in arrays, ```tuple``` is an immutable alternative to ```list```. That is, once created, the contents may not be modified in any way. One reason we use tuples is to ensure that the contents of our array does not change accidentally.\n",
    "</p>\n",
    "<p style='text-align: justify;'>\n",
    "For instance, we know that in the [Wnt signaling pathway](http://www.cell.com/cell/fulltext/S0092-8674(12)00586-7), there are two co-receptors. This is final, and would not change at any point in our programme.\n",
    "</p>\n",
    "\n",
    ":::::::::::::::::::::::::::::::::::: callout\n",
    "## Remember\n",
    "<p style='text-align: justify;'>\n",
    "To implement a ```tuple``` in Python, we place our values separated by commas inside parenthesis or <span style=\"color: rgb(32, 121, 77);\">(1, 2, 3, ...)</span>.\n",
    "</p>\n",
    "\n",
    "::::::::::::::::::::::::::::::::::::"
   ]
  },
  {
   "cell_type": "code",
   "execution_count": null,
   "id": "c6278ad5",
   "metadata": {},
   "outputs": [],
   "source": [
    "pathway = 'Wnt Signaling'\n",
    "coreceptors = ('Frizzled', 'LRP')\n",
    "\n",
    "print(type(coreceptors))"
   ]
  },
  {
   "cell_type": "code",
   "execution_count": null,
   "id": "25a1927a",
   "metadata": {},
   "outputs": [],
   "source": [
    "print(coreceptors)"
   ]
  },
  {
   "cell_type": "code",
   "execution_count": null,
   "id": "9966841d",
   "metadata": {},
   "outputs": [],
   "source": [
    "wnt = (pathway, coreceptors)\n",
    "\n",
    "print(type(wnt))"
   ]
  },
  {
   "cell_type": "code",
   "execution_count": null,
   "id": "157405a6",
   "metadata": {},
   "outputs": [],
   "source": [
    "print(wnt)"
   ]
  },
  {
   "cell_type": "code",
   "execution_count": null,
   "id": "e0267d1a",
   "metadata": {},
   "outputs": [],
   "source": [
    "print(wnt[0])"
   ]
  },
  {
   "cell_type": "markdown",
   "id": "8cc74a8a",
   "metadata": {},
   "source": [
    "<p style='text-align: justify;'>\n",
    "Indexing and slicing principles for ```tuple``` is identical to ```list```, which we discussed in subsection [indexing](#sec:list:indexing) and [slicing](#sec:list:slicing) respectively.\n",
    "</p>\n",
    "\n",
    "### **Conversion to tuple**\n",
    "Similar to ```list```, we can convert other sequences to ```tuple```:"
   ]
  },
  {
   "cell_type": "code",
   "execution_count": null,
   "id": "c8ba9742",
   "metadata": {},
   "outputs": [],
   "source": [
    "numbers_list = [1, 2, 3, 4, 5]\n",
    "\n",
    "print(type(numbers_list))"
   ]
  },
  {
   "cell_type": "code",
   "execution_count": null,
   "id": "ae14f1cc",
   "metadata": {},
   "outputs": [],
   "source": [
    "numbers = tuple(numbers_list)\n",
    "\n",
    "print(numbers)"
   ]
  },
  {
   "cell_type": "code",
   "execution_count": null,
   "id": "97e2cdfe",
   "metadata": {},
   "outputs": [],
   "source": [
    "print(type(numbers))"
   ]
  },
  {
   "cell_type": "code",
   "execution_count": null,
   "id": "c4e01f5d",
   "metadata": {},
   "outputs": [],
   "source": [
    "text = 'This is a string.'\n",
    "\n",
    "print(type(text))"
   ]
  },
  {
   "cell_type": "code",
   "execution_count": null,
   "id": "7fead10c",
   "metadata": {},
   "outputs": [],
   "source": [
    "characters = tuple(text)\n",
    "\n",
    "print(characters)"
   ]
  },
  {
   "cell_type": "code",
   "execution_count": null,
   "id": "25cd6cf3",
   "metadata": {
    "lines_to_next_cell": 2
   },
   "outputs": [],
   "source": [
    "print(type(characters))"
   ]
  },
  {
   "cell_type": "markdown",
   "id": "91582416",
   "metadata": {},
   "source": [
    "### **Immutability** {#subsec:tuple:immutability}\n",
    "\n",
    "In contrast with ```list```, however, if we attempt to change the contents of a ```tuple```, a ```TypeError``` is raised:"
   ]
  },
  {
   "cell_type": "code",
   "execution_count": null,
   "id": "f5f1b50e",
   "metadata": {},
   "outputs": [],
   "source": [
    "coreceptors[1] = 'LRP5/6'"
   ]
  },
  {
   "cell_type": "markdown",
   "id": "09eff98a",
   "metadata": {},
   "source": [
    "Even though ```tuple``` is an immutable type, it can contain both mutable and immutable objects:"
   ]
  },
  {
   "cell_type": "code",
   "execution_count": null,
   "id": "72f7d92d",
   "metadata": {},
   "outputs": [],
   "source": [
    "# (immutable, immutable, immutable, mutable)\n",
    "mixed_tuple = (1, 2.5, 'abc', (3, 4), [5, 6])\n",
    "\n",
    "print(mixed_tuple)"
   ]
  },
  {
   "cell_type": "markdown",
   "id": "ecd8b1ae",
   "metadata": {
    "lines_to_next_cell": 0
   },
   "source": [
    "and mutable objects inside a ```tuple``` may still be changed:"
   ]
  },
  {
   "cell_type": "code",
   "execution_count": null,
   "id": "82477869",
   "metadata": {
    "lines_to_next_cell": 2
   },
   "outputs": [],
   "source": [
    "print(mixed_tuple, type(mixed_tuple))"
   ]
  },
  {
   "cell_type": "code",
   "execution_count": null,
   "id": "cbecb431",
   "metadata": {},
   "outputs": [],
   "source": [
    "print(mixed_tuple[4], type(mixed_tuple[4]))"
   ]
  },
  {
   "cell_type": "markdown",
   "id": "b241e0c9",
   "metadata": {},
   "source": [
    ":::::::::::::::::::::::::::::::::::: callout\n",
    "## Advanced Topic\n",
    "<p style='text-align: justify;'>\n",
    "**Why / how can we change mutable objects inside a ```tuple``` when it is immutable?** Members of a ```tuple``` or not directly stored in the memory. An immutable value (*e.g.*  an ```int```) has an existing, predefined reference in the memory. When used in a ```tuple```, it is that reference that is *associated* with the ```tuple```, and not the value itself. On the other hand, a mutable object does not have a predefined reference in the memory and is instead created on request somewhere in the memory (wherever there is enough free space). Whilst we can never change or redefine predefined references, we can always manipulate something we have defined ourselves. When we make such an alteration, the location of our mutable object in the memory may well change, but its reference --- which is what is stored in a ```tuple```, remains identical. You can find out what is the reference an object in Python using the function ```id()```. If you experiment with it, you will notice that the reference to an immutable object (*e.g.*  an ```int``` value) would never change, no matter how many time you define it in a different context or variable. In contrast, the reference number to a mutable object (*e.g.*  a ```list```) changes every time it is defined, even if it contains exactly the same values.\n",
    "</p>\n",
    "\n",
    "::::::::::::::::::::::::::::::::::::"
   ]
  },
  {
   "cell_type": "code",
   "execution_count": null,
   "id": "47166b03",
   "metadata": {},
   "outputs": [],
   "source": [
    "# Lists are mutable, so we can alter their values:\n",
    "mixed_tuple[4][1] = 15\n",
    "\n",
    "print(mixed_tuple)"
   ]
  },
  {
   "cell_type": "code",
   "execution_count": null,
   "id": "ef2e65d3",
   "metadata": {},
   "outputs": [],
   "source": [
    "mixed_tuple[4].append(25)\n",
    "\n",
    "print(mixed_tuple)"
   ]
  },
  {
   "cell_type": "code",
   "execution_count": null,
   "id": "3e8ebc8d",
   "metadata": {},
   "outputs": [],
   "source": [
    "# We cannot remove the list from the tuple,\n",
    "# but we can empty it by clearing its members:\n",
    "mixed_tuple[4].clear()\n",
    "\n",
    "print(mixed_tuple)"
   ]
  },
  {
   "cell_type": "markdown",
   "id": "3a473186",
   "metadata": {},
   "source": [
    "Tuples may be empty or have a single value (singleton):"
   ]
  },
  {
   "cell_type": "code",
   "execution_count": null,
   "id": "9c91a3ed",
   "metadata": {},
   "outputs": [],
   "source": [
    "member_a = tuple()\n",
    "\n",
    "print(member_a, type(member_a), len(member_a))"
   ]
  },
  {
   "cell_type": "code",
   "execution_count": null,
   "id": "a4f1a888",
   "metadata": {},
   "outputs": [],
   "source": [
    "# Empty parentheses also generate an empty tuple.\n",
    "# Remember: we cannot add values to an empty tuple later.\n",
    "member_b = ()\n",
    "\n",
    "print(member_b, type(member_b), len(member_b))"
   ]
  },
  {
   "cell_type": "code",
   "execution_count": null,
   "id": "d3d521de",
   "metadata": {},
   "outputs": [],
   "source": [
    "# Singleton - Note that it is essential to include\n",
    "# a comma after the value in a single-member tuple:\n",
    "member_c = ('John Doe',)\n",
    "\n",
    "print(member_c, type(member_c), len(member_c))"
   ]
  },
  {
   "cell_type": "code",
   "execution_count": null,
   "id": "4048559d",
   "metadata": {},
   "outputs": [],
   "source": [
    "# If the comma is not included, a singleton tuple\n",
    "# is not constructed:\n",
    "member_d = ('John Doe')\n",
    "\n",
    "print(member_d, type(member_d), len(member_d))"
   ]
  },
  {
   "cell_type": "markdown",
   "id": "23eb6f0d",
   "metadata": {},
   "source": [
    "### **Packing and unpacking**\n",
    "A ```tuple``` may be constructed without parenthesis. This is an implicit operation and is known as *packing*.\n",
    "\n",
    ":::::::::::::::::::::::::::::::::::: callout\n",
    "## Remember\n",
    "Implicit processes must be used sparingly. As always, the more coherent the code, the better it is.\n",
    "\n",
    "::::::::::::::::::::::::::::::::::::"
   ]
  },
  {
   "cell_type": "code",
   "execution_count": null,
   "id": "ac4bfa65",
   "metadata": {},
   "outputs": [],
   "source": [
    "numbers = 1, 2, 3, 5, 7, 11\n",
    "\n",
    "print(numbers, type(numbers), len(numbers))"
   ]
  },
  {
   "cell_type": "code",
   "execution_count": null,
   "id": "afadf5b8",
   "metadata": {},
   "outputs": [],
   "source": [
    "# Note that for a singleton, we still need to\n",
    "# include the comma.\n",
    "member = 'John Doe',\n",
    "\n",
    "print(member, type(member), len(member))"
   ]
  },
  {
   "cell_type": "markdown",
   "id": "ce0d96d6",
   "metadata": {},
   "source": [
    "The reverse of this process is known as unpacking. Unpacking is no longer considered an implicit process because it replaces unnamed values inside an array, with named variables:"
   ]
  },
  {
   "cell_type": "code",
   "execution_count": null,
   "id": "f309714a",
   "metadata": {},
   "outputs": [],
   "source": [
    "dimensions = 14, 17, 12\n",
    "\n",
    "x, y, z = dimensions\n",
    "\n",
    "print(x)"
   ]
  },
  {
   "cell_type": "code",
   "execution_count": null,
   "id": "0bb06575",
   "metadata": {},
   "outputs": [],
   "source": [
    "print(x, y)"
   ]
  },
  {
   "cell_type": "code",
   "execution_count": null,
   "id": "c721241f",
   "metadata": {
    "lines_to_next_cell": 2
   },
   "outputs": [],
   "source": [
    "member = ('Jane Doe', 28, 'London', 'Student', 'Female')\n",
    "name, age, city, status, gender = member\n",
    "\n",
    "print('Name:', name, '- Age:', age)"
   ]
  },
  {
   "cell_type": "markdown",
   "id": "418a6059",
   "metadata": {
    "lines_to_next_cell": 0
   },
   "source": [
    "::::::::::::::::::::::::::::::: challenge\n",
    "\n",
    "## Do it Yourself\n",
    "\n",
    "Given:"
   ]
  },
  {
   "cell_type": "code",
   "execution_count": null,
   "id": "dba10a57",
   "metadata": {},
   "outputs": [],
   "source": [
    "protein_info = ('GFP', 238)"
   ]
  },
  {
   "cell_type": "markdown",
   "id": "03a60043",
   "metadata": {},
   "source": [
    "Unpack <span style=\"color: rgb(32, 121, 77);\">protein_info</span> into two distinct variables <span style=\"color: rgb(32, 121, 77);\">protein_name</span> and <span style=\"color: rgb(32, 121, 77);\">protein_length</span>.\n"
   ]
  },
  {
   "cell_type": "markdown",
   "id": "02fcaf53",
   "metadata": {
    "lines_to_next_cell": 0
   },
   "source": [
    "::::::::::::::::: solution\n",
    "\n",
    "## DIY ANSWER"
   ]
  },
  {
   "cell_type": "code",
   "execution_count": null,
   "id": "ef980fa1",
   "metadata": {
    "lines_to_next_cell": 0
   },
   "outputs": [],
   "source": [
    "protein_name, protein_length = protein_info"
   ]
  },
  {
   "cell_type": "markdown",
   "id": "53ff1b1c",
   "metadata": {},
   "source": [
    ":::::::::::::::::\n",
    "\n",
    ":::::::::::::::::::::::::::::::\n"
   ]
  },
  {
   "cell_type": "markdown",
   "id": "dff90a8f",
   "metadata": {},
   "source": [
    ":::::::::::::::::::::::::::::::::::: callout\n",
    "## Note\n",
    "<p style='text-align: justify;'>\n",
    "There is another type of ```tuple``` in Python entitled ```namedtuple```. It allows for the members of a ```tuple``` to be named independently (*e.g.*  ```member.name``` or ```member.age```), and thereby eliminates the need for unpacking. It was originally implemented by [Raymond Hettinger](https://twitter.com/raymondh), one of Python's core developers, for Python 2.4 (in 2004) but was much neglected at the time. It has since gained popularity as a very useful tool. ```namedtuple``` is not a built-in tool, so it is not discussed here. However, it is included in the default library and is installed as a part of Python.\n",
    "If you are particularly adventurous, or want to learn more, feel free to have a look at the [official documentations](https://docs.python.org/3.6/library/collections.html\\#collections.namedtuple) and examples. Raymond is also a regular speaker at PyCon (International Python Conferences), recordings of which are available on YouTube. He also uses his Twitter to talk about small, but important features in Python (yes, tweets!).\n",
    "</p>\n",
    "\n",
    "::::::::::::::::::::::::::::::::::::\n",
    "\n",
    "### **Summary**\n",
    "<p style='text-align: justify;'>\n",
    "In this section, we learned about ```tuple```, another type of built-in arrays in Python that is *immutable*. This means that once created, the array can no longer be altered. We saw that trying to change the value of a ```tuple``` raises a ```TypeError```. We also established that ```list``` and ```tuple``` follow an identical indexing protocol, and that they have 2 methods in common: <kbd>.index()()</kbd> and <kbd>.count()</kbd>. Finally, we talked about *packing* and *unpacking* techniques, and how they improve the quality and readability of our code.\n",
    "</p>\n",
    "\n",
    "<p style='text-align: justify;'>\n",
    "If you are interested in learning about ```list``` and ```tuple``` in more depth, have a look at the [official documentations of Sequence Types -- list, tuple, range](https://docs.python.org/3/library/stdtypes.html#sequence-types-list-tuple-range).\n",
    "</p>\n",
    "\n",
    ":::::::::::::::::::::::::::::::::::: callout\n",
    "## Interesting Fact\n",
    "<p style='text-align: justify;'>\n",
    "Graph theory was initially developed by the renowned Swiss mathematician and logician Leonhard Euler (1707 -- 1783). However, graphs in the sense discussed here were introduced by the English mathematician James Joseph Sylvester (1814 -- 1897).\n",
    "</p>\n",
    "\n",
    "::::::::::::::::::::::::::::::::::::"
   ]
  },
  {
   "cell_type": "markdown",
   "id": "3e957c72",
   "metadata": {},
   "source": [
    "## Exercises\n",
    "\n",
    "##\n",
    ":::::::::::::::::::::::::::::::::::::::: challenge\n",
    "\n",
    "## End of chapter Exercises\n",
    "\n",
    "1. We have\n",
    "\n",
    "```\n",
    "table = [[1, 2, 3], ['a', 'b'], [1.5, 'b', 4], [2]]\n",
    "```\n",
    "\n",
    "what is the length of <span style=\"color: rgb(32, 121, 77);\">table</span> and why?\n",
    "\n",
    "Store your answer in a variable and display it using <kbd>print()</kbd>.\n",
    "\n",
    "2. Given the sequence for the Gamma (catalytic) subunit of the Protein Kinase A as:\n",
    "\n",
    "```\n",
    "human_pka_gamma = (\n",
    "  'MAAPAAATAMGNAPAKKDTEQEESVNEFLAKARGDFLYRWGNPAQNTASSDQFERLRTLGMGSFGRVML'\n",
    "  'VRHQETGGHYAMKILNKQKVVKMKQVEHILNEKRILQAIDFPFLVKLQFSFKDNSYLYLVMEYVPGGEM'\n",
    "  'FSRLQRVGRFSEPHACFYAAQVVLAVQYLHSLDLIHRDLKPENLLIDQQGYLQVTDFGFAKRVKGRTWT'\n",
    "  'LCGTPEYLAPEIILSKGYNKAVDWWALGVLIYEMAVGFPPFYADQPIQIYEKIVSGRVRFPSKLSSDLK'\n",
    "  'DLLRSLLQVDLTKRFGNLRNGVGDIKNHKWFATTSWIAIYEKKVEAPFIPKYTGPGDASNFDDYEEEEL'\n",
    "  'RISINEKCAKEFSEF'\n",
    "  )\n",
    "```\n",
    "\n",
    "Using the sequence;\n",
    "\n",
    "* work out and display the number of Serine (<span style=\"color: rgb(32, 121, 77);\">S</span>) residues.\n",
    "\n",
    "* work out and display the number of Threonine (<span style=\"color: rgb(32, 121, 77);\">T</span>) residues.\n",
    "\n",
    "* calculate and display the total number of Serine and Threonine residues in the following format:\n",
    "\n",
    "```\n",
    "Serine: X\n",
    "Threonine: X\n",
    "```\n",
    "\n",
    "* create a nested array to represent the following table, and call it \\texttt{residues}:\n",
    "\n",
    "![](fig/nested_index.png)"
   ]
  },
  {
   "cell_type": "markdown",
   "id": "265ebd99",
   "metadata": {},
   "source": [
    "3. Explain why in the previous question, we used the term *nested* instead of *two-dimensional* in reference to the array? Store your answer in a variable and display it using <kbd>print()</kbd>.\n",
    "\n",
    "4. [Graph theory](https://en.wikipedia.org/wiki/Graph_theory) is a prime object of discrete mathematics and is utilised for the non-linear analyses of data. The theory is extensively used in systems biology, and is gaining momentum in bioinformatics too. In essence, a [graph](https://en.wikipedia.org/wiki/Graph_(discrete_mathematics)) is a structure that represents a set of object (nodes) and the connections between them (edges).\n",
    "\n",
    "The aforementioned connections are described using a special binary (zero and one) matrix known as the [adjacency matrix](https://en.wikipedia.org/wiki/Adjacency_matrix). The elements of this matrix indicate whether or not a pair of nodes in the graph are adjacent to one another.\n",
    "\n",
    "![](fig/adjacency_matrix.png)\n",
    "where each row in the matrix represents a node of origin in the graph, and each column a node of destination:\n",
    "\n",
    "![](fig/adjacency_matrix2.png)\n",
    "If the graph maintains a connection (edge) between 2 nodes (*e.g.* between nodes <span style=\"color: rgb(32, 121, 77);\">A</span> and <span style=\"color: rgb(32, 121, 77);\">B</span> in the graph above), the corresponding value between those nodes would be \\#1 in the matrix, and if there are no connections, the corresponding value would \\#0.\n",
    "\n",
    "Given the following graph:\n",
    "![](fig/adjacency_matrix3.png)\n",
    "\n",
    "Determine the adjacency matrix and implement it as a two-dimensional array in Python. Display the final array.\n",
    "\n",
    "::::::::::::::::::::: solution\n",
    "\n",
    "## Please check these solutions only after submitting the assignments.\n",
    "\n",
    "### Q1"
   ]
  },
  {
   "cell_type": "code",
   "execution_count": null,
   "id": "af95c9bb",
   "metadata": {
    "results": "hold"
   },
   "outputs": [],
   "source": [
    "table = [[1, 2, 3], ['a', 'b'], [1.5, 'b', 4], [2]]\n",
    "\n",
    "table_length = len(table)\n",
    "print('length of Table:', table_length)\n",
    "\n",
    "reason = (\n",
    "    \"The length of a `list` is a function of its \"\n",
    "    \"distinct members, regardless of their types.\"\n",
    ")\n",
    "\n",
    "print('')\n",
    "print(reason)"
   ]
  },
  {
   "cell_type": "markdown",
   "id": "fd78820b",
   "metadata": {},
   "source": [
    "### Q2"
   ]
  },
  {
   "cell_type": "code",
   "execution_count": null,
   "id": "b97a9c23",
   "metadata": {
    "results": "hold"
   },
   "outputs": [],
   "source": [
    "human_pka_gamma = (\n",
    "  'MAAPAAATAMGNAPAKKDTEQEESVNEFLAKARGDFLYRWGNPAQNTASSDQFERLRTLGMGSFGRVML'\n",
    "  'VRHQETGGHYAMKILNKQKVVKMKQVEHILNEKRILQAIDFPFLVKLQFSFKDNSYLYLVMEYVPGGEM'\n",
    "  'FSRLQRVGRFSEPHACFYAAQVVLAVQYLHSLDLIHRDLKPENLLIDQQGYLQVTDFGFAKRVKGRTWT'\n",
    "  'LCGTPEYLAPEIILSKGYNKAVDWWALGVLIYEMAVGFPPFYADQPIQIYEKIVSGRVRFPSKLSSDLK'\n",
    "  'DLLRSLLQVDLTKRFGNLRNGVGDIKNHKWFATTSWIAIYEKKVEAPFIPKYTGPGDASNFDDYEEEEL'\n",
    "  'RISINEKCAKEFSEF'\n",
    "  )\n",
    "\n",
    "total_serine = human_pka_gamma.count(\"S\")\n",
    "total_threonine = human_pka_gamma.count(\"T\")\n",
    "\n",
    "print('Serine:', total_serine)\n",
    "print('Threonine:', total_threonine)\n",
    "\n",
    "residues = [\n",
    "    ['S', total_serine],\n",
    "    ['T', total_threonine]\n",
    "    ]\n",
    "print(residues)\n"
   ]
  },
  {
   "cell_type": "markdown",
   "id": "25009519",
   "metadata": {
    "lines_to_next_cell": 0
   },
   "source": [
    "### Q3"
   ]
  },
  {
   "cell_type": "code",
   "execution_count": null,
   "id": "ac975cc7",
   "metadata": {},
   "outputs": [],
   "source": [
    "answer = (\n",
    "  \"Members of a two-dimensional array must themselves be arrays of \"\n",
    "  \"equal lengths containing identically typed members.\"\n",
    ")\n",
    "print(answer)\n"
   ]
  },
  {
   "cell_type": "markdown",
   "id": "5441b287",
   "metadata": {
    "lines_to_next_cell": 0
   },
   "source": [
    "### Q4"
   ]
  },
  {
   "cell_type": "code",
   "execution_count": null,
   "id": "a3bf225c",
   "metadata": {},
   "outputs": [],
   "source": [
    "\n",
    "# Column initials:\n",
    "#    S, H, A, A, G\n",
    "adjacency_matrix = [\n",
    "    [0, 1, 0, 0, 0],  # Stress\n",
    "    [0, 0, 1, 0, 0],  # Hypothalamus\n",
    "    [0, 0, 0, 1, 0],  # Anterior Pituitary Gland\n",
    "    [0, 0, 0, 0, 1],  # Adrenal Cortex\n",
    "    [0, 1, 1, 0, 0],  # Glucocorticoids\n",
    "]\n",
    "\n",
    "print(adjacency_matrix)\n"
   ]
  },
  {
   "cell_type": "markdown",
   "id": "c8d5db73",
   "metadata": {},
   "source": [
    ":::::::::::::::::::::\n",
    "::::::::::::::::::::::::::::::::::::::::"
   ]
  },
  {
   "cell_type": "markdown",
   "id": "22c5488e",
   "metadata": {},
   "source": [
    "::::::::::::::::::::::::::::::::::::: keypoints\n",
    "\n",
    "- ```lists``` and ```tuples``` are 2 types of arrays.\n",
    "- An index is a unique reference to a specific value and Python uses a zero-based indexing system.\n",
    "- ```lists``` are mutable because their contents to be modified.\n",
    "- <kbd>slice()</kbd>, <kbd>.pop()</kbd>, <kbd>.index()</kbd>, <kbd>.remove()</kbd> and <kbd>.insert()</kbd> are some of the key functions used on mutable arrays.\n",
    "- ```tuples``` are immutable which means its contents cannot be modified.\n",
    "\n",
    "::::::::::::::::::::::::::::::::::::::::::::::::\n",
    "\n"
   ]
  },
  {
   "cell_type": "markdown",
   "id": "c3e1bdea",
   "metadata": {},
   "source": [
    "[r-markdown]: https://rmarkdown.rstudio.com/"
   ]
  }
 ],
 "metadata": {
  "jupytext": {
   "cell_metadata_filter": "results,-all",
   "main_language": "python",
   "notebook_metadata_filter": "-all"
  }
 },
 "nbformat": 4,
 "nbformat_minor": 5
}
