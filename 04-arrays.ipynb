{
 "cells": [
  {
   "cell_type": "raw",
   "id": "ffbe4105",
   "metadata": {},
   "source": [
    "---\n",
    "title: \"Arrays\"\n",
    "teaching: 10\n",
    "exercises: 2\n",
    "---"
   ]
  },
  {
   "cell_type": "markdown",
   "id": "bfb1d19a",
   "metadata": {},
   "source": []
  },
  {
   "cell_type": "markdown",
   "id": "b37dd51b",
   "metadata": {},
   "source": [
    "- \n",
    "-\n",
    "-\n"
   ]
  },
  {
   "cell_type": "markdown",
   "id": "024d8e24",
   "metadata": {},
   "source": [
    "-\n",
    "-\n",
    "-"
   ]
  },
  {
   "cell_type": "markdown",
   "id": "a7d3fe59",
   "metadata": {},
   "source": [
    "**The materials for this chapter will be released on 23^rd^ May 2022.**\n",
    "\n",
    "\n",
    "\n",
    "\n"
   ]
  },
  {
   "cell_type": "markdown",
   "id": "874d2ee4",
   "metadata": {},
   "source": [
    "-\n",
    "-\n",
    "-\n",
    "\n",
    "\n"
   ]
  },
  {
   "cell_type": "markdown",
   "id": "e831a6ac",
   "metadata": {},
   "source": [
    "[r-markdown]: https://rmarkdown.rstudio.com/"
   ]
  }
 ],
 "metadata": {
  "jupytext": {
   "cell_metadata_filter": "-all",
   "main_language": "python",
   "notebook_metadata_filter": "-all"
  }
 },
 "nbformat": 4,
 "nbformat_minor": 5
}
