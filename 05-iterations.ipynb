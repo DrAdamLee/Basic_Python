{
 "cells": [
  {
   "cell_type": "raw",
   "id": "4449bc43",
   "metadata": {},
   "source": [
    "---\n",
    "title: \"Iterations\"\n",
    "teaching: 58\n",
    "exercises: 2\n",
    "---"
   ]
  },
  {
   "cell_type": "markdown",
   "id": "5c869950",
   "metadata": {},
   "source": [
    "[**Download Chapter notebook (ipynb)**](05-iterations.ipynb)\n",
    "\n",
    "[<span style=\"color: rgb(255, 0, 0);\">**Mandatory Lesson Feedback Survey**</span>](https://docs.google.com/forms/d/e/1FAIpQLSdr0capF7jloJhPH3Pki1B3LZoKOG16poOpuVJ7SL2LkwLHQA/viewform?pli=1)"
   ]
  },
  {
   "cell_type": "markdown",
   "id": "8d4582ae",
   "metadata": {},
   "source": [
    ":::::::::::::::::::::::::::::::::::::: questions\n",
    "\n",
    "- What do we mean by *iterations* and *loops*?\n",
    "- How are ```for```-loops implemented?\n",
    "- Can conditional statements be used in iterations?\n",
    "- When to use ```while```-loops?\n",
    "\n",
    "::::::::::::::::::::::::::::::::::::::::::::::::\n"
   ]
  },
  {
   "cell_type": "markdown",
   "id": "371bda6f",
   "metadata": {},
   "source": [
    "::::::::::::::::::::::::::::::::::::: objectives\n",
    "\n",
    "- Understanding the concept of iterations and loops.\n",
    "- Learning the processes involved in ```for```-loops implementation.\n",
    "- Building concept of using conditional statements in loops.\n",
    "- Understanding when to use while loop.\n",
    "\n",
    "::::::::::::::::::::::::::::::::::::::::::::::::\n",
    "\n",
    "<br>\n",
    "<p align = \"center\">\n",
    "<iframe width=\"560\" height=\"315\" src=\"https://www.youtube.com/embed/40mryCzIBwc\" title=\"YouTube video player\" frameborder=\"0\" allow=\"accelerometer; autoplay; clipboard-write; encrypted-media; gyroscope; picture-in-picture\" allowfullscreen></iframe>\n",
    "</p>\n",
    "<br>\n",
    "<p align = \"center\">\n",
    "<iframe width=\"560\" height=\"315\" src=\"https://www.youtube.com/embed/-Ex4JtqhWLw\" title=\"YouTube video player\" frameborder=\"0\" allow=\"accelerometer; autoplay; clipboard-write; encrypted-media; gyroscope; picture-in-picture\" allowfullscreen></iframe>\n",
    "</p>\n",
    "<br>\n",
    "This chapter assumes that you are familiar with the following concepts in Python 3:\n",
    "\n",
    ":::::::::::::::::: prereq\n",
    "- [I/O Operations](02-input_output.Rmd#operations)\n",
    "- [Variables and Types](02-input_output.Rmd#varTypes)\n",
    "- [Mathematical Operation](02-input_output.Rmd#math_ops)\n",
    "- [Logical Operations](02-input_output.Rmd#subsec:logicalOperatons)\n",
    "- [Indentation Rule](03-conditional_statements.Rmd#subsubsec:indentationRule)\n",
    "- [Conditional Statements](03-conditional_statements.Rmd)\n",
    "- [Arrays](04-arrays.Rmd)\n",
    "\n",
    "::::::::::::::::::\n",
    "\n",
    "<p style='text-align: justify;'>\n",
    "Additionally, make sure that you are comfortable with the principles of [indexing](04-arrays.Rmd#sec:list:indexing) in arrays before you start this section. It is very important that you have a good understanding of arrays and sequences, because the concept of iteration in programming deals *almost* exclusively with these subjects.\n",
    "</p>\n",
    "\n",
    ":::::::::::::::::::::::::::::::::::: callout\n",
    "## Note\n",
    "<p style='text-align: justify;'>\n",
    "You can practice everything in this section and the subsequent ones as you have been doing so far. However, if you find it hard to grasp some of the concepts, don't worry, you are not alone. It takes practice. To help you with that, [Philip Guo](http://www.pgbovine.net) from UC San Diego (Calif., USA) has developed [PythonTutor.com](http://www.pythontutor.com/visualize.html\\#mode=edit), an excellent online tool for learning Python. On that website, write (or 'copy and paste') your code in the editor, then click *Visualize Execution*. In the new page, use the *forward* and *back* buttons to see a step-by-step graphical visualisation of the processes that occur during the execution of your code. Try it on the examples in this section.\n",
    "</p>\n",
    "\n",
    "::::::::::::::::::::::::::::::::::::"
   ]
  },
  {
   "cell_type": "markdown",
   "id": "f298be79",
   "metadata": {},
   "source": [
    "## The concept\n",
    "<p style='text-align: justify;'>\n",
    "We employ iterations and loops in programming to perform repetitive operations. A repetitive operation is a reference to one or several defined operations that are repeated multiple times.\n",
    "</p>\n",
    "\n",
    "For instance, suppose we have a ```list``` of 5 numbers as follows:\n",
    "\n",
    "```\n",
    "numbers = [-3, -2, 5, 0, 12]\n",
    "```\n",
    "\n",
    "Now we would like to multiply each number by 2. Based on what we have learned thus far, this is how we would approach this problem:"
   ]
  },
  {
   "cell_type": "code",
   "execution_count": null,
   "id": "faa58e5a",
   "metadata": {},
   "outputs": [],
   "source": [
    "numbers = [-3, -2, 5, 0, 12]\n",
    "\n",
    "numbers[0] *= 2\n",
    "numbers[1] *= 2\n",
    "numbers[2] *= 2\n",
    "numbers[3] *= 2\n",
    "numbers[4] *= 2\n",
    "\n",
    "print(numbers)"
   ]
  },
  {
   "cell_type": "markdown",
   "id": "f3f361d9",
   "metadata": {},
   "source": [
    "<p style='text-align: justify;'>\n",
    "Whilst this does the job, it is clearly very tedious and repetitive. In addition to that, if we have an array of several thousand members, this approach becomes infeasible.\n",
    "</p>\n",
    "\n",
    "The process of multiplying individual members of our array with 2 is a very simple example of a repetitive operations."
   ]
  },
  {
   "cell_type": "markdown",
   "id": "48db8b70",
   "metadata": {},
   "source": [
    ":::::::::::::::::::::::::::::::::::: callout\n",
    "## Remember\n",
    "In programming, there is a universally appreciated golden principle known as the **DRY** rule; and this is what it stand for:\n",
    "\n",
    "<p align = \"center\">\n",
    "**D**on't **R**epeat **Y**ourself\n",
    "</p>\n",
    "\n",
    "So if you find yourself doing something again and again, it is fair to assume that there might a better way of getting the results you're looking for ...\n",
    "\n",
    "Some programmers (with questionable motives) have come up with a **WET** rule too. Find out more about DRY and WET from [Wikipedia](https://en.wikipedia.org/wiki/Don\\%27t_repeat_yourself).\n",
    "\n",
    "::::::::::::::::::::::::::::::::::::\n",
    "\n",
    "<p style='text-align: justify;'>\n",
    "There are some universal tools for iterations that exist in all programming languages --- *e.g.* <kbd>for</kbd> and <kbd>while</kbd> loops. Some other tools such as vectorisation or generators, however, are unique to one or several specific programming languages.\n",
    "</p>\n",
    "\n",
    "<p style='text-align: justify;'>\n",
    "Throughout this section, we will discuss iterations via <kbd>for</kbd> and <kbd>while</kbd> loops, and review some real-world examples that may only be addressed using iterative processes.\n",
    "</p>\n",
    "\n",
    "## for-loops {#for-loop}\n",
    "\n",
    "<p style='text-align: justify;'>\n",
    "Some of the data show that up to 80\\% of all conventional iterations are implemented as <kbd>for</kbd> loops. Whether or not it is the best choice in of all these cases is a matter of opinion. What is important, however, is to learn the difference between the 2 methods and feel comfortable with how they work.\n",
    "</p>\n",
    "\n",
    "<p style='text-align: justify;'>\n",
    "Implementation of <kbd>for</kbd> loops in Python is simple compared to other programming languages. It essentially iterates through an existing *iterable* variable --- e.g.  an array, and retrieves the values from it one by one, from the beginning right down to the end.\n",
    "</p>\n",
    "\n",
    ":::::::::::::::::::::::::::::::::::: callout\n",
    "## Remember\n",
    "<p style='text-align: justify;'>\n",
    "In Python, *iterable* is a term used in reference to variables that can be iterated through. Any variable type that can be used in a <kbd>for</kbd> loop *without* any modifications is therefore considered an *iterable*.\n",
    "</p>\n",
    "\n",
    "<p style='text-align: justify;'>\n",
    "Most arrays and sequences are iterable. See [Table](02-input_output.Rmd#fig:nativeTypes) to find out which native types in Python are iterable. A rule of thumb is that if an array or a sequence is numerically indexed (e.g.  ```list```, ```tuple```, or ```str```), it is an iterable.\n",
    "</p>\n",
    "\n",
    "::::::::::::::::::::::::::::::::::::\n",
    "\n",
    "![Flowchart of a ```for```–loop workflow applied to a ```list``` array.](fig/flowchart1.png){#flowchart}"
   ]
  },
  {
   "cell_type": "markdown",
   "id": "4f564fb0",
   "metadata": {},
   "source": [
    "[Figure](#flowchart) illustrates a flowchart to visualise the workflow of an iterative process using <kbd>for</kbd> loops in Python. The process depicted in the flowchart may be described as follows:"
   ]
  },
  {
   "cell_type": "markdown",
   "id": "a03baa24",
   "metadata": {},
   "source": [
    ":::::::::::::::::::::::::::::::::::: callout\n",
    "## Advanced Topic\n",
    "<p style='text-align: justify;'>\n",
    "An iterable is a Python variable that contains the built--in method ```.__iter__()```. Methods starting and ending with two underscores (dunderscores) are also known as *magic methods* in Python. See [Python documentations](https://docs.python.org/3/tutorial/classes.html\\#iterators) for additional information.\n",
    "</p>\n",
    "\n",
    "::::::::::::::::::::::::::::::::::::\n",
    "\n",
    ":::::::::::::::::::::::::::::::::::: discussion\n",
    "## Process\n",
    "1. A ```for```-loop is initialised using an array or a sequence and begins its process by going through the array values from the first row.\n",
    "\n",
    "2. **Iterative Process:** The value of the *current row* is retrieved and given the alias <span style=\"color: rgb(32, 121, 77);\">item</span>, which now represents a variable in the context of the loop.\n",
    "\n",
    "3. **Repetitive Operation(s):** Designated operations are performed using the value of <span style=\"color: rgb(32, 121, 77);\">item</span>:\n",
    "\n",
    "    - <span style=\"color: rgb(32, 121, 77);\">item *= 2</span>\n",
    "\n",
    "4. **Loop Condition:** The <kbd>for</kbd> loop *automatically* checks whether or not it has reached the last row of the sequence:\n",
    "\n",
    "    - **NO:** Move onto the next row and *repeat* the process from \\#2.\n",
    "    - **YES:** Exit the loop.\n",
    "\n",
    "::::::::::::::::::::::::::::::::::::\n",
    "\n",
    "We write this process in Python as:"
   ]
  },
  {
   "cell_type": "code",
   "execution_count": null,
   "id": "7c69992d",
   "metadata": {},
   "outputs": [],
   "source": [
    "numbers = [3, 5, 6.3, 9, 15, 3.4]\n",
    "\n",
    "for item in numbers:\n",
    "    item *= 2\n",
    "    # Display the item to see the results:\n",
    "    print(item)\n"
   ]
  },
  {
   "cell_type": "markdown",
   "id": "c50e48ba",
   "metadata": {},
   "source": [
    "<p style='text-align: justify;'>\n",
    "where we can see that the result for each iteration is displayed in a new line. [Example](#ExtExmp) outlines other such applications and expands on repetitive operations that may be simplified using <kbd>for</kbd> loops.\n",
    "</p>\n",
    "\n",
    ":::::::::::::::::::::::::::::::::::: callout\n",
    "## Remember\n",
    "A <kbd>for</kbd> loop is always initialised as:\n",
    "\n",
    "```\n",
    "for variable_name in an_array:\n",
    "  # An indented block of processes\n",
    "  # we would like to perform on the\n",
    "  # members of our array one by one.\n",
    "```\n",
    "\n",
    "<p style='text-align: justify;'>\n",
    "where ```an_array``` is an *iterable* variable, and ```variable_name``` is the name of the variable we temporarily assign to a member of ```an_array``` that corresponds with the current loop cycle (iteration). The number of loop cycles performed by a <kbd>for</kbd> loop is equal to the length (number of members) of the array that we are iterating through, which in this case is called ```an_array```.\n",
    "</p>\n",
    "\n",
    "<p style='text-align: justify;'>\n",
    "You can think of each iteration cycle as pulling out a row from table that is our array (as exemplified in section [arrays](04-arrays.Rmd)) and temporarily assigning its corresponding value to a variable until the next iteration cycle.\n",
    "</p>\n",
    "\n",
    "See subsection [List Members](04-arrays.Rmd#listMem) to find the length of an array.\n",
    "\n",
    "::::::::::::::::::::::::::::::::::::\n",
    "\n",
    "::::::::::::::::::::::::::::::: challenge\n",
    "\n",
    "## Do it Yourself\n",
    "\n",
    "Given:"
   ]
  },
  {
   "cell_type": "code",
   "execution_count": null,
   "id": "0f6773ca",
   "metadata": {},
   "outputs": [],
   "source": [
    "peptides = [\n",
    "    'GYSAR',\n",
    "    'HILNEKRILQAID',\n",
    "    'DNSYLY'\n",
    "\t\t]"
   ]
  },
  {
   "cell_type": "markdown",
   "id": "d6f257fa",
   "metadata": {},
   "source": [
    "Write a <kbd>for</kbd> loop to display each item in <span style=\"color: rgb(32, 121, 77);\">peptides</span> alongside its index and length. Display the results in the following format:\n",
    "\n",
    "```Peptide XXXX at index X contains X amino acids.```\n",
    "\n",
    "::::::::::::::::: solution\n",
    "\n",
    "## DIY ANSWER\n",
    "```{python}\n",
    "for sequence in peptides:\n",
    "    length = len(sequence)\n",
    "    index = peptides.index(sequence)\n",
    "\n",
    "    print('Peptide', sequence, 'at index', index, 'contains', length, 'amino acids.')\n",
    "```\n",
    "\n",
    ":::::::::::::::::\n",
    "\n",
    ":::::::::::::::::::::::::::::::\n",
    "\n",
    ":::::::::::::::::::::::::::::::::::: discussion\n",
    "\n",
    "### Extended example of iterations using ```for``` loops {#ExtExmp}\n",
    "When using a <kbd>for</kbd> loop, we can also reference other variables that have already been defined outside of the loop block:"
   ]
  },
  {
   "cell_type": "code",
   "execution_count": null,
   "id": "580e55f1",
   "metadata": {},
   "outputs": [],
   "source": [
    "numbers = [3, 5, 6.3, 9, 15, 3.4]\n",
    "counter = 0\n",
    "\n",
    "for item in numbers:\n",
    "    item *= 2\n",
    "\n",
    "    # Display the item to see the results:\n",
    "    print('Iteration number', counter, ':', item)\n",
    "\n",
    "    counter += 1"
   ]
  },
  {
   "cell_type": "markdown",
   "id": "c70f4045",
   "metadata": {},
   "source": [
    "It is also possible to define new variables inside the loop, but remember that the value of any variables defined inside a loop is reset in each iteration cycle:"
   ]
  },
  {
   "cell_type": "code",
   "execution_count": null,
   "id": "4c5fb799",
   "metadata": {},
   "outputs": [],
   "source": [
    "numbers = [3, 5, 6.3, 9, 15, 3.4]\n",
    "counter = 0\n",
    "\n",
    "for item in numbers:\n",
    "    new_value = item * 2\n",
    "\n",
    "    # Display the item to see the results:\n",
    "    print('Iteration number', counter, ':', item, '* 2 =', new_value)\n",
    "\n",
    "    counter += 1"
   ]
  },
  {
   "cell_type": "markdown",
   "id": "956617c8",
   "metadata": {
    "lines_to_next_cell": 0
   },
   "source": [
    "::::::::::::::::::::::::::::::::::::\n",
    "::::::::::::::::::::::::::::::: challenge\n",
    "\n",
    "## Do it Yourself\n",
    "\n",
    "Write a ```for``` loop to display the values of a ```tuple``` defined as:"
   ]
  },
  {
   "cell_type": "code",
   "execution_count": null,
   "id": "d832b433",
   "metadata": {},
   "outputs": [],
   "source": [
    "protein_kinases = ('PKA', 'PKC', 'MPAK', 'GSK3', 'CK1')"
   ]
  },
  {
   "cell_type": "markdown",
   "id": "be10f08a",
   "metadata": {},
   "source": [
    "such that each protein is displayed on a new line and follows the phrase ```Protein Kinase X:``` as in\n",
    "\n",
    "```\n",
    "Protein Kinase 1: PKA\n",
    "Protein Kinase 2: PKC\n",
    "```\n",
    "\n",
    "and so on.\n",
    "\n",
    "::::::::::::::::: solution\n",
    "## DIY ANSWER"
   ]
  },
  {
   "cell_type": "code",
   "execution_count": null,
   "id": "4d8e9783",
   "metadata": {},
   "outputs": [],
   "source": [
    "counter = 1\n",
    "\n",
    "for protein in protein_kinases:\n",
    "    print('Protein Kinase ', counter, ': ', protein, sep='')\n",
    "    counter += 1"
   ]
  },
  {
   "cell_type": "markdown",
   "id": "6fc68659",
   "metadata": {},
   "source": [
    ":::::::::::::::::\n",
    "\n",
    ":::::::::::::::::::::::::::::::\n",
    "\n",
    "### **Retaining the new values**\n",
    "<p style='text-align: justify;'>\n",
    "It is nice to be able to manipulate and display the values of an array but in the majority of cases, we need to retain the new values and use them later.\n",
    "</p>\n",
    "\n",
    "In such cases, we have two options:\n",
    "\n",
    "  - Create a new array to store our values.\n",
    "  - Replace the existing values with the new ones by overwriting them in the same array.\n",
    "\n",
    "<p style='text-align: justify;'>\n",
    "Creating a new array to store our values is very easy. All we need to do is to create a new ```list``` and add values to it in every iteration. In other words, We start off by creating an empty ```list```; to which we then add members using the <kbd>.append()</kbd> method inside our <kbd>for</kbd> loop. The process of creating a new ```list``` and using the <kbd>.append()</kbd> method to values to an existing ```list``` are discussed in subsections [Useful Methods](04-arrays.Rmd#subsubsec:list:usefulMethodsForList) and [mutability](04-arrays.Rmd#subsubsec:list:mutability), respectively.\n",
    "</p>"
   ]
  },
  {
   "cell_type": "code",
   "execution_count": null,
   "id": "faf92549",
   "metadata": {
    "lines_to_next_cell": 2
   },
   "outputs": [],
   "source": [
    "numbers = [-4, 0, 0.3, 5]\n",
    "new_numbers = list()\n",
    "\n",
    "for value in numbers:\n",
    "    squared = value ** 2\n",
    "    new_numbers.append(squared)\n",
    "\n",
    "print('numbers:', numbers)\n",
    "print('new_numbers:', new_numbers)"
   ]
  },
  {
   "cell_type": "markdown",
   "id": "7f19ad48",
   "metadata": {},
   "source": [
    "::::::::::::::::::::::::::::::: challenge\n",
    "\n",
    "## Do it Yourself\n",
    "\n",
    "Given:"
   ]
  },
  {
   "cell_type": "code",
   "execution_count": null,
   "id": "6e67a15c",
   "metadata": {
    "lines_to_next_cell": 0
   },
   "outputs": [],
   "source": [
    "peptides = [\n",
    "    'GYSAR',\n",
    "    'HILNEKRILQAID',\n",
    "    'DNSYLY'\n",
    "\t\t]"
   ]
  },
  {
   "cell_type": "markdown",
   "id": "bd0cf398",
   "metadata": {},
   "source": [
    "write a ```for``` loop in which you determine the length of each sequence in <span style=\"color: rgb(32, 121, 77);\">peptides</span>, and then store the results as a ```list``` of ```tuple``` items as follows:\n",
    "\n",
    "```\n",
    "[('SEQUENCE_1', X), ('SEQUENCE_2', X), ...]\n",
    "```\n",
    "\n",
    "::::::::::::::::: solution\n",
    "\n",
    "## DIY ANSWER"
   ]
  },
  {
   "cell_type": "code",
   "execution_count": null,
   "id": "a68b75ae",
   "metadata": {},
   "outputs": [],
   "source": [
    "peptides_with_length = list()\n",
    "\n",
    "for sequence in peptides:\n",
    "    length = len(sequence)\n",
    "    item = (sequence, length)\n",
    "\n",
    "    peptides_with_length.append(item)"
   ]
  },
  {
   "cell_type": "markdown",
   "id": "4a056bee",
   "metadata": {},
   "source": [
    ":::::::::::::::::\n",
    "\n",
    ":::::::::::::::::::::::::::::::\n",
    "\n",
    "The replacement method uses a slightly different approach. Essentially what we try to achieve is:"
   ]
  },
  {
   "cell_type": "markdown",
   "id": "75b3ca84",
   "metadata": {},
   "source": [
    "  - read the value of an item in an array;\n",
    "  - manipulate the value via operations;\n",
    "  - put the value back to the original array through *item assignment* and thereby replace the existing value.\n",
    "\n",
    "<p style='text-align: justify;'>\n",
    "We learned about modifying an existing value in a ```list``` in subsection [mutability](04-arrays.Rmd#subsubsec:list:mutability), where we discussed the concept of *item assignment*. The process of replacing the original values of an array in a <kbd>for</kbd> loop is identical. The key to performing this process, however, is that we need to have the correct *index* for the specific member of the array that we are trying to modify. Additionally, don't forget that *item assignment* is only possible in mutable arrays such as ```list```. See [Table](02-input_output.Rmd#fig:nativeTypes) to see which types of array are mutable in Python.\n",
    "</p>\n",
    "\n",
    "<p style='text-align: justify;'>\n",
    "To perform *item assignment*; we can implement a variable to represent the current iteration cycle in our <kbd>for</kbd> loop. We do so by initialising the variable with a value of 0, and adding 1 to its value at the end of each cycle. We can then use that variable as an *index* in each iteration cycle:\n",
    "</p>"
   ]
  },
  {
   "cell_type": "code",
   "execution_count": null,
   "id": "dd9c2935",
   "metadata": {},
   "outputs": [],
   "source": [
    "numbers = [-4, 0, 0.5, 5]\n",
    "\n",
    "# Variable representing the\n",
    "# index (iteration cycle):\n",
    "index = 0\n",
    "\n",
    "for value in numbers:\n",
    "    new_value = value ** 5\n",
    "\n",
    "    # Putting it back into\n",
    "    # the original array:\n",
    "    numbers[index] = new_value\n",
    "\n",
    "    # Adding one to the index for\n",
    "    # the next iteration cycle:\n",
    "    index += 1\n",
    "\n",
    "print(numbers)"
   ]
  },
  {
   "cell_type": "markdown",
   "id": "784cac1e",
   "metadata": {},
   "source": [
    ":::::::::::::::::::::::::::::::::::: callout\n",
    "## Advanced Topic\n",
    "<p style='text-align: justify;'>\n",
    "The ```enumerate()``` function actually returns a *generator* of ```tuple``` items each time it is called in the context of a ```for``` loop. A generator is in principle very similar to a normal array; however, unlike an array, the values of a generator are not evaluated by the computer until the exact time at which they are going to be used. This is an important technique in functional programming known as *lazy evaluation*. It is primarily utilised to reduce the workload on the computer (both the processor and the memory) by preventing the execution of processes that may be delayed for a later time. In the case of the ```enumerate()``` function, the values are evaluated at the beginning of each iteration cycle in a ```for``` loop. Learn more about lazy evaluation in [Wikipedia](https://en.wikipedia.org/wiki/Lazy_evaluation) or read more on generators in Python in the [official documentations](https://docs.python.org/3/howto/functional.html\\#generators).\n",
    "</p>\n",
    "\n",
    "::::::::::::::::::::::::::::::::::::\n",
    "\n",
    "<p style='text-align: justify;'>\n",
    "This is a perfectly valid approach and it is used in many programming languages. However, Python makes this process even easier by introducing the function <kbd>enumerate()</kbd>. We often use this function at the initiation of a <kbd>for</kbd> loop. The function takes an array as an input and as the name suggests, enumerates them; thereby simplifying the indexing process. The previous example may therefore be written more concisely in Python as follows:\n",
    "</p>"
   ]
  },
  {
   "cell_type": "code",
   "execution_count": null,
   "id": "1f614f8e",
   "metadata": {},
   "outputs": [],
   "source": [
    "numbers = [-4, 0, 0.5, 5]\n",
    "\n",
    "for index, value in enumerate(numbers):\n",
    "    # Manipulating the value:\n",
    "    new_value = value ** 5\n",
    "    numbers[index] = new_value\n",
    "\n",
    "print(numbers)"
   ]
  },
  {
   "cell_type": "markdown",
   "id": "5159b696",
   "metadata": {
    "lines_to_next_cell": 0
   },
   "source": [
    "::::::::::::::::::::::::::::::: challenge\n",
    "\n",
    "## Do it Yourself {#diy:loops:for:enumerate}\n",
    "\n",
    "Given:"
   ]
  },
  {
   "cell_type": "code",
   "execution_count": null,
   "id": "decf0df1",
   "metadata": {
    "lines_to_next_cell": 0
   },
   "outputs": [],
   "source": [
    "characters = ['1', '2', '3', '4']"
   ]
  },
  {
   "cell_type": "markdown",
   "id": "7a14ead4",
   "metadata": {
    "lines_to_next_cell": 0
   },
   "source": [
    "Display each item in <span style=\"color: rgb(32, 121, 77);\">characters</span> as many times in one line as the index of that item in <span style=\"color: rgb(32, 121, 77);\">characters</span>. The results should appear as follows:\n",
    "\n",
    "```\n",
    "2\n",
    "33\n",
    "444\n",
    "```\n",
    "::::::::::::::::: solution\n",
    "\n",
    "## DIY ANSWER"
   ]
  },
  {
   "cell_type": "code",
   "execution_count": null,
   "id": "eb5d365b",
   "metadata": {},
   "outputs": [],
   "source": [
    "for index, item in enumerate(characters):\n",
    "    print(item * index)"
   ]
  },
  {
   "cell_type": "markdown",
   "id": "b1dc90e9",
   "metadata": {},
   "source": [
    ":::::::::::::::::\n",
    "\n",
    ":::::::::::::::::::::::::::::::\n",
    "\n",
    "### **for-loop and conditional statements** {#subsubsec:loops:for:conditionalStatements}\n",
    "We can use conditional statements within <kbd>for</kbd> loops to account for and handle different situations.\n",
    "\n",
    "Suppose we want to find the smallest value (the minimum) within a ```list``` of numbers using a <kbd>for</kbd> loop. The workflow of this process is displayed as a flowchart diagram in [figure below](#flowchart5-2-2).\n",
    "\n",
    "![](fig/flowchart5-2-2.png){#flowchart5-2-2}\n",
    "\n",
    "Given an array, we can break down the problem as follows:"
   ]
  },
  {
   "cell_type": "markdown",
   "id": "479527e3",
   "metadata": {},
   "source": [
    "![](fig/instructions1.png)\n",
    "\n",
    "Finally, we can implement the process displayed in [figure](#flowchart5-2-2) as follows:"
   ]
  },
  {
   "cell_type": "code",
   "execution_count": null,
   "id": "181595cc",
   "metadata": {},
   "outputs": [],
   "source": [
    "numbers = [7, 16, 0.3, 0, 15, -4, 5, 3, 15]\n",
    "\n",
    "minimum = numbers[0]\n",
    "\n",
    "for value in numbers:\n",
    "    if value < minimum:\n",
    "        minimum = value\n",
    "\n",
    "print('The minimum value is:', minimum)"
   ]
  },
  {
   "cell_type": "markdown",
   "id": "25b75909",
   "metadata": {
    "lines_to_next_cell": 0
   },
   "source": [
    "::::::::::::::::::::::::::::::: challenge\n",
    "\n",
    "## Do it Yourself\n",
    "Given:"
   ]
  },
  {
   "cell_type": "code",
   "execution_count": null,
   "id": "f5fd38fb",
   "metadata": {
    "lines_to_next_cell": 0
   },
   "outputs": [],
   "source": [
    "peptides = [\n",
    "  'FAEKE',\n",
    "  'CDYSK',\n",
    "  'ATAMGNAPAKKDT',\n",
    "  'YSFQW',\n",
    "  'KRFGNLR',\n",
    "  'EKKVEAPF',\n",
    "  'GMGSFGRVML',\n",
    "  'YSFQMGSFGRW',\n",
    "  'YSFQMGSFGRW'\n",
    "\t\t]"
   ]
  },
  {
   "cell_type": "markdown",
   "id": "404b6130",
   "metadata": {},
   "source": [
    "Using a ```for``` loop and a conditional statement, find and display the sequences in <span style=\"color: rgb(32, 121, 77);\">peptides</span> that contain the amino acid serine (<span style=\"color: rgb(32, 121, 77);\">S</span>) in the following format:\n",
    "\n",
    "```\n",
    "Found S in XXXXX.\n",
    "```\n",
    "::::::::::::::::: solution\n",
    "\n",
    "## DIY ANSWER"
   ]
  },
  {
   "cell_type": "code",
   "execution_count": null,
   "id": "6ee23ae2",
   "metadata": {
    "lines_to_next_cell": 0
   },
   "outputs": [],
   "source": [
    "target = 'S'\n",
    "\n",
    "for sequence in peptides:\n",
    "    if target in sequence:\n",
    "        print('Found', target, 'in', sequence)"
   ]
  },
  {
   "cell_type": "markdown",
   "id": "00b53fb1",
   "metadata": {},
   "source": [
    ":::::::::::::::::\n",
    "\n",
    ":::::::::::::::::::::::::::::::\n",
    "\n",
    "### **Sequence of numbers in for-loops** {#subsec:iter:for:range}\n",
    "<p style='text-align: justify;'>\n",
    "To produce a sequence of ```int``` numbers to use in a <kbd>for</kbd> loop, we can use the built-in <kbd>range()</kbd> function. The function takes in 3 positional arguments representing *start*, *stop*, and *step*. Note that <kbd>range()</kbd> is *only* capable of producing a sequence of integer numbers.\n",
    "</p>\n",
    "\n",
    ":::::::::::::::::::::::::::::::::::: callout\n",
    "## Remember\n",
    "The <kbd>range()</kbd> function does not create the sequence of numbers immediately. Rather, it behaves in a similar way as the <kbd>enumerate()</kbd> function does (as a generator).\n",
    "\n",
    "::::::::::::::::::::::::::::::::::::\n",
    "\n",
    "Displaying the output of a <kbd>range()</kbd> function is not, as one might expect, an array of numbers:"
   ]
  },
  {
   "cell_type": "code",
   "execution_count": null,
   "id": "302a6ac2",
   "metadata": {
    "lines_to_next_cell": 2
   },
   "outputs": [],
   "source": [
    "range_generator = range(0, 10, 2)\n",
    "\n",
    "print(range_generator)"
   ]
  },
  {
   "cell_type": "markdown",
   "id": "a83198e4",
   "metadata": {},
   "source": [
    "It is, however, possible to evaluate the values outside of a <kbd>for</kbd> loop. To do so, we need to convert the output of the function to ```list``` or a ```tuple```:"
   ]
  },
  {
   "cell_type": "code",
   "execution_count": null,
   "id": "e1fecd6b",
   "metadata": {},
   "outputs": [],
   "source": [
    "range_sequence = list(range_generator)\n",
    "\n",
    "print(range_sequence)"
   ]
  },
  {
   "cell_type": "markdown",
   "id": "79a1c590",
   "metadata": {},
   "source": [
    ":::::::::::::::::::::::::::::::::::: callout\n",
    "## Remember\n",
    "<p style='text-align: justify;'>\n",
    "The <kbd>range()</kbd> function is *non-inclusive*. That is, it creates a sequence that starts from and includes the value given as the *start* argument, up to but excluding the the value of the *end* argument. For instance, ```range```(1, 5, 1) creates a sequence starting from <span style=\"color: rgb(32, 121, 77);\">1</span>, which is then incremented <span style=\"color: rgb(32, 121, 77);\">1</span> step at a time right up to <span style=\"color: rgb(32, 121, 77);\">5</span>, resulting in a sequence that includes the following numbers: <span style=\"color: rgb(32, 121, 77);\">1, 2, 3, 4</span>\n",
    "</p>\n",
    "\n",
    "::::::::::::::::::::::::::::::::::::\n",
    "\n",
    ":::::::::::::::::::::::::::::::::::: discussion\n",
    "\n",
    "## Example: Sequence comparison. dot plots and ```for```-loops{#bigexam}\n",
    "![](fig/example.5.2.2.png){#example}\n",
    "![](fig/dot_matrices.png){#dot}\n",
    "![](fig/dot_matrix_implementation.png){#dotImp}\n",
    "![](fig/flowchart2.png)\n",
    "![](fig/visualisation.png)\n",
    "![](fig/plot.png)\n",
    "\n",
    "::::::::::::::::::::::::::::::::::::\n",
    "\n",
    "## while-loops\n",
    "\n",
    "<p style='text-align: justify;'>\n",
    "In the previous, we explored ```for```-loop mediated iterations and learned that they are *exclusively* applied to iterable objects --- e.g.  arrays and sequences. This is because, as demonstrated in [workflow figure](#flowchart), at the end of each iteration, the *implicit* termination condition that is inherent in the process tests whether or not it has reached the end of the sequence it is iterating through.\n",
    "</p>\n",
    "\n",
    "<p style='text-align: justify;'>\n",
    "It may, however, be deemed necessary to apply iterative processes based on conditions other than that embedded in the ```for```-loop. In such cases, we use a different class of iterations known as the ```while```-loop.\n",
    "</p>"
   ]
  },
  {
   "cell_type": "markdown",
   "id": "be79f4b2",
   "metadata": {},
   "source": [
    "![](fig/remember.png)\n",
    "\n",
    "Consider the following scenario:\n",
    "\n",
    ">We want to ask the user to enter a sequence of exactly 5 amino acids in single letter code. If the provided sequence is more or less than 5 letters long, we would like to display a message and ask them to try again; otherwise, we will display the process and terminate the programme."
   ]
  },
  {
   "cell_type": "markdown",
   "id": "c8cfe6da",
   "metadata": {},
   "source": [
    "<p style='text-align: justify;'>\n",
    "It is impossible to write such a process using a ```for```-loop. This is because when we initialise the iteration process, the number of loops we need is unknown. In other words, we simply do not know how many times the user would need enter said sequence before they get it right.\n",
    "</p>\n",
    "\n",
    "![](fig/flowchart3.png){#flowchart3}\n",
    "\n",
    "<p style='text-align: justify;'>\n",
    "To simplify the understanding of the concept, we can visualise the process in flowchart, as displayed in [figure](#flowchart3). In the flowchart, you can see that the only way to exit the loop is to enter a sequence of exactly 5 characters. Doing anything else --- i.e. entering a different number of letters -- is tantamount to going back to be beginning of the loop. The process may be described verbally as follows:\n",
    "</p>\n",
    "\n",
    "1.  Initialise the variable <span style=\"color: rgb(32, 121, 77);\">sequence</span> and assign an empty string to it.\n",
    "\n",
    "2. *While* the length of <span style=\"color: rgb(32, 121, 77);\">sequence</span> is not equal to 5:\n",
    "\n",
    "   - Ask the use to enter a new <span style=\"color: rgb(32, 121, 77);\">sequence</span>.\n",
    "   - Go back to <span style=\"color: rgb(32, 121, 77);\">\\#2</span>.\n",
    "\n",
    "3. Display the value of <span style=\"color: rgb(32, 121, 77);\">sequence</span>."
   ]
  },
  {
   "cell_type": "markdown",
   "id": "591612cc",
   "metadata": {},
   "source": [
    "### **Implementation**\n",
    "We start ```while```-loop using the <kbd>while</kbd> syntax, immediately followed by the loop condition.\n",
    "\n",
    "We can now implement the process displayed in [figure](#flowchart3) as follows:\n",
    "\n",
    "```\n",
    "sequence = str()\n",
    "\n",
    "while len(sequence) != 5:\n",
    "    sequence = input('Enter a sequence of exactly 5 amino acids: ')\n",
    "\n",
    "print(sequence)\n",
    "```\n",
    "\n",
    "When executed, the above code will prompt the user to enter a value:\n",
    "\n",
    "```\n",
    "Enter a sequence of exactly 5 amino acids: GCGLLY\n",
    "Enter a sequence of exactly 5 amino acids: GCGL\n",
    "Enter a sequence of exactly 5 amino acids: GC\n",
    "Enter a sequence of exactly 5 amino acids: GCGLL\n",
    "\n",
    "GCGLL\n",
    "```\n",
    "\n",
    "As expected, the user is repetitively asked to enter a 5 character sequence until they supply the correct number of letters."
   ]
  },
  {
   "cell_type": "markdown",
   "id": "283a89f7",
   "metadata": {
    "lines_to_next_cell": 0
   },
   "source": [
    "::::::::::::::::::::::::::::::: challenge\n",
    "## Do it Yourself\n",
    "\n",
    "1. Write a script which asks the user to enter a number, then:\n",
    "\n",
    "   - if the second power of the number is smaller than <span style=\"color: rgb(32, 121, 77);\">10</span>, repeat the process and ask again;\n",
    "   - if the second power of the number is equal or greater than <span style=\"color: rgb(32, 121, 77);\">10</span>, display the original value and terminate the programme.\n",
    "\n",
    "**Hint:** Don't forget to [convert](#sec:conversionType) the value enter by the user to an appropriate numeric type *before* you perform any mathematical operations.\n",
    "<p style='text-align: justify;'>\n",
    "2. We learned in subsection [Sequence of Numbers](#subsec:iter:for:range) that the built-in function <kbd>range()</kbd> may be utilised to produce a sequence of *integer* numbers. The function takes 3 input arguments in the following order: <span style=\"color: rgb(32, 121, 77);\">stop, start, step</span>.\n",
    "</p>\n",
    "\n",
    "We now need a sequence of floating point numbers with the following criteria:\n",
    "\n",
    "```\n",
    "stop = 10\n",
    "start = 0\n",
    "step = 0.5\n",
    "```\n",
    "<p style='text-align: justify;'>\n",
    "The use of a floating point number as <span style=\"color: rgb(32, 121, 77);\">step</span> means that we cannot use <kbd>range()</kbd> to create the desired sequence. Write a script in which you use a ```while```-loop to produce a sequence of floating point numbers with the above criteria and display the result.\n",
    "</p>\n",
    "The resulting sequence must be:\n",
    "\n",
    "   - presented as an instance of type ```list```;\n",
    "   - similar to <kbd>range()</kbd>, the sequence must be non-inclusive --- *i.e.* it must include the value of <span style=\"color: rgb(32, 121, 77);\">start</span>, but not that of <span style=\"color: rgb(32, 121, 77);\">stop</span>.\n",
    "\n",
    "::::::::::::::::: solution\n",
    "\n",
    "## Q1\n",
    "\n",
    "```\n",
    "value = 0\n",
    "\n",
    "while value ** 2 < 10:\n",
    "    response = input('Enter a number: ')\n",
    "    value = float(response)\n",
    "\n",
    "print(value)\n",
    "```\n",
    ":::::::::::::::::\n",
    "\n",
    "::::::::::::::::: solution\n",
    "\n",
    "## Q2"
   ]
  },
  {
   "cell_type": "code",
   "execution_count": null,
   "id": "dfe62940",
   "metadata": {},
   "outputs": [],
   "source": [
    "stop = 10\n",
    "start = 0\n",
    "step = 0.5\n",
    "\n",
    "number = start\n",
    "sequence = list()\n",
    "\n",
    "while number < stop:\n",
    "    sequence.append(number)\n",
    "    number += step\n",
    "\n",
    "print(sequence)"
   ]
  },
  {
   "cell_type": "markdown",
   "id": "c1d1beee",
   "metadata": {
    "lines_to_next_cell": 0
   },
   "source": [
    ":::::::::::::::::\n",
    "\n",
    "::::::::::::::::: solution\n",
    "\n",
    "## Q2 - Smart Solution"
   ]
  },
  {
   "cell_type": "code",
   "execution_count": null,
   "id": "a229b6ff",
   "metadata": {},
   "outputs": [],
   "source": [
    "# A smarter solution, however, would be:\n",
    "stop = 10\n",
    "start = 0\n",
    "step = 0.5\n",
    "\n",
    "sequence = [start]\n",
    "\n",
    "while sequence[-1] < stop - step:\n",
    "    sequence.append(sequence[-1] + step)\n",
    "\n",
    "print(sequence)\n"
   ]
  },
  {
   "cell_type": "markdown",
   "id": "1aa4ed1a",
   "metadata": {},
   "source": [
    ":::::::::::::::::\n",
    ":::::::::::::::::::::::::::::::\n",
    "\n",
    "### **Breaking a while-loop**\n",
    "\n",
    "Unlike ```for```-loops, it is common to *break* out of a ```while```-loop mid-process. This is also known as *premature termination*.\n",
    "\n",
    "To consider a situation that may necessitate such an approach, we shall modify our scenario as follows:\n",
    "\n",
    "<p style='text-align: justify;'>\n",
    ">We want to ask the user to enter a sequence of exactly 5 amino acids. If the sequence the user provides is more or less than 5 letters long, we would like to display a message and ask them to try again; otherwise, we will display the sequence and terminate the programme. Additionally, the loop should be terminated:\n",
    "   - upon 3 failed attempts; or,\n",
    "   - if the user entered the word <span style=\"color: rgb(32, 121, 77);\">exit</span> instead of a 5 character sequence.\n",
    "\n",
    "</p>\n",
    "In the former case, however, we would also like to display a message and inform the user that we are terminating the programme because of 3 failed attempts.\n",
    "\n",
    "To implement the first addition to our code, we will have to make the following alterations in our code:\n",
    "\n",
    "   - Define a variable to hold the iteration cycle, then test its value at the beginning of each cycle to make sure that it is below the designated threshold. Otherwise, we manually terminate the loop using the <kbd>break</kbd> syntax.\n",
    "\n",
    "   - Create a [conjunctive](#disjun) conditional statement for the ```while```-loop to make so that it is also sensitive to our <span style=\"color: rgb(32, 121, 77);\">exit</span> keyword."
   ]
  },
  {
   "cell_type": "markdown",
   "id": "dd395dfe",
   "metadata": {},
   "source": [
    "```\n",
    "sequence = str()\n",
    "counter = 1\n",
    "max_counter = 3\n",
    "exit_keyword = 'exit'\n",
    "\n",
    "while len(sequence) != 5 and sequence != exit_keyword:\n",
    "    if counter == max_counter:\n",
    "        sequence = \"Three failed attempt - I'm done.\"\n",
    "        break\n",
    "\n",
    "    sequence = input('Enter a sequence of exactly 5 amino acids or [exit]: ')\n",
    "\n",
    "    counter += 1\n",
    "\n",
    "print(sequence)\n",
    "```\n",
    "\n",
    "## Exercises\n",
    ":::::::::::::::::::::::::::::::::::::::: challenge\n",
    "\n",
    "### End of chapter Exercises\n",
    "\n",
    "1. Can you explain the reason why in the example given in subsection [for-loop and conditional statements](#subsubsec:loops:for:conditionalStatements) we set <span style=\"color: rgb(32, 121, 77);\">minimum</span> to be equal to the first value of our array instead of, for instance zero or some other number?\n",
    "\n",
    "Store your answer in a variable and display it using <kbd>print()</kbd>.\n",
    "\n",
    "2. Write a script that using a <kbd>for</kbd> loop, calculates the sum of all numbers in an array defined as follows:\n",
    "\n",
    "```\n",
    "numbers = [0, -2.1, 1.5, 3]\n",
    "```\n",
    "\n",
    "and display the result as:\n",
    "\n",
    "```\n",
    "Sum of the numbers in the array is 2.4\n",
    "```\n",
    "3. Given an array of integer values as:\n",
    "\n",
    "```\n",
    "numbers = [2, 1, 3]\n",
    "```\n",
    "\n",
    "write a script that using <kbd>for</kbd> loops, displays each number in the list as many time as the number itself. The programme must therefore display 2 twice, 1 once, and 3 three times.\n",
    "\n",
    "4.  Given a ```list``` of numbers defined as:\n",
    "\n",
    "```\n",
    "numbers = [7, 16, 0.3, 0, 15, -4, 5, 3, 15]\n",
    "```\n",
    "\n",
    "write a script that using at most two <kbd>for</kbd> loops, finds the *variance* of the numbers, and display the **mean**, and the **variance**. Note that you will need to calculate the *mean* as a part of your calculations to find the *variance*.\n",
    "\n",
    "The equation for calculating the variance is:\n",
    "\n",
    "$$\\sigma^2 = \\frac{\\sum^{n}_{i=1}(x_i - \\mu)^2}{n}$$\n",
    "\n",
    "**Hint:** Breaking down the problem into smaller pieces will simplify the process of translating it into code and thereby solving it:\n",
    "\n",
    "(a) Work out the Mean or $\\mu$ (the simple average of the numbers):\n",
    "$$ \\mu = \\frac{\\sum^{n}_{i=1} x_i}{n}$$\n",
    "(b) Calculate the sum of: each number ($x_i$) subtracted by the Mean ($\\mu$) and square the result.\n",
    "\n",
    "(c) Divide the resulting number by the length of <span style=\"color: rgb(32, 121, 77);\">number</span>."
   ]
  },
  {
   "cell_type": "markdown",
   "id": "e95328cd",
   "metadata": {},
   "source": [
    "Display the results in the following format:\n",
    "\n",
    "```\n",
    "Mean: XXXX\n",
    "Variance: XXXX\n",
    "```\n",
    "\n",
    "::::::::::::::::::::: solution\n",
    "\n",
    "## Please check these solutions only after submitting the assignments.\n",
    "\n",
    "### Q1"
   ]
  },
  {
   "cell_type": "code",
   "execution_count": null,
   "id": "d951a594",
   "metadata": {
    "lines_to_next_cell": 2
   },
   "outputs": [],
   "source": [
    "answer = \"Because the minimum of the array may be smaller than zero.\"\n",
    "\n",
    "print(answer)"
   ]
  },
  {
   "cell_type": "markdown",
   "id": "da79c894",
   "metadata": {},
   "source": [
    "### Q2"
   ]
  },
  {
   "cell_type": "code",
   "execution_count": null,
   "id": "5c303126",
   "metadata": {
    "lines_to_next_cell": 2
   },
   "outputs": [],
   "source": [
    "numbers = [0, -2.1, 1.5, 3]\n",
    "\n",
    "numbers_sum = 0\n",
    "\n",
    "for value in numbers:\n",
    "    numbers_sum += value\n",
    "\n",
    "print(\"Sum of the numbers in the array is\", numbers_sum)"
   ]
  },
  {
   "cell_type": "markdown",
   "id": "d0833849",
   "metadata": {},
   "source": [
    "### Q3"
   ]
  },
  {
   "cell_type": "code",
   "execution_count": null,
   "id": "63644bee",
   "metadata": {},
   "outputs": [],
   "source": [
    "numbers = [2, 1, 3]\n",
    "\n",
    "for value in numbers:\n",
    "    prepped_value = [value] * value\n",
    "\n",
    "    for number in prepped_value:\n",
    "        print(number)"
   ]
  },
  {
   "cell_type": "markdown",
   "id": "e66c3ede",
   "metadata": {},
   "source": [
    "### Q4"
   ]
  },
  {
   "cell_type": "code",
   "execution_count": null,
   "id": "9ddc8bb8",
   "metadata": {
    "lines_to_next_cell": 0,
    "results": "hold"
   },
   "outputs": [],
   "source": [
    "numbers = [7, 16, 0.3, 0, 15, -4, 5, 3, 15]\n",
    "\n",
    "numbers_length = len(numbers)\n",
    "\n",
    "# Calculating the \"sum\"\n",
    "# ---------------------------------------------------------\n",
    "numbers_sum = 0\n",
    "\n",
    "for value in numbers:\n",
    "    numbers_sum += value\n",
    "\n",
    "\n",
    "# Calculating the \"mean\"\n",
    "# ---------------------------------------------------------\n",
    "\n",
    "numbers_mean = numbers_sum / numbers_length\n",
    "\n",
    "\n",
    "# Calculating the \"variance\"\n",
    "# ---------------------------------------------------------\n",
    "\n",
    "variance_denominator = numbers_length\n",
    "variance_numerator = 0\n",
    "\n",
    "for value in numbers:\n",
    "    prepped_value = (value - numbers_mean) ** 2\n",
    "    variance_numerator += prepped_value\n",
    "\n",
    "numbers_variance = variance_numerator / variance_denominator\n",
    "\n",
    "\n",
    "# Results\n",
    "# ---------------------------------------------------------\n",
    "\n",
    "print(\"Mean:\", numbers_mean)\n",
    "print(\"Variance:\", numbers_variance)"
   ]
  },
  {
   "cell_type": "markdown",
   "id": "641032a8",
   "metadata": {},
   "source": [
    ":::::::::::::::::::::\n",
    "::::::::::::::::::::::::::::::::::::::::"
   ]
  },
  {
   "cell_type": "markdown",
   "id": "ca1706bb",
   "metadata": {},
   "source": [
    "::::::::::::::::::::::::::::::::::::: keypoints\n",
    "\n",
    "- Iterations and loops are used to perform repetitive operations.\n",
    "- Implementation of ```for```-loop involves 4 steps.\n",
    "- Conditional statements are used within loops to handle different situations.\n",
    "- ```while```-loop is suited when exact number of conditions/iterations are unknown.\n",
    "\n",
    "::::::::::::::::::::::::::::::::::::::::::::::::\n",
    "\n"
   ]
  },
  {
   "cell_type": "markdown",
   "id": "fa989d3b",
   "metadata": {},
   "source": [
    "[r-markdown]: https://rmarkdown.rstudio.com/"
   ]
  }
 ],
 "metadata": {
  "jupytext": {
   "cell_metadata_filter": "results,-all",
   "main_language": "python",
   "notebook_metadata_filter": "-all"
  }
 },
 "nbformat": 4,
 "nbformat_minor": 5
}
