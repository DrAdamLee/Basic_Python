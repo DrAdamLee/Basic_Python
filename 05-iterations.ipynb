{
 "cells": [
  {
   "cell_type": "raw",
   "id": "af0700b5",
   "metadata": {},
   "source": [
    "---\n",
    "title: \"Iterations\"\n",
    "teaching: 10\n",
    "exercises: 2\n",
    "---"
   ]
  },
  {
   "cell_type": "markdown",
   "id": "c33161d4",
   "metadata": {},
   "source": []
  },
  {
   "cell_type": "markdown",
   "id": "fcdca9f3",
   "metadata": {},
   "source": [
    "- \n",
    "-\n",
    "-\n",
    "\n",
    "\n"
   ]
  },
  {
   "cell_type": "markdown",
   "id": "285c8655",
   "metadata": {},
   "source": [
    "-\n",
    "-\n",
    "-"
   ]
  },
  {
   "cell_type": "markdown",
   "id": "224fbf34",
   "metadata": {},
   "source": [
    "**The materials for this chapter will be released on 30 May 2022.** \n",
    "\n",
    "\n",
    "\n",
    "\n"
   ]
  },
  {
   "cell_type": "markdown",
   "id": "bf892981",
   "metadata": {},
   "source": [
    "-\n",
    "-\n",
    "-\n",
    "\n",
    "\n"
   ]
  },
  {
   "cell_type": "markdown",
   "id": "f2a2cb20",
   "metadata": {},
   "source": [
    "[r-markdown]: https://rmarkdown.rstudio.com/"
   ]
  }
 ],
 "metadata": {
  "jupytext": {
   "cell_metadata_filter": "-all",
   "main_language": "python",
   "notebook_metadata_filter": "-all"
  }
 },
 "nbformat": 4,
 "nbformat_minor": 5
}
