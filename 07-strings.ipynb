{
 "cells": [
  {
   "cell_type": "raw",
   "id": "11d72220",
   "metadata": {},
   "source": [
    "---\n",
    "title: \"Strings\"\n",
    "output: html_document\n",
    "date: '2022-05-11'\n",
    "---"
   ]
  },
  {
   "cell_type": "markdown",
   "id": "1db11396",
   "metadata": {},
   "source": [
    "\n",
    "- \n",
    "-\n",
    "-\n",
    "\n",
    "\n"
   ]
  },
  {
   "cell_type": "markdown",
   "id": "36e51a73",
   "metadata": {},
   "source": [
    "-\n",
    "-\n",
    "-"
   ]
  },
  {
   "cell_type": "markdown",
   "id": "b135e59f",
   "metadata": {},
   "source": [
    "**The materials for this chapter will be released on 06 June 2022.**\n",
    "\n",
    "\n",
    "\n",
    "\n"
   ]
  },
  {
   "cell_type": "markdown",
   "id": "fd9996b3",
   "metadata": {},
   "source": [
    "-\n",
    "-\n",
    "-\n",
    "\n",
    "\n"
   ]
  },
  {
   "cell_type": "markdown",
   "id": "f6ea2238",
   "metadata": {},
   "source": [
    "[r-markdown]: https://rmarkdown.rstudio.com/"
   ]
  }
 ],
 "metadata": {
  "jupytext": {
   "cell_metadata_filter": "-all",
   "main_language": "python",
   "notebook_metadata_filter": "-all"
  }
 },
 "nbformat": 4,
 "nbformat_minor": 5
}
