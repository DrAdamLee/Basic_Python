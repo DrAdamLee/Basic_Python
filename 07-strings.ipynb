{
 "cells": [
  {
   "cell_type": "raw",
   "id": "0f6663b5",
   "metadata": {},
   "source": [
    "---\n",
    "title: \"Strings\"\n",
    "output: html_document\n",
    "date: '2022-05-11'\n",
    "---"
   ]
  },
  {
   "cell_type": "markdown",
   "id": "85e27686",
   "metadata": {},
   "source": [
    "\n",
    "- \n",
    "-\n",
    "-\n",
    "\n",
    "\n"
   ]
  },
  {
   "cell_type": "markdown",
   "id": "72ec3132",
   "metadata": {},
   "source": [
    "-\n",
    "-\n",
    "-"
   ]
  },
  {
   "cell_type": "markdown",
   "id": "7632e530",
   "metadata": {},
   "source": [
    "**The materials for this chapter will be released on 06 June 2022.**\n",
    "\n",
    "\n",
    "\n",
    "\n"
   ]
  },
  {
   "cell_type": "markdown",
   "id": "41a22e63",
   "metadata": {},
   "source": [
    "-\n",
    "-\n",
    "-\n",
    "\n",
    "\n"
   ]
  },
  {
   "cell_type": "markdown",
   "id": "c585355d",
   "metadata": {},
   "source": [
    "[r-markdown]: https://rmarkdown.rstudio.com/"
   ]
  }
 ],
 "metadata": {
  "jupytext": {
   "cell_metadata_filter": "-all",
   "main_language": "python",
   "notebook_metadata_filter": "-all"
  }
 },
 "nbformat": 4,
 "nbformat_minor": 5
}
