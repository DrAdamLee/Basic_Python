{
 "cells": [
  {
   "cell_type": "raw",
   "id": "c4d8b480",
   "metadata": {},
   "source": [
    "---\n",
    "title: \"Strings\"\n",
    "output: html_document\n",
    "date: '2022-05-11'\n",
    "---"
   ]
  },
  {
   "cell_type": "markdown",
   "id": "a371f03b",
   "metadata": {},
   "source": [
    "\n",
    "- \n",
    "-\n",
    "-\n",
    "\n",
    "\n"
   ]
  },
  {
   "cell_type": "markdown",
   "id": "e0d0f9a8",
   "metadata": {},
   "source": [
    "-\n",
    "-\n",
    "-"
   ]
  },
  {
   "cell_type": "markdown",
   "id": "44e0341c",
   "metadata": {},
   "source": [
    "**The materials for this chapter will be released on 06 June 2022.**\n",
    "\n",
    "\n",
    "\n",
    "\n"
   ]
  },
  {
   "cell_type": "markdown",
   "id": "97d647a7",
   "metadata": {},
   "source": [
    "-\n",
    "-\n",
    "-\n",
    "\n",
    "\n"
   ]
  },
  {
   "cell_type": "markdown",
   "id": "f852bf07",
   "metadata": {},
   "source": [
    "[r-markdown]: https://rmarkdown.rstudio.com/"
   ]
  }
 ],
 "metadata": {
  "jupytext": {
   "cell_metadata_filter": "-all",
   "main_language": "python",
   "notebook_metadata_filter": "-all"
  }
 },
 "nbformat": 4,
 "nbformat_minor": 5
}
