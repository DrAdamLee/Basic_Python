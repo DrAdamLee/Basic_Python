{
 "cells": [
  {
   "cell_type": "raw",
   "id": "bd365fdc",
   "metadata": {},
   "source": [
    "---\n",
    "title: \"Conditional Statements\"\n",
    "teaching: 10\n",
    "exercises: 2\n",
    "---"
   ]
  },
  {
   "cell_type": "markdown",
   "id": "49259d4a",
   "metadata": {},
   "source": []
  },
  {
   "cell_type": "markdown",
   "id": "0c382767",
   "metadata": {},
   "source": [
    "[**Download Chapter pdf**](03-conditional_statements.md.pdf)\n",
    "\n",
    "[**Download Chapter notebook (ipynb)**](03-conditional_statements.ipynb)"
   ]
  },
  {
   "cell_type": "markdown",
   "id": "15f3eaf8",
   "metadata": {},
   "source": [
    "- \n",
    "-\n",
    "-\n"
   ]
  },
  {
   "cell_type": "markdown",
   "id": "7a080c15",
   "metadata": {},
   "source": [
    "-\n",
    "-\n",
    "-\n",
    "\n",
    "This chapter assumes that you are familiar with the following concepts in Python 3:\n",
    "\n",
    "- [x] [I/O Operations](02-input_output.Rmd)\n",
    "- [x] [Variables And Types](02-input_output.Rmd)\n",
    "- [x] [Mathematical Operation](02-input_output.Rmd)\n",
    "\n"
   ]
  },
  {
   "cell_type": "markdown",
   "id": "15889b9b",
   "metadata": {},
   "source": [
    "When we construct logical expressions, we almost always do so because we need to test something. The definition of a process through which we test our logical expressions and provide directives on how to proceed is known in computer science as a *conditional statement*. Conditional statements are a feature of programming languages. This means that although their definitions and grammar may vary slightly from one programming language to another, their principles are almost universally identical."
   ]
  },
  {
   "cell_type": "markdown",
   "id": "b9ce5311",
   "metadata": {},
   "source": [
    "Being a high-level programming language, defining conditional statements is very easy in Python. Before we start, however, let us briefly review the way conditional statements actually work. To help us with that, we use [flowchart diagrams](https://en.wikipedia.org/wiki/Flowchart)."
   ]
  },
  {
   "cell_type": "markdown",
   "id": "4203cb85",
   "metadata": {},
   "source": [
    "## Remember\n",
    "The term *conditional statements* is often used in relation to imperative programming languages. In functional programming, however, it is more common to refer to them as *conditional expressions* or *conditional constructs*. Python supports both imperative and functional programming."
   ]
  },
  {
   "cell_type": "markdown",
   "id": "b4bfde5b",
   "metadata": {},
   "source": [
    "## EXAMPLE: Algorithms in daily life {#ex:roomAndLight}\n",
    "\n",
    "We use algorithms in our life every day without realising it. \n",
    "\n",
    "Suppose we enter a room poorly lit room to work. The first things that we notice is that the room is insufficiently lit. We check to see whether or not the light is on; *if* not, we find the switch to turn on the light. Likewise, *if* the light is on, we go ahead and turn on the desk lamp before we proceed with our business. "
   ]
  },
  {
   "cell_type": "markdown",
   "id": "d7f2451c",
   "metadata": {},
   "source": [
    "## Processes of Algorithms\n",
    "This scenario may be perceived as a set of processes. These processes include a set of procedures that may be outlined as follows: \n",
    "\n",
    "1. **```Action```**: Enter the room.\n",
    "2. **```Input```**: Determine that the room is insufficiently lit.\n",
    "3. **```Condition```**: Is the light switched on? \n",
    "\n",
    "  * NO: Action: turn on the lights,\n",
    "  * YES: Action: turn on the desk lamp.\n",
    "\n",
    "4. **```Action```**: Proceed with our business."
   ]
  },
  {
   "cell_type": "markdown",
   "id": "a09970e7",
   "metadata": {},
   "source": [
    "Now that we know what procedures are involved, we can draw a flowchart of the process:\n",
    "\n",
    "![Flowchart](fig/conditional_flowchart.png)\t\n",
    "\n",
    "Programming is not merely a hard skill. It is the door to a different way of thinking that enables one to break complex procedures down to simple, stepwise components and tasks. Flowcharts help us perceive processes as computers do --- that is, one task or component at a time. As we progress in programming, our brains develop the ability to think in a procedural way. This is called *algorithmic thinking*, and is one of the most important soft-skills that a programmer can develop. \n",
    "\n",
    "There are international competitions and comprehensive courses dedicated to this concept. At the end of the day, however, one can only acquire a skill through practice.\n"
   ]
  },
  {
   "cell_type": "markdown",
   "id": "d483609d",
   "metadata": {},
   "source": [
    "## Advanced Topic\n",
    "If you are keen to learn more about algorithms and algorithmic thinking, or just want to try out some of the problems, you may want to look into some of the past competition papers on [Computational and Algorithmic Thinking (CAT)](http://www.amt.edu.au/informatics/cat/) published by the Australian Mathematics Trust.\n",
    "\n",
    "[Exercise](#exe:algorithmicPuzzle) is provided to give you an idea of the type of problems that may be tackled in a procedural way."
   ]
  },
  {
   "cell_type": "markdown",
   "id": "8efc9816",
   "metadata": {},
   "source": [
    "## Do it Yourself {#exe:algorithmicPuzzle}\n",
    "\t\n",
    "On a distant planet, the dominant carnivore, the zab, is nearing extinction. The number of zabs born in any year is one more than the (positive) difference between the number born in the previous year and the number born in the year before that.\n",
    "\t\n",
    "**```Examples```**\n",
    "\n",
    "  * If 7 zabs were born last year and 5 the year before, 3 would be born this year. \n",
    "  * If 7 zabs were born last year and 10 the year before, 4 would be born this year. \n",
    "\n",
    "If 2 zabs were born in the year 2000 and 9 zabs were born in 2001. What is the first year after 2000 when just 1 zab will be born?\n",
    "\t\n",
    "a) 2009\n",
    "b) 2011\n",
    "c) 2013\n",
    "d) 2015\n",
    "e) 2017"
   ]
  },
  {
   "cell_type": "markdown",
   "id": "71ba8fd1",
   "metadata": {},
   "source": [
    "**```Credit```**: This question is taken from the 2011 Computational and Algorithmic Thinking (CAT) Competition held by the Australian Mathematics Trust.}"
   ]
  },
  {
   "cell_type": "markdown",
   "id": "7a29d43f",
   "metadata": {},
   "source": [
    "The correct answer is  **c)** 2013.\n",
    "\n"
   ]
  },
  {
   "cell_type": "markdown",
   "id": "22aac94c",
   "metadata": {},
   "source": [
    "## Remember\n",
    "There is almost always more than one answer to any algorithmic problem; some answer might even be more efficient than other. The less repetition there is, the better more efficient an algorithm is considered to be.\n",
    "\n",
    "## Conditions in Python\n",
    "\n",
    "[**```if``` statments**](https://docs.python.org/3/tutorial/controlflow.html\\#if-statements)\n",
    "\n",
    "To implement conditional statements in Python, we use 3 syntaxes:"
   ]
  },
  {
   "cell_type": "markdown",
   "id": "9d39d4f5",
   "metadata": {},
   "source": [
    "* To initiate the statement, we use the syntax <kbd>if</kbd> followed by the condition and a colon;\n"
   ]
  },
  {
   "cell_type": "code",
   "execution_count": null,
   "id": "ad6e8665",
   "metadata": {},
   "outputs": [],
   "source": [
    "students_present = 15\n",
    "\t\t\n",
    "# Conditional statement:\n",
    "if students_present > 10:  # Initiation\n",
    "\t\t# Directive (must be indented).\n",
    "    print('More than 10 students are present.')"
   ]
  },
  {
   "cell_type": "markdown",
   "id": "2e2249d5",
   "metadata": {},
   "source": [
    "```{.output}\n",
    "More than 10 students are present.\n",
    "```\n",
    "\t"
   ]
  },
  {
   "cell_type": "markdown",
   "id": "9db7d40d",
   "metadata": {},
   "source": [
    "* To create an alternative condition after the first condition has been defined, we use the syntax <kbd>elif</kbd> followed by the new condition and a colon;\n",
    "\t"
   ]
  },
  {
   "cell_type": "code",
   "execution_count": null,
   "id": "b17aefeb",
   "metadata": {},
   "outputs": [],
   "source": [
    "students_present = 5\n",
    "\t\t\n",
    "# Conditional statement:\n",
    "if students_present > 10:  # Initiation\n",
    "\t\t\n",
    "# Directive (must be indented).\n",
    "    print('More than 10 students are present.')\n",
    "\t\t\n",
    "elif 0 < students_present < 10:\n",
    "    print('Less than 10 students are present.')"
   ]
  },
  {
   "cell_type": "markdown",
   "id": "1e57c339",
   "metadata": {},
   "source": [
    "```{.output}\n",
    "Less than 10 students are present.\n",
    "```"
   ]
  },
  {
   "cell_type": "markdown",
   "id": "cced371c",
   "metadata": {},
   "source": [
    "* To introduce a default --- i.e. where none of the above are ```True```, we use the syntax <kbd>else</kbd>.\n",
    "\n"
   ]
  },
  {
   "cell_type": "code",
   "execution_count": null,
   "id": "17c4db68",
   "metadata": {},
   "outputs": [],
   "source": [
    "students_present = 0\n",
    "\t\t\n",
    "# Conditional statement:\n",
    "if students_present > 10:  # Initiation\n",
    "\t# Directive (must be indented).\n",
    "    print('More than 10 students are present.')\n",
    "\n",
    "elif 0 < students_present < 10:  # Alternative condition\n",
    "\t# Alternative directive (must be indented).\n",
    "    print('Less than 10 students are present.')\n",
    "\n",
    "else:  # Default (none of the conditions are met).\n",
    "\t# Directive (must be indented).\n",
    "    print('There is no one!')"
   ]
  },
  {
   "cell_type": "markdown",
   "id": "507f5e72",
   "metadata": {},
   "source": [
    "```{.output}\n",
    "There is no one!\n",
    "```"
   ]
  },
  {
   "cell_type": "markdown",
   "id": "8d2806ff",
   "metadata": {},
   "source": [
    "## Remember\n",
    "We can use disjunctions or conjunctions, as discussed in topic [Disjunctions and Conjunctions](02-input_output.Rmd), to test for more than one condition at a time."
   ]
  },
  {
   "cell_type": "markdown",
   "id": "ad91b6dd",
   "metadata": {},
   "source": [
    "### **Indentation Rule** {#subsubsec:indentationRule}\n",
    "\n",
    "[**PEP-8: Indentation**](https://www.python.org/dev/peps/pep-0008/\\#indentation)\n",
    "\n",
    "Always use 4 spaces for indentation. Indentations are how the Python interpreter determines the code hierarchy. A consistent hierarchy is therefore essential for the interpreter to parse and execute our code. \n",
    "\n",
    "The indented part of the code is known as a *block*. A block represents a part of the code that always ``belongs'' to (is the child process of) the first *un*indented (dedented) line that precedes it. In other words, the action(s) within a conditional statement (actions that are subject to a specific condition) must always be *indented*:\n"
   ]
  },
  {
   "cell_type": "code",
   "execution_count": null,
   "id": "95af9727",
   "metadata": {},
   "outputs": [],
   "source": [
    "\n",
    "value = 10\n",
    "\t\n",
    "# Statement A:\n",
    "if value > 0: \n",
    "  \n",
    "# First dedented line before the block.  \n",
    "# This is a block, and it belongs to the \n",
    "# preceding \"if\" (Statement A):\n",
    "    print('The value is positive.')\n",
    "\n",
    "\t# We can have nested blocks too.\n",
    "\t# Statement B:\n",
    "    if value > 9:  \n",
    "      # First dedented line before the block.\n",
    "\t\t# This is another block (nested).\n",
    "\t\t# This block belongs to the preceding \"if\" (Statement B).\n",
    "        print('The value is not a single digit.')\n",
    "\n",
    "\t# Introducing a default behaviour for Statement B:\n",
    "    else:\n",
    "\t# This block belongs to the preceding \"else\".\n",
    "      print('The value is a single digit.')\n",
    "\n",
    "# Introducing an alternative condition for Statement A:\n",
    "elif value < 0: \n",
    "# This block belongs to the preceding \"elif\".\n",
    "    print('The value is negative.')\n",
    "\n",
    "# Introducing a default behaviour for Statement A:\n",
    "else:  \n",
    "# This block belongs to the preceding \"else\".\n",
    "    print('The value is zero.')"
   ]
  },
  {
   "cell_type": "markdown",
   "id": "a5233460",
   "metadata": {},
   "source": [
    "```{.output}\n",
    "The value is positive.\n",
    "The value is not a single digit.\n",
    "```"
   ]
  },
  {
   "cell_type": "markdown",
   "id": "3f016605",
   "metadata": {},
   "source": [
    "It is not a good practice to have too many nested indentation. This is would make the code more difficult to read. A rule of thumb is that you should not need more than 4 nested indentations in your code. If you do, you should reconsider the code structure to somehow simplify the process. \n",
    "\n",
    "On that note, where possible, it is better to use conjunctions and disjunctions, or implement alternative conditions using <kbd>elif</kbd> instead of creating nested conditional statements. We can therefore restructure the previous example in a better, more coherent way as follows:\n",
    "\t"
   ]
  },
  {
   "cell_type": "code",
   "execution_count": null,
   "id": "07228e72",
   "metadata": {},
   "outputs": [],
   "source": [
    "value = 10\n",
    "\t\n",
    "if value > 9:\n",
    "  print('The value is positive.')\n",
    "  print('The value is not a single digit.')\n",
    "elif value > 0: \n",
    "  print('The value is positive.')\n",
    "  print('The value is a single digit.')\n",
    "elif value < 0:\n",
    "  print('The value is negative.')\n",
    "else:\n",
    "  print('The value is zero.')"
   ]
  },
  {
   "cell_type": "markdown",
   "id": "c3d72f77",
   "metadata": {},
   "source": [
    "```{.output}\n",
    "The value is positive.\n",
    "The value is not a single digit.\n",
    "```"
   ]
  },
  {
   "cell_type": "markdown",
   "id": "e3bc765b",
   "metadata": {},
   "source": [
    "It is customary and also best practice to use 4 spaces for indentation in Python. It is also paramount that all indentations throughout the code are consistent; that is, you may not use 4 spaces here and 3 spaces somewhere else in your code. Doing so will cause an ```IndentationError``` to be raised. It is recommended to *not* use ```Tab``` to indent your code; it is regarded as a bad practice in Python.\n",
    "\n",
    "```\n",
    "value = 10\n",
    "\t\n",
    "if value > 0:\n",
    "    print('The value is: ')  # Indented with 4 spaces.\n",
    "   print('POSITIVE.')  # Indented with 3 spaces.\n",
    "\n",
    "```\n",
    "\n",
    "```\n",
    "File <STDIN>, line 5\n",
    "    print('POSITIVE.')  # Indented with 3 spaces.\n",
    "                                                 ^\n",
    "IndentationError: unindent does not match any outer indentation level\n",
    "```\n",
    "\n",
    "```Tab``` indentations represent different number of spaces on different computers and operating systems. It is therefore more than likely that they will lead to ```IndentationError```. Additionally, Python 3 disallows the mixing of **tab** and **space** indentations. Some Python IDEs such as *PyCharm* automatically convert ```Tab``` indentations to 4 spaces. Some other IDEs (e.g. Jupyter) typically highlight ```Tab``` indentations to explicitly distinguish them and thereby notify the programmer of their existence. However, more often than not, IDEs and text editors tend to *ignore* this, which amounts to inconsistencies and subsequently ```IndentationError```. This is a very common difficulty that new Python programmers face, and can be very confusing if not handled correctly.} \n",
    "\n",
    "\n",
    "\n",
    "## Placeholder \n",
    "\n",
    "\n",
    "\n",
    "\n",
    "### **Hierarchy of conditional statements**\n",
    "The hierarchy of conditional statement is always the same. We start the statement with an <kbd>if</kbd> syntax (initiation). This is the only essential part to implement a conditional statement. Other parts include the <kbd>elif</kbd> and the <kbd>else</kbd> syntaxes. These are the non-essential part, and we implement these as and when needed. It is, however, important that we adhere to the correct order when we implement these:\n",
    "\n",
    "\n",
    "* *Always* start with the initiation syntax <kbd>if</kbd>.\n",
    "* *Where needed,* implement as many alternative conditions as necessary <kbd>elif</kbd>.\n",
    "* *Where needed,* implement a default behaviour using <kbd>else</kbd>}.\n",
    "\n",
    "\n",
    "In an ```if...elif...else``` hierarchy, once one condition in the hierarchy is ```True```, all *subsequent* conditions in that group are skipped and would no longer be checked. \n",
    "\n",
    "In the following example, the first condition is ```True```, therefore its corresponding block is executed and the rest of this conditional statement is skipped:\n",
    "\n",
    "\n",
    "```python\n",
    "TATA_BOX = 'TATA'\n",
    "\t\n",
    "promoter_region = 'GTAACTGTGGTATAATCGT'\n",
    "\t\n",
    "if TATA_BOX in promoter_region:  \n",
    "# This condition is \"True\", so this\n",
    "# and only this block is executed.\n",
    "\tprint('There is a \"TATA\" box in this promoter region.')\n",
    "else:\n",
    "\t# The last condition was \"False\", so this \n",
    "\t# block is skipped.\n",
    "\tprint('There is no \"TATA\" box in this promoter region.')\n",
    "```\n",
    "\n",
    "```{.output}\n",
    "There is a \"TATA\" box in this promoter region.\n",
    "```"
   ]
  },
  {
   "cell_type": "markdown",
   "id": "23ed527a",
   "metadata": {},
   "source": [
    "## Remember\n",
    "We already know from subsection [Logical Operations](#subsec:logicalOperatons) that the value of a *boolean* (```bool```) variable is either ```False``` or ```True```.\n",
    "\n",
    "We have also learned that in conditional statements, we use *double* equals} or ```...~==~...``` to test for equivalence. So naturally, one could test for the \\emph{truth value} of a ```bool``` variables as follows:\n"
   ]
  },
  {
   "cell_type": "code",
   "execution_count": null,
   "id": "74384ff8",
   "metadata": {},
   "outputs": [],
   "source": [
    "variable = False \n",
    "\t\t\n",
    "if variable == False:\n",
    "\tprint('The variable is False.')"
   ]
  },
  {
   "cell_type": "markdown",
   "id": "ded50a4a",
   "metadata": {},
   "source": [
    "```{.output}\n",
    "The variable is False.\n",
    "```"
   ]
  },
  {
   "cell_type": "markdown",
   "id": "5eed2d45",
   "metadata": {},
   "source": [
    "This works, and it looks simple enough. However, this is the **wrong approach** for testing the value of ```bool``` variables and should *not* be used. Whilst the answer is correct in the above example, using *double equals* for testing *boolean* variables can sometimes produce incorrect results. \n",
    "\t\n",
    "The correct way to test the *truth value* of a *boolean* variable is by using <kbd>is</kbd> as follows:\n",
    "\t"
   ]
  },
  {
   "cell_type": "code",
   "execution_count": null,
   "id": "642ec21b",
   "metadata": {},
   "outputs": [],
   "source": [
    "variable = False \n",
    "\t\t\n",
    "if variable is False:\n",
    "\tprint('The variable is False.')"
   ]
  },
  {
   "cell_type": "markdown",
   "id": "8057e4bd",
   "metadata": {},
   "source": [
    "```{.output}\n",
    "The variable is False.\n",
    "```\n",
    "\n",
    "and the negative test is:\n",
    "\t"
   ]
  },
  {
   "cell_type": "code",
   "execution_count": null,
   "id": "de2f6424",
   "metadata": {},
   "outputs": [],
   "source": [
    "variable = True \n",
    "\n",
    "if variable is not False:\n",
    "\n",
    "\tprint('The variable is True.')"
   ]
  },
  {
   "cell_type": "markdown",
   "id": "2a32cde5",
   "metadata": {},
   "source": [
    "```{.output}\n",
    "The variable is True.\n",
    "```\n",
    "\n",
    "In short; as far as *boolean* variables are concerned, we should always use <kbd>is</kbd> or <kbd>is not</kbd> to test for their *truth value* in a conditional statement. "
   ]
  },
  {
   "cell_type": "markdown",
   "id": "93a35871",
   "metadata": {},
   "source": [
    "Consequently, we can now write the example [algorithm](#ex:roomAndLight) (room and light) as follows:\n"
   ]
  },
  {
   "cell_type": "code",
   "execution_count": null,
   "id": "027dac4e",
   "metadata": {},
   "outputs": [],
   "source": [
    "light_status = False\n",
    "\t\n",
    "if light_status is True:\n",
    "\t\t\n",
    "\taction = 'The light is on; you may want to turn off the desk light.'\n",
    "\t\n",
    "else:\n",
    "\taction = 'The light is off... turn it on.'\n",
    "\t\n",
    "print(action)"
   ]
  },
  {
   "cell_type": "markdown",
   "id": "066c379e",
   "metadata": {},
   "source": [
    "```{.output}\n",
    "The light is off... turn it on.\n",
    "```"
   ]
  },
  {
   "cell_type": "markdown",
   "id": "825152e7",
   "metadata": {},
   "source": [
    "There are a few very popular shorthands in Python that you should be familiar with when writing or reading conditional statements:\n",
    "\n",
    "In an <kbd>if</kbd> statement, Python expects the result of the condition to be ```True```. As result of that, we can simplify the above example as follows:\n"
   ]
  },
  {
   "cell_type": "code",
   "execution_count": null,
   "id": "6dcc6acd",
   "metadata": {},
   "outputs": [],
   "source": [
    "light_status = False\n",
    "\t\n",
    "if light_status:\n",
    "\t\n",
    "  action = 'The light is on; you may want to turn off the desk light.'\n",
    "\t\n",
    "else:\n",
    "\t\n",
    "  action = 'The light is off... turn it on.'\n",
    "\t\n",
    "print(action)"
   ]
  },
  {
   "cell_type": "markdown",
   "id": "88e887cd",
   "metadata": {},
   "source": [
    "```{.output}\n",
    "The light is off... turn it on.\n",
    "```"
   ]
  },
  {
   "cell_type": "markdown",
   "id": "6f611ab8",
   "metadata": {},
   "source": [
    "Sometime, however, we might need to test for a ```False``` outcome. To do so, we can write a negated conditions as described in subsection [Negation](#sec:logicalStatements:Negation) instead:\n"
   ]
  },
  {
   "cell_type": "code",
   "execution_count": null,
   "id": "8201deae",
   "metadata": {},
   "outputs": [],
   "source": [
    "# Note that we have changed the order of the condition\n",
    "# and added a \"not\" before \"light_status\"\n",
    "if not light_status:\n",
    "\n",
    "\taction = 'The light is off... turn it on.'\n",
    "\t\n",
    "else:\n",
    "\n",
    "\taction = 'The light is on; you may want to turn off the desk light.'\n",
    "\t\n",
    "print(action)"
   ]
  },
  {
   "cell_type": "markdown",
   "id": "cf1124ec",
   "metadata": {},
   "source": [
    "```{.output}\n",
    "The light is off... turn it on.\n",
    "```"
   ]
  },
  {
   "cell_type": "markdown",
   "id": "dcba6fb8",
   "metadata": {},
   "source": [
    "## EXAMPLE: A familiar scenario {#ex:scenario}\n",
    "\n",
    "Suppose we want to determine the classification of the final mark for a student. \n",
    "\t\n",
    "The classification protocol is as follows:\n",
    "\t\n",
    "* Above 70\\%: First class.\n",
    "* Between 60\\% and 70\\%: Second class (upper division).\n",
    "* Between 50\\% and 60\\%: Second class (lower division).\n",
    "* Between 40\\% and 50\\%: Pass.\n",
    "* Below 40\\%: Fail.\n"
   ]
  },
  {
   "cell_type": "code",
   "execution_count": null,
   "id": "bf9e9c32",
   "metadata": {},
   "outputs": [],
   "source": [
    "mark = 63\n",
    "\t\t\n",
    "# Thresholds \n",
    "first = 70\n",
    "second_upper = 60\n",
    "second_lower = 50 \n",
    "passed = 40  # \"pass\" is a syntax in Python.\n",
    "\t\t\n",
    "if mark >= first:\n",
    "\tclassification = 'First Class' \n",
    "elif mark > second_upper:\n",
    "\tclassification = 'Second Class (upper division)'\n",
    "elif mark > second_lower:\n",
    "\tclassification = 'Second Class (lower division)'\n",
    "elif mark > passed:\n",
    "\tclassification = 'Pass'\n",
    "else:\n",
    "\tclassification = 'Fail'\n",
    "\t\t\n",
    "print('The student obtained a', classification, 'in their studies.')"
   ]
  },
  {
   "cell_type": "markdown",
   "id": "419e4ae3",
   "metadata": {},
   "source": [
    "```{.output}\n",
    "The student obtained a Second Class (upper division) in their studies.\n",
    "```\n"
   ]
  },
  {
   "cell_type": "markdown",
   "id": "72658b78",
   "metadata": {},
   "source": [
    "## End of chapter **Exercises**\n",
    "\n",
    "1.  Protein Kinases have a phosphorylation site and a consensus sequence has been determined for these sites  ( [Rust and Thompson, 2012](https://www.ncbi.nlm.nih.gov/pmc/articles/PMC3176959/) ). All the proteins incorporate either a Serine or a Threonine residue that gets phosphorylated. Naturally, the consensus sequence for each protein varies slightly from that of other proteins.  \n",
    "\t\n",
    "When studying a polypeptide in the lab, a colleague realised that it has a phosphorylated Serine. So they tried to sequence the polypeptide, and managed to obtain a sequence for the protein:   \n",
    "\t\n",
    "```\n",
    "kinase_peptide = (\n",
    "\t\"PVWNETFVFNLKPGDVERRLSVEVWDWDRTSRNDFMGAMSFGVSELLK\"\n",
    "\t\"APVDGWYKLLNQEEGEYYNVPVADADNCSLLQKFEACNYPLELYERVR\"\n",
    "\t\"MGPSSSPIPSPSPSPTDPKRCFFGASPGRLHISDFSFLMRRRKGSFGK\"\n",
    "\t\"VMLAERRGSDELYAIKILKKDVIVQDDDVDCTLVEKRVLALGGRGPGG\"\n",
    "\t\"RPHFLTQLHSTFQTPDRLYFVMEYVTGGDLMYHIQQLGKFKEPHAAFY\"\n",
    "\t\"AAEIAIGLFFLHNQGIIYRDLKLDNVMLDAEGHIKITDFGMCKENVF\"\n",
    "\t\t)\n",
    "```\n",
    "\t\n",
    "Desperate to find a match, and knowing that we are good at doing ```computer stuff```, they asked us if we can help them identify what protein kinase does the sequence correspond to? \n",
    "\t\n",
    "So we extract the consensus sequence of 3 protein kinases from [the paper](https://www.ncbi.nlm.nih.gov/pmc/articles/PMC3176959/):"
   ]
  },
  {
   "cell_type": "markdown",
   "id": "866fcbbd",
   "metadata": {},
   "source": [
    "* PKC-$\\eta$: either ```RKGSFRR``` or ```RRRSFRR```\n",
    "* PKC-$\\gamma$: either ```RRRKGSF``` or ```RRRKKSF```\n",
    "* DMPK-E: one of ```KKRRRSL```, ```RKRRRSL```, ```KKRRRSV```, or ```RKRRRSV```. "
   ]
  },
  {
   "cell_type": "markdown",
   "id": "78a6c223",
   "metadata": {},
   "source": [
    "Now all we need is to write a conditional statement in Python to identify which of the above protein kinases, if any, does our sequence correspond to. That is, which one of the consensus peptides exists in our mystery sequence? \n",
    "\t\n",
    "If there is a match, our programme should display the name of the corresponding protein kinase; otherwise, it should say ```No matches found``` for good measures."
   ]
  },
  {
   "cell_type": "markdown",
   "id": "a477a481",
   "metadata": {},
   "source": [
    "-\n",
    "-\n",
    "-\n",
    "\n",
    "\n"
   ]
  },
  {
   "cell_type": "markdown",
   "id": "04459563",
   "metadata": {},
   "source": [
    "[r-markdown]: https://rmarkdown.rstudio.com/"
   ]
  }
 ],
 "metadata": {
  "jupytext": {
   "cell_metadata_filter": "-all",
   "main_language": "python",
   "notebook_metadata_filter": "-all"
  }
 },
 "nbformat": 4,
 "nbformat_minor": 5
}
