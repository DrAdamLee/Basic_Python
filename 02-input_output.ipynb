{
 "cells": [
  {
   "cell_type": "raw",
   "id": "dec7833b",
   "metadata": {},
   "source": [
    "---\n",
    "title: \"Variables, Types, and Operations\"\n",
    "teaching: 10\n",
    "exercises: 2\n",
    "output: \n",
    "  bookdown::html_document2: \n",
    "    keep_md: true\n",
    "---"
   ]
  },
  {
   "cell_type": "markdown",
   "id": "b85f047c",
   "metadata": {},
   "source": [
    "[**Download Chapter pdf**](02-input_output.md.pdf)\n",
    "\n",
    "[**Download Chapter notebook (ipynb)**](02-input_output.ipynb)\n"
   ]
  },
  {
   "cell_type": "markdown",
   "id": "6c3f3cce",
   "metadata": {},
   "source": [
    "- What are I/O operations?\n",
    "- What variables do?\n",
    "- Why types and scope of variables are important?\n",
    "- What type of operations are used?\n"
   ]
  },
  {
   "cell_type": "markdown",
   "id": "ed00feff",
   "metadata": {},
   "source": [
    "- Understanding the output and input operations\n",
    "- Build concepts of different types of variables\n",
    "- Learning about type conversions and scope\n",
    "- Understanding mathematical and logical operations\n"
   ]
  },
  {
   "cell_type": "markdown",
   "id": "9234210f",
   "metadata": {},
   "source": [
    "<p align = \"center\">\n",
    "<iframe width=\"560\" height=\"315\" src=\"https://www.youtube.com/embed/Qr-UBp_AeDA\" title=\"YouTube video player\" frameborder=\"0\" allow=\"accelerometer; autoplay; clipboard-write; encrypted-media; gyroscope; picture-in-picture\" allowfullscreen></iframe>\n",
    "</p>\n",
    "\n",
    "<p style='text-align: justify;'> \n",
    "In programming, we process data and produce outputs. When the data is being processed, it is stored in the memory, so that it is readily available, and can therefore be subject to the processes we want to apply.\n",
    "</p>\n",
    "\n",
    "<p style='text-align: justify;'> \n",
    "Throughout this section, we will discuss how to handle data in Python. We start by learning how to display data on the screen, and receive an input from a user. We then use these techniques to perform different mathematical, and logical operations. This chapter introduces the fundamental principles that we will employ every time we code in Python. On that account, it is very important that you understand this chapter well before moving on. \n",
    "</p>"
   ]
  },
  {
   "cell_type": "markdown",
   "id": "54aacaf4",
   "metadata": {},
   "source": [
    "## I/O Operations {#operations}\n",
    "<p style='text-align: justify;'> \n",
    "In computer science, input or output operations refer to the communication between an information processing system such as a computer, and the outside world, which may be a user or another computer. Such communications are more commonly known as *I/O operations*. In general, the outside world --- especially in the context of this course, may be loosely defined as anything that falls outside of the environment that is directly controlled by an application. \n",
    "</p>\n",
    "\n",
    "## REMEMBER\n",
    "<p style='text-align: justify;'>\n",
    "Only what we define within the environment of our application and store in the memory is directly controlled by our application. We may access or take control over other environments through certain mediums; however, such interactions are classified as I/O operations. An example of this is interacting with a file on our computer, which we discuss in the topic of [Strings](REF-chapter:StringsAndFiles). Whilst we have complete control over the file while we are working on it (e.g.\\ reading from it or writing to it), our access to the file and the transmission of data is in fact controlled and managed by the operating system.\n",
    "</p>\n"
   ]
  },
  {
   "cell_type": "markdown",
   "id": "d6a03d82",
   "metadata": {},
   "source": [
    "In programming, I/O operations include, but are certainly not limited to:\n",
    "\n",
    "* displaying the results of a calculation to the user\n",
    "\n",
    "* asking the user enter a value\n",
    "\n",
    "* writing or reading data to and from a file or a database\n",
    "\n",
    "* downloading data from the Internet\n",
    "\n",
    "* operating a hardware (e.g.\\ a robot)\n",
    "\n",
    "* any operation that allows our programme to communicate the data stored in the memory."
   ]
  },
  {
   "cell_type": "markdown",
   "id": "143d22ed",
   "metadata": {},
   "source": [
    "## Advanced Topic\n",
    "<p style='text-align: justify;'>\n",
    "If you are interested in learning more about I/O systems and how they are handled at operating system level, you might benefit from chapter 13 of [*Operating Systems Concepts, 8^th^ ed.*](http://web.cse.ohio-state.edu/~soundarajan.1/courses/3430/silberschatz8thedition.pdf) by Abraham Silberschatz, Greg Gagne, and Peter Galvin.\n",
    "</p>"
   ]
  },
  {
   "cell_type": "markdown",
   "id": "fbb07298",
   "metadata": {},
   "source": [
    "### **I/O Operations in Python**\n",
    "[**Input and Output**](https://docs.python.org/3/tutorial/inputoutput.html)\n",
    "\n",
    "<p style='text-align: justify;'>\n",
    "In this section, we learn about two very basic but most fundamental methods of I/O operations in Python. We will be using these methods throughout the course, so it is essential that you feel comfortable with them and the way they work before moving on. We shall return to I/O operations later in the course, especially in chapter [Strings](REF-chapter:StringsAndFiles).\n",
    "</p>"
   ]
  },
  {
   "cell_type": "markdown",
   "id": "c1f122ce",
   "metadata": {},
   "source": [
    "### Producing an output\n",
    "[**Print**](https://docs.python.org/3/library/functions.html\\#print)\n",
    "\n",
    "<p style='text-align: justify;'>\n",
    "The term ```output``` in reference to an application typically refers to the data that has either been generated, or manipulated by that application.\n",
    "</p>\n",
    "\n",
    "<p style='text-align: justify;'>\n",
    "For example; we have two number and we would like to calculate their sum. The action of calculating the sum is itself a [*mathematical operation*](REFmathematicalOperations) (discussed in the coming section). The result of our calculation is called an ```output```. Once we obtain the result, we might want to save it in a file or display it on the screen, in which case we will be performing an *I/O operation*.\n",
    "</p>\n",
    "\n",
    "<p style='text-align: justify;'>\n",
    "The simplest and most frequently used method for generating an output in almost every modern programming language is to display something on the screen. We normally run our Python scripts and programmes from the terminal; so the typical (and the easiest) method for producing an output is to display it in the terminal.  The way we do this is by calling a dedicated built-in function called <kbd>print()</kbd>.\n",
    "</p>"
   ]
  },
  {
   "cell_type": "markdown",
   "id": "9d5a69be",
   "metadata": {},
   "source": [
    "## REMEMBER\n",
    "\n",
    "<p style='text-align: justify;'>\n",
    "In programming, a ```function``` is essentially an isolated piece of code. It usually to takes some inputs, *does *something to or with them, and produces an ```output```. The pair of parenthesis that follow a function are there so that we can provide the function with the *input arguments* it needs when we *call* it, so that it can do what it is supposed to do using our data. We will explore functions in more details in chapter [Functions](REFchapterch:functions).\n",
    "</p>"
   ]
  },
  {
   "cell_type": "markdown",
   "id": "1bf32577",
   "metadata": {},
   "source": [
    "The <kbd>print()</kbd> function can take several inputs and performs different tasks. Its primary objective, however, is to take some values as input and display them in the terminal. Here is how it works:\n",
    "\n",
    "Suppose we want to display some text in the terminal. To do so, we write:\n",
    "\n",
    "```\n",
    "print('Hello world!')\n",
    "```\n",
    "\n",
    "in our favourite editor or IDE and save it as ```script_a.py``` in a file. This is not a fully functioning python programme that we can run using the Python interpreter.\n",
    "\n",
    "If you are using an Integrated Development Environment (IDE) --- e.g.\\ Visual Studio Code, you may execute your code using the internal tools provided by that IDE. The specifics of how you do so depends on the IDE that you are using."
   ]
  },
  {
   "cell_type": "markdown",
   "id": "1e10b21d",
   "metadata": {},
   "source": [
    "Alternatively, we could always execute Python scripts manually. To do so, we open the terminal or the command prompt (CMD) in Windows and navigate to the directory where we saved ```script_a.py```. "
   ]
  },
  {
   "cell_type": "markdown",
   "id": "82888eba",
   "metadata": {},
   "source": [
    "## NOTE\n",
    "If you don't know how to navigate in the terminal, see the example in section [How to use terminal environment?] at the end of this chapter."
   ]
  },
  {
   "cell_type": "markdown",
   "id": "00555a0c",
   "metadata": {},
   "source": [
    "Once in the correct directory, we run the script by typing ```python3 script_a.py``` in our terminal as follows:\n"
   ]
  },
  {
   "cell_type": "code",
   "execution_count": null,
   "id": "4e082013",
   "metadata": {},
   "outputs": [],
   "source": [
    "%%bash\n",
    "python3 script_a.py"
   ]
  },
  {
   "cell_type": "markdown",
   "id": "81c580c3",
   "metadata": {},
   "source": [
    "```{.output}\n",
    "Hello world!\n",
    "```\n",
    "\n",
    "This will call the Python 3 interpreter to execute the code we wrote in ```script_a.py```. Once executed, which in this case should be instantaneously, we should see the output:"
   ]
  },
  {
   "cell_type": "markdown",
   "id": "d16aa864",
   "metadata": {},
   "source": [
    "**Congratulations** you have now successfully written and executed your first programme in Python.\n",
    "\n",
    "## REMEMBER\n",
    "\n",
    "<p style='text-align: justify;'>\n",
    "We know <kbd>print()</kbd> is a *function* because it ends with a pair of parenthesis, and it is written entirely in lowercase characters [PEP-8: Function Names](https://www.python.org/dev/peps/pep-0008/#function-names). Some IDEs change color when they encounter built-in functions in the code so that we won't accidentally overwrite them. We shall discuss *functions* in more details in chapter [Functions](REFchapterch:functions).\n",
    "</p>\n",
    "\n"
   ]
  },
  {
   "cell_type": "markdown",
   "id": "274077e1",
   "metadata": {},
   "source": [
    "We can pass more than a single value to the <kbd>print()</kbd> function, provided that they are separated with a comma. For instance, if we write the code below and run the script, the results would be as shown in *output*.\n"
   ]
  },
  {
   "cell_type": "code",
   "execution_count": null,
   "id": "10377a8e",
   "metadata": {},
   "outputs": [],
   "source": [
    "print('Hello', 'John')"
   ]
  },
  {
   "cell_type": "markdown",
   "id": "f75bf5ea",
   "metadata": {},
   "source": [
    "```{.output}\n",
    "Hello John\n",
    "```"
   ]
  },
  {
   "cell_type": "markdown",
   "id": "1b86feca",
   "metadata": {},
   "source": [
    "Notice that there is a space between <span style=\"color: rgb(32, 121, 77);\">'Hello'</span> and <span style=\"color: rgb(32, 121, 77);\">'John'</span> even though we did not include a space in our text. This is the default behaviour of the <kbd>print()</kbd> function when it receives more than a single value (argument).\n",
    "\n",
    "This default behaviour may be inhibited:\n"
   ]
  },
  {
   "cell_type": "code",
   "execution_count": null,
   "id": "e37b301e",
   "metadata": {},
   "outputs": [],
   "source": [
    "print('Hello', 'John', sep='')"
   ]
  },
  {
   "cell_type": "markdown",
   "id": "ae96d1fd",
   "metadata": {},
   "source": [
    "```{.output}\n",
    "HelloJohn\n",
    "```\n"
   ]
  },
  {
   "cell_type": "code",
   "execution_count": null,
   "id": "c1749717",
   "metadata": {},
   "outputs": [],
   "source": [
    "print('Hello', 'John', sep='--')"
   ]
  },
  {
   "cell_type": "markdown",
   "id": "0476e221",
   "metadata": {},
   "source": [
    "```{.output}\n",
    "Hello--John\n",
    "```\n"
   ]
  },
  {
   "cell_type": "code",
   "execution_count": null,
   "id": "185ee969",
   "metadata": {},
   "outputs": [],
   "source": [
    "print('Jane', 21, 'London', sep='.')"
   ]
  },
  {
   "cell_type": "markdown",
   "id": "bf5c2168",
   "metadata": {},
   "source": [
    "```{.output}\n",
    "Jane.21.London\n",
    "```\n"
   ]
  },
  {
   "cell_type": "markdown",
   "id": "3a916590",
   "metadata": {},
   "source": [
    "![Explanation of a function call](fig/functionCall.png)"
   ]
  },
  {
   "cell_type": "markdown",
   "id": "ae69fc08",
   "metadata": {},
   "source": [
    "## Do it Yourself\n",
    "\n",
    "Write a script that displays the following output:\n",
    "\n",
    ">**Protein Kinase C (Alpha subunit)**\n",
    "\t"
   ]
  },
  {
   "cell_type": "markdown",
   "id": "0a48b2f6",
   "metadata": {},
   "source": [
    "## DIY ANSWER\n"
   ]
  },
  {
   "cell_type": "code",
   "execution_count": null,
   "id": "e1c30226",
   "metadata": {},
   "outputs": [],
   "source": [
    "print('Protein Kinase C (Alpha subunit)')"
   ]
  },
  {
   "cell_type": "markdown",
   "id": "b4ef02ec",
   "metadata": {},
   "source": [
    "```{.output}\n",
    "Protein Kinase C (Alpha subunit)\n",
    "```\n"
   ]
  },
  {
   "cell_type": "markdown",
   "id": "35d3f226",
   "metadata": {},
   "source": [
    "![Terminal window on a Linux computer](fig/prompt.png){#fig:terLinux}\n",
    "\n",
    "![Terminal window on a Mac](fig/MacPrompt.png){#fig:terMac}\n",
    "\n",
    "### Receiving an input\n",
    "[**Input**](https://docs.python.org/3/library/functions.html\\#input)\n",
    "\n",
    "Inputs are I/O operations that involve receiving some data from the outside world. This might include reading the contents of a file, downloading something from the Internet, or asking the user to enter a value.\n",
    "\n",
    "The simplest way to acquire an input is to ask the user to enter a value in the terminal. To do so, we use a dedicated built-in function called <kbd>input()</kbd>. \n",
    "\n",
    "## Note \n",
    "In a Unix system (Mac OS or Linux), a tilde (~) is an alias for a user's home directory."
   ]
  },
  {
   "cell_type": "markdown",
   "id": "8f0aa294",
   "metadata": {},
   "source": [
    "The function takes a single *argument* called ```prompt```. Prompt is the text displayed in the terminal to ask the user for an input. Figure [Terminal window on a Linux computer](#fig:terLinux) and [Terminal window on a Mac](#fig:terMac), illustrates a screen shot of my personal computer's prompt, where it displays my user name (i.e. ```pouria```) followed by a tilde (~). A terminal prompt may be different in each computer and operating system."
   ]
  },
  {
   "cell_type": "markdown",
   "id": "ca4c099c",
   "metadata": {},
   "source": [
    "Here is how we implement the <kbd>input()</kbd> function:\n",
    "\n",
    "```\n",
    "input('Please enter your name: ')\n",
    "```\n",
    "\n",
    "which is exactly the same as:\n",
    "\n",
    "```\n",
    "input(prompt='Please enter your name: ')\n",
    "```\n",
    "\n",
    "If we save one of the above in a file and call it ```script_b.py```; and execute the file using the Python 3 interpreter as described previously, we shall see the following:\n",
    "\n",
    "```\n",
    "python3 script_b.py\n",
    "\n",
    "Please enter your name: _\n",
    "```\n",
    "\n",
    "The terminal cursor, displayed as an underscore in our example, will be in front of the prompt (i.e. ```'Please enter your name: '```) waiting for a response. Once it receives a response, it will proceed to run the rest of the code (if any), or terminate the execution."
   ]
  },
  {
   "cell_type": "markdown",
   "id": "144213fe",
   "metadata": {},
   "source": [
    "We may store the user's response in a variable. Variables are the topic of the next section, where we shall also review more examples on <kbd>input()</kbd> and how we can use it to produce results based on the responses we receive from the user.\n",
    "\n"
   ]
  },
  {
   "cell_type": "markdown",
   "id": "d184659e",
   "metadata": {},
   "source": [
    "## Remember\n",
    "Python is an interpreted language; that is, the code we write is executed by the Python interpreter one line at a time. The <kbd>input()</kbd> function performs a *blocking* process. This means that the execution of the code by the Python interpreter is halted upon encountering an <kbd>input()</kbd> function until the user enters a value. Once a value is entered, the interpreter then proceeds to execute the next line."
   ]
  },
  {
   "cell_type": "markdown",
   "id": "569553a6",
   "metadata": {},
   "source": [
    "## Do it Yourself \n",
    "\t\n",
    "Write a script that asks the user to enter the name of a protein in the terminal.\n",
    "\n",
    "## DIY ANSWER\n",
    "\n",
    "```\n",
    "input('Please enter the name of a protein: ')\n",
    "```"
   ]
  },
  {
   "cell_type": "markdown",
   "id": "b6832239",
   "metadata": {},
   "source": [
    "## Variables And Types {#varTypes}"
   ]
  },
  {
   "cell_type": "markdown",
   "id": "515f8d7d",
   "metadata": {},
   "source": [
    "We use variables to store data in the memory. Each variable has 3 characteristics: *scope*, *name*, and *type*. *Scope* and *name* must be mutually unique. Starting with *name*, we will discuss each of these characteristics in more details throughout this chapter. "
   ]
  },
  {
   "cell_type": "markdown",
   "id": "a5666b13",
   "metadata": {},
   "source": [
    "### **Variable names**\n",
    "[**PEP--8 Naming Conventions**](https://www.python.org/dev/peps/pep-0008/\\#naming-conventions)\n",
    "\n",
    "Name of a variable is in fact an alias for a location in the memory. You can think of it as a postbox, which is used as a substitute for an address. Similarly, we use variable names so we wouldn't have to use the actual address to the location we want in the memory because it would look something like ```0x106fb8348```.\n",
    "\n",
    "There are some relatively simple rules to follow when defining variable names, which ultimately boil down to:\n",
    "\n",
    "![](fig/variable_table.png)"
   ]
  },
  {
   "cell_type": "markdown",
   "id": "bda75f2d",
   "metadata": {},
   "source": [
    "## Remember\n",
    "We should never overwrite an existing, built-in definitions or identifier (e.g. ```int``` or  ```j```). We will be learning many such definitions and identifiers as we progress through this course. Nonetheless, a good IDE highlights syntaxes and built-in identifiers in different colours. The exact colouring scheme depends on the IDE and the theme. That is why the internal identifiers display in different colour in the previous example."
   ]
  },
  {
   "cell_type": "markdown",
   "id": "4041fa73",
   "metadata": {},
   "source": [
    "Once a variable is defined, its value may be altered or reset:\n"
   ]
  },
  {
   "cell_type": "code",
   "execution_count": null,
   "id": "5cdf3a0b",
   "metadata": {},
   "outputs": [],
   "source": [
    "total_items = 2\n",
    "print(total_items)"
   ]
  },
  {
   "cell_type": "markdown",
   "id": "38bcd0c2",
   "metadata": {},
   "source": [
    "```{.output}\n",
    "2\n",
    "```\n",
    "\n",
    "Variables containing integer numbers are known as ```int```, and those containing decimal numbers are known as ```float``` in Python. \n"
   ]
  },
  {
   "cell_type": "code",
   "execution_count": null,
   "id": "1b70f5a5",
   "metadata": {},
   "outputs": [],
   "source": [
    "total_items = 3\n",
    "print(total_items)"
   ]
  },
  {
   "cell_type": "markdown",
   "id": "b66ac574",
   "metadata": {},
   "source": [
    "```{.output}\n",
    "3\n",
    "```\n"
   ]
  },
  {
   "cell_type": "code",
   "execution_count": null,
   "id": "88957128",
   "metadata": {},
   "outputs": [],
   "source": [
    "total_values = 3.2\n",
    "print(total_values)"
   ]
  },
  {
   "cell_type": "markdown",
   "id": "8a70c1e7",
   "metadata": {},
   "source": [
    "```{.output}\n",
    "3.2\n",
    "```\n"
   ]
  },
  {
   "cell_type": "code",
   "execution_count": null,
   "id": "c08db92b",
   "metadata": {},
   "outputs": [],
   "source": [
    "temperature = 16.\n",
    "print(temperature)"
   ]
  },
  {
   "cell_type": "markdown",
   "id": "f9f6b3d7",
   "metadata": {},
   "source": [
    "```{.output}\n",
    "16.0\n",
    "```\n",
    "\n",
    "Variables can contain characters as well; but to prevent Python from confusing them with meaningful commands, we use  quotation marks. So long as we remain consistent, it doesn't matter whether we use single or double quotations. These variables are known as ```string``` or  ```str```:\n"
   ]
  },
  {
   "cell_type": "code",
   "execution_count": null,
   "id": "890b29cd",
   "metadata": {},
   "outputs": [],
   "source": [
    "forename = 'John'\n",
    "surname = \"Doe\"\n",
    "\n",
    "\n",
    "print('Hi,', forename, surname)"
   ]
  },
  {
   "cell_type": "markdown",
   "id": "f7ef3d7b",
   "metadata": {},
   "source": [
    "```{.output}\n",
    "Hi, John Doe\n",
    "```\n"
   ]
  },
  {
   "cell_type": "markdown",
   "id": "97a3d63f",
   "metadata": {},
   "source": [
    "## Do it Yourself {#diy:enzyme}\n",
    "\n",
    "Oxidised low-density lipoprotein (LDL) receptor 1 mediates the recognition, internalisation and degradation of oxidatively modified low density lipoprotein by vascular endothelial cells. Using the [Universal Protein Resource](https://uniprot.org}{Universal Protein Resource) (UniProt) website, find this protein for humans, and identify:\n",
    "\t\n",
    "* UniProt entry number.\n",
    "* Length of the protein for isoform 1 (under \\emph{Sequences}).\n",
    "* Gene name (under \\emph{Names \\& Taxonomy}). \n",
    "\n",
    "Store the information you retrieved, including the protein name, in 4 separate variables. \n",
    "\t\n",
    "Display the values of these 4 variables in *one* line, and separate the items with 3 spaces, as follows:\n",
    "\t\n",
    "> ```Name   EntryNo   GeneName   Length```"
   ]
  },
  {
   "cell_type": "markdown",
   "id": "fd00be31",
   "metadata": {},
   "source": [
    "## DIY ANSWER \n",
    "\t"
   ]
  },
  {
   "cell_type": "code",
   "execution_count": null,
   "id": "e4cff49a",
   "metadata": {},
   "outputs": [],
   "source": [
    "name = 'Oxidised low-density lipoprotein (LDL) receptor 1'\n",
    "\n",
    "uniprot_entry = 'P78380'\n",
    "\t\t\n",
    "gene_name = 'OLR1'\n",
    "\t\t\n",
    "length = 273\n",
    "\t\t\n",
    "print(name, uniprot_entry, gene_name, length, sep='   ')"
   ]
  },
  {
   "cell_type": "markdown",
   "id": "cbae9c27",
   "metadata": {},
   "source": [
    "```{.output}\n",
    "Oxidised low-density lipoprotein (LDL) receptor 1   P78380   OLR1   273\n",
    "```\n",
    "\n",
    "\n"
   ]
  },
  {
   "cell_type": "markdown",
   "id": "4abab510",
   "metadata": {},
   "source": [
    "#### **Using variables with input**\n",
    "\n",
    "Now that we know how to create variables to store values, we can also use them to retain the value entered by the user when using the <kbd>input()</kbd> function:\n",
    "\n",
    "```\n",
    "name = input('Please enter your name: ')\n",
    "\t\n",
    "print('Hi,', name)\n",
    "\n",
    "```\n",
    "\n",
    "If we save this in a file called ```script_c.py``` and run it, the output will appear in the terminal as displayed in figure [Run from terminal](#fig:inputExample).\n",
    "\n",
    "![Run from terminal](fig/input_example.png){#fig:inputExample}\n"
   ]
  },
  {
   "cell_type": "markdown",
   "id": "56698816",
   "metadata": {},
   "source": [
    "## Remember\n",
    "\n",
    "The <kbd>input()</kbd> function displays a prompt and waits for the user to enter a value. The value entered by the user is then *returned* by the function as a ```str``` type. The value returned by a function may also be referred to as the *output* of that function. The output of a function may be stored in a variable. \n"
   ]
  },
  {
   "cell_type": "markdown",
   "id": "80bec8b9",
   "metadata": {},
   "source": [
    "## Do it Yourself \n",
    "1. Write a script that upon execution, asks the user to enter the name of an enzyme and then retains the response in an appropriately named variable.\n",
    "\t\t\n",
    "2. Use the variable to display an output similar to the following:\n",
    "\n",
    "```ENZYME_NAME is an enzyme.```\n",
    "\t\t\n",
    "where ```ENZYME_NAME``` is the name of the enzyme entered in the prompt.\n",
    "\t\t\n",
    "3. Now alter your script to ask the user to enter the number of amino acids in that enzyme. Retain the value in another appropriately named variable. \n",
    "\t\t\n",
    "4. Alter the output of your script to display a report in the following format:\n",
    "\n",
    "```ENZYME_NAME is an enzyme containing a total number of AMINO_ACIDS} amino acids.```\n",
    "\n",
    "where ```AMINO_ACIDS``` is the number of amino acids.\n",
    "\n",
    "\n",
    "## DIY ANSWER\n",
    "\n",
    "```\t\n",
    "enzyme = input('Please enter the name of an enzyme: ')\n",
    "\t\t\n",
    "print(enzyme, 'is an enzyme.')\n",
    "\t\t\n",
    "length = input('How many amino acids does the enzyme contain? ')\n",
    "\t\t\n",
    "print(enzyme, 'is an enzyme containing a total number of', length, 'amino acids.')\n",
    "\n",
    "```\n",
    "\n",
    "\n",
    "\n",
    "\n",
    "### **Variable Types** {#sec:varTyp}\n",
    "[**Built-in Types**](https://docs.python.org/3/library/stdtypes.html)\n",
    "\n",
    "When it comes to types, programming languages may be divided into two distinct categories:\n",
    "\n",
    "## Types\n",
    "\n",
    "- [x] **Statically typed**        language that require the programmer to define the type for every variable (statically typed).\n",
    "\n",
    "- [x] **Dynamically typed**       languages that define and maintain the types on the fly.\n",
    "\n",
    "Python is a dynamically typed language. This means that, unlike statically typed languages, we rarely need to worry about the *type* definitions because in the majority of cases, Python takes care of them for us. \n",
    "\n",
    "\n",
    "\n",
    "## Remember\n",
    "In a dynamically typed language, it is the value of a variable that determines the type. This is because the types are determined on the fly by the Python interpreter as and when it encounters different variables and values.\n",
    "\n",
    "## Advanced Topic\n",
    "In computer programming, type systems are syntactic methods to enforce and / or identify levels of abstraction. An entire field in computer science has been dedicated to the study of programming languages from a type--theoretic approach. This is primarily due to the implication of types and their underlying principles in such areas in software engineering as optimisation and security. To learn more about the study of type systems, refer to: Pierce B. Types and programming languages. Cambridge, Mass.: MIT Press; 2002.\n",
    "\n",
    "\n",
    "## Note\n",
    "The values determine the type of a variable in dynamically typed languages. This is in contrast with statically typed languages where a variable must be initialised using a specific type before a value --- whose type is consistent with the initialised variable, can be assigned to it.\n",
    "\n",
    "\n",
    "\t\n",
    "\n",
    "#### **Why learn about *types* in a dynamically typed programming language?**\n",
    "\n",
    "Now that we know how to define variables in Python, you may have noticed that depending on the value, there are different forms of variables such as ```int```, ```float```, and ```str```. These are built-in definitions known as variable *types*. In essence, types tell the computer how much space in the memory should be reserved for the value of a specific variable, and clarify the operations that may be applied to it. \n",
    "\n",
    "Python enjoys a powerful type system out of the box. Table [Built-in types in Python](#tb:types:nativeTypes) provides a comprehensive reference for the built-in types in Python. Built-in types are the types that exist in the language and do not require any third party libraries to implement or use. \n",
    "\n",
    "![A comprehensive (but non-exhaustive) reference of built-in (native) types in Python 3.<br> ^\\*^ Not discussed in this course --- included for reference only. <br> ^$^ ```dict``` is not an iterable by default, however, it is possible to iterate through its keys. <br> **Mutability** is an important [concept in programming](https://en.wikipedia.org/wiki/Immutable_object). For the purpose of this tutorial, a mutable object is an object whose value(s) may be altered. This will become clearer once we study ```list``` and ```tuple```. Find out more about mutability in Python from the [documentations}](https://docs.python.org/3.6/reference/datamodel.html). <br> **Complex numbers** refer to a [set of numbers](http://thinkzone.wlonk.com/Numbers/NumberSets.htm) that have a real part, and an imaginary part; where the imaginary part is defined as $\\sqrt{-1}$. These numbers are very useful in the study of oscillatory behaviours and flow (e.g. heat, fluid, electricity). To learn more about complex numbers, watch this [Khan Academy video tutorial](https://www.khanacademy.org/math/algebra2/introduction-to-complex-numbers-algebra-2/the-complex-numbers-algebra-2/v/complex-number-intro). ](fig/python_built-in_types.png){#tb:types:nativeTypes}\n",
    "\n",
    " \n",
    "Sometimes we might need want to know what is the type of a variable. To do so, we use the build-in function <kbd>type()</kbd> as follows:\n",
    "\n",
    "\n",
    "```python\n",
    "total_items = 2\n",
    "\t\t\n",
    "print(type(total_items))\n",
    "```\n",
    "\n",
    "```{.output}\n",
    "<class 'int'>\n",
    "```\n"
   ]
  },
  {
   "cell_type": "code",
   "execution_count": null,
   "id": "42618070",
   "metadata": {},
   "outputs": [],
   "source": [
    "total_values = 3.2\n",
    "\t\t\n",
    "print(type(total_values))"
   ]
  },
  {
   "cell_type": "markdown",
   "id": "a55df8c9",
   "metadata": {},
   "source": [
    "```{.output}\n",
    "<class 'float'>\n",
    "```\n"
   ]
  },
  {
   "cell_type": "code",
   "execution_count": null,
   "id": "4a69c92a",
   "metadata": {},
   "outputs": [],
   "source": [
    "temperature = 16.\n",
    "\t\t\n",
    "print(type(temperature))"
   ]
  },
  {
   "cell_type": "markdown",
   "id": "a9d5c61e",
   "metadata": {},
   "source": [
    "```{.output}\n",
    "<class 'float'>\n",
    "```\n"
   ]
  },
  {
   "cell_type": "code",
   "execution_count": null,
   "id": "939a721e",
   "metadata": {},
   "outputs": [],
   "source": [
    "phase = 12.5+1.5j\n",
    "\t\t\n",
    "print(type(phase))"
   ]
  },
  {
   "cell_type": "markdown",
   "id": "cd0490bd",
   "metadata": {},
   "source": [
    "```{.output}\n",
    "<class 'complex'>\n",
    "```\n"
   ]
  },
  {
   "cell_type": "code",
   "execution_count": null,
   "id": "56dc03eb",
   "metadata": {},
   "outputs": [],
   "source": [
    "full_name = 'John Doe'\n",
    "\n",
    "print(type(full_name))"
   ]
  },
  {
   "cell_type": "markdown",
   "id": "0547cbaf",
   "metadata": {},
   "source": [
    "```{.output}\n",
    "<class 'str'>\n",
    "```\n",
    "\t\n",
    "## Remember\n",
    "In Python, a variable / value of a certain type may be referred to as an *instance* of that type. For instance, an integer value whose type in Python is defined as *int* is said to be an **instance of type** ```int```.\n",
    "\t"
   ]
  },
  {
   "cell_type": "markdown",
   "id": "cbc1f925",
   "metadata": {},
   "source": [
    "## Do it Yourself \n",
    "Determine and display the type for each of these values:\n",
    "\n",
    "* 32\n",
    "* 24.3454\n",
    "* 2.5 + 1.5\n",
    "* \"RNA Polymerase III\"\n",
    "* 0\n",
    "* .5 - 1\n",
    "* 1.3e-5\n",
    "* 3e5\n",
    "\n",
    "The result for each value should be represented in the following format:\n",
    "\n",
    "```Value X is an instance of <class 'Y'>```\n",
    "\n",
    "\n",
    "\n",
    "```python\n",
    "value = 32\n",
    "\n",
    "value_type = type(value)\n",
    "\n",
    "print('Value', value, 'is an instance of', value_type)\n",
    "```\n",
    "\n",
    "```{.output}\n",
    "Value 32 is an instance of <class 'int'>\n",
    "```\n"
   ]
  },
  {
   "cell_type": "code",
   "execution_count": null,
   "id": "a595b865",
   "metadata": {},
   "outputs": [],
   "source": [
    "value = 24.3454\n",
    "\n",
    "value_type = type(value)\n",
    "\n",
    "print('Value', value, 'is an instance of', value_type)"
   ]
  },
  {
   "cell_type": "markdown",
   "id": "9c9411be",
   "metadata": {},
   "source": [
    "```{.output}\n",
    "Value 24.3454 is an instance of <class 'float'>\n",
    "```\n"
   ]
  },
  {
   "cell_type": "code",
   "execution_count": null,
   "id": "b38ecb0b",
   "metadata": {},
   "outputs": [],
   "source": [
    "value = 2.5 + 1.5\n",
    "\n",
    "value_type = type(value)\n",
    "\n",
    "print('Value', value, 'is an instance of', value_type)"
   ]
  },
  {
   "cell_type": "markdown",
   "id": "071bf484",
   "metadata": {},
   "source": [
    "```{.output}\n",
    "Value 4.0 is an instance of <class 'float'>\n",
    "```\n"
   ]
  },
  {
   "cell_type": "code",
   "execution_count": null,
   "id": "add04593",
   "metadata": {},
   "outputs": [],
   "source": [
    "value = \"RNA Polymerase III\"\n",
    "\n",
    "value_type = type(value)\n",
    "\n",
    "print('Value', value, 'is an instance of', value_type)"
   ]
  },
  {
   "cell_type": "markdown",
   "id": "05081aa8",
   "metadata": {},
   "source": [
    "```{.output}\n",
    "Value RNA Polymerase III is an instance of <class 'str'>\n",
    "```\n"
   ]
  },
  {
   "cell_type": "code",
   "execution_count": null,
   "id": "983e0f45",
   "metadata": {},
   "outputs": [],
   "source": [
    "value = 0\n",
    "\n",
    "value_type = type(value)\n",
    "\n",
    "print('Value', value, 'is an instance of', value_type)"
   ]
  },
  {
   "cell_type": "markdown",
   "id": "167bab4f",
   "metadata": {},
   "source": [
    "```{.output}\n",
    "Value 0 is an instance of <class 'int'>\n",
    "```\n",
    "\n"
   ]
  },
  {
   "cell_type": "code",
   "execution_count": null,
   "id": "6a256a1b",
   "metadata": {},
   "outputs": [],
   "source": [
    "value = .5 - 1\n",
    "\n",
    "value_type = type(value)\n",
    "\n",
    "print('Value', value, 'is an instance of', value_type)\n",
    "\t\t\t"
   ]
  },
  {
   "cell_type": "markdown",
   "id": "e38ccc11",
   "metadata": {},
   "source": [
    "```{.output}\n",
    "Value -0.5 is an instance of <class 'float'>\n",
    "```\n"
   ]
  },
  {
   "cell_type": "code",
   "execution_count": null,
   "id": "53bf5a9c",
   "metadata": {},
   "outputs": [],
   "source": [
    "value = 1.3e-5\n",
    "\n",
    "value_type = type(value)\n",
    "\n",
    "print('Value', value, 'is an instance of', value_type)"
   ]
  },
  {
   "cell_type": "markdown",
   "id": "b6c32bec",
   "metadata": {},
   "source": [
    "```{.output}\n",
    "Value 1.3e-05 is an instance of <class 'float'>\n",
    "```\n"
   ]
  },
  {
   "cell_type": "code",
   "execution_count": null,
   "id": "25c4b85c",
   "metadata": {},
   "outputs": [],
   "source": [
    "value = 3e5\n",
    "\n",
    "value_type = type(value)\n",
    "\n",
    "print('Value', value, 'is an instance of', value_type)"
   ]
  },
  {
   "cell_type": "markdown",
   "id": "082e4547",
   "metadata": {},
   "source": [
    "```{.output}\n",
    "Value 300000.0 is an instance of <class 'float'>\n",
    "```\n",
    "\n"
   ]
  },
  {
   "cell_type": "markdown",
   "id": "090fa9ba",
   "metadata": {},
   "source": [
    "### **Conversion of types** {#sec:conversionType}"
   ]
  },
  {
   "cell_type": "markdown",
   "id": "e29ee89e",
   "metadata": {},
   "source": [
    "## Why convert types?\n",
    "It is sometimes necessary to have the values returned by the <kbd>input()</kbd> function --- *i.e*. the user's response, in other types. Imagine the following scenario:\n",
    "\t\n",
    "<span style=\"color: rgb(32, 121, 77);\">\t\n",
    "\"We ask our user to enter the total volume of their purified protein, so that we can work out the amount of assay they need to conduct a specific experiment. To calculate this assay volume using the volume of the purified protein, we need to perform mathematical calculations based on the response we receive from our user. It is not possible to perform mathematical operations on non-numeric values. Therefore, we ought to somehow convert the type from \\texttt{str} to a numeric type.\" \n",
    "</span>\n",
    "\t\n",
    "The possibility of converting from one type to another depends entirely on the *value*, the *source type*, and the *target type*. For instance; we can convert an instance of type ```str``` (source type) to one of type ```int``` (target type) if and only if the source value consists entirely of numbers and there are *no* other characters.\n"
   ]
  },
  {
   "cell_type": "markdown",
   "id": "05dce5b3",
   "metadata": {},
   "source": [
    "## Remember\n",
    "To convert a variable from one type to another, we use the *Type Name* of the target type (as described in Table [Built-in types in Python](#tb:types:nativeTypes) and treat it as a function. \n",
    "\t\t\n",
    "For instance, to convert a variable to integer, we:\n",
    "\n",
    "* look up the *Type Name* for integer from Table [Built-in types in Python](#tb:types:nativeTypes)\n",
    "* then treat the *Type Name* as a function: ```int()```\n",
    "* use the function to convert our variable: new_var = ```int```(old_var)"
   ]
  },
  {
   "cell_type": "markdown",
   "id": "589013a3",
   "metadata": {},
   "source": [
    "Here is an example of how we convert types in Python:\n"
   ]
  },
  {
   "cell_type": "code",
   "execution_count": null,
   "id": "107c4085",
   "metadata": {},
   "outputs": [],
   "source": [
    "value_a = '12'\n",
    "\t\t\n",
    "print(value_a, type(value_a))"
   ]
  },
  {
   "cell_type": "markdown",
   "id": "64e6219f",
   "metadata": {},
   "source": [
    "```{.output}\n",
    "12 <class 'str'>\n",
    "```\n"
   ]
  },
  {
   "cell_type": "code",
   "execution_count": null,
   "id": "687bacff",
   "metadata": {},
   "outputs": [],
   "source": [
    "value_b = int(value_a)\n",
    "\t\t\n",
    "print(value_b, type(value_b))\t"
   ]
  },
  {
   "cell_type": "markdown",
   "id": "ce7bbdbd",
   "metadata": {},
   "source": [
    "```{.output}\n",
    "12 <class 'int'>\n",
    "```\n",
    "\n",
    "If we attempt to convert a variable that contains non-numeric values, a ```ValueError``` is raised:\n",
    "\t"
   ]
  },
  {
   "cell_type": "code",
   "execution_count": null,
   "id": "b895372c",
   "metadata": {},
   "outputs": [],
   "source": [
    "value_a = '12y'\n",
    "\t\t\n",
    "print(value_a, type(value_a))"
   ]
  },
  {
   "cell_type": "markdown",
   "id": "401c98b5",
   "metadata": {},
   "source": [
    "```{.output}\n",
    "12y <class 'str'>\n",
    "```\n",
    "\t"
   ]
  },
  {
   "cell_type": "code",
   "execution_count": null,
   "id": "41eb398a",
   "metadata": {},
   "outputs": [],
   "source": [
    "value_b = int(value_a)"
   ]
  },
  {
   "cell_type": "markdown",
   "id": "0061f138",
   "metadata": {},
   "source": [
    "```{.error}\n",
    "Error in py_call_impl(callable, dots$args, dots$keywords): ValueError: invalid literal for int() with base 10: '12y'\n",
    "\n",
    "Detailed traceback:\n",
    "  File \"<string>\", line 1, in <module>\n",
    "```"
   ]
  },
  {
   "cell_type": "markdown",
   "id": "3afe6622",
   "metadata": {},
   "source": [
    "## Do it Yourself \t\t\t\n",
    "In programming, we routinely face errors resulting from different mistakes. The process of finding and correcting such mistakes in the code is referred to as *debugging*.\n",
    "\n",
    "We have been given the following snippet written in Python 3: \n",
    "```\n",
    "value_a = 3\n",
    "value_b = '2'\n",
    "\t\t\t\n",
    "result = value_a + value_b\n",
    "print(value_a, '+', value_b, '=', result)\n",
    "```\n",
    "but when the code is executed, we encounter an error message as follows:\n",
    "\n",
    "```\n",
    "Traceback (most recent call last):\n",
    "File \"<stdin>\", line 1, in <module>\n",
    "TypeError: unsupported operand type(s) for +: 'int' and 'str'\n",
    "```\n",
    "\n",
    "Debug the snippet so that the correct result is displayed:"
   ]
  },
  {
   "cell_type": "markdown",
   "id": "9458014a",
   "metadata": {},
   "source": [
    "> ```3 + 2 = 5```\n",
    "\n",
    "\n"
   ]
  },
  {
   "cell_type": "code",
   "execution_count": null,
   "id": "405d16f0",
   "metadata": {},
   "outputs": [],
   "source": [
    "value_a = 3\n",
    "\n",
    "value_b = '2'\n",
    "\n",
    "result = value_a + int(value_b)\n",
    "\t\t\t\n",
    "print(value_a, '+', value_b, '=', result)"
   ]
  },
  {
   "cell_type": "markdown",
   "id": "9e889ebb",
   "metadata": {},
   "source": [
    "```{.output}\n",
    "3 + 2 = 5\n",
    "```"
   ]
  },
  {
   "cell_type": "markdown",
   "id": "602823a3",
   "metadata": {},
   "source": [
    "### **Handling input variables**\n",
    "\n",
    "When we use <kbd>input()</kbd> to obtain a value from the user, the results are by default an instance of type ```str```. So for the code we explored in relation to figure [Run from terminal](#fig:inputExample), we could assess the input type as follows:\n",
    "\t\n",
    "```\n",
    "name = input('Please enter your name: ')\n",
    "\t\t\n",
    "print(name, type(name))\n",
    "```\n",
    "\t\n",
    "If we save this script in a file called ```script_d.py``` and run it, the output will be as displayed in figure [Run script](#fig:inputTypeExample). \n",
    "\n",
    "![Type evaluation against four different responses to the ***input()*** function. An **input()** function *always* stores the response as a ```str``` value, no matter what the user enters.](fig/input_type_example.png){#fig:inputTypeExample}\t"
   ]
  },
  {
   "cell_type": "markdown",
   "id": "c5cf0997",
   "metadata": {},
   "source": [
    "## Remember\n",
    "The <kbd>input()</kbd> function *always* returns a value of type ```str``` regardless of the user's response. In other words, if a user's response to an <kbd>input()</kbd> request is numeric, Python will *not* automatically recognise it as a numeric type. "
   ]
  },
  {
   "cell_type": "markdown",
   "id": "18425148",
   "metadata": {},
   "source": [
    "We may use *type conversion* in conjunction with the values returned by the <kbd>input()</kbd> function:\t\n",
    "\n",
    "```\n",
    "response = input('Please enter a numeric value: ')\n",
    "\t\t\n",
    "response_numeric = float(response)\n",
    "\t\t\n",
    "print('response:', response)\n",
    "print('response type:', type(response))\n",
    "print('response_numeric:', response_numeric)\n",
    "print('response_numeric type:', type(response_numeric))\n",
    "```\n",
    "\t\n",
    "If we save this as ```script_e.py``` as run it, we will be directed to enter numeric values. The first two attempts displayed in figure [Input conversion](#fig:inputConversionExample) demonstrate the results when we enter numeric values as directed. If, however, we supply a non-numeric response as demonstrated in the third attempt, a ```ValueError``` will be raised. "
   ]
  },
  {
   "cell_type": "markdown",
   "id": "c371bda2",
   "metadata": {},
   "source": [
    "![Input conversion](fig/input_conversion_example.png){#fig:inputConversionExample}\t\t\n",
    "\t\n",
    "## Do it Yourself \n",
    "We know that each amino acid in a protein is encoded by a triplet of mRNA nucleotides.\n",
    "\t\t\n",
    "With that in mind, alter the script you wrote for [Do it Yourself](#diy:enzyme) and use the number of amino acids entered by the user to calculate the number of mRNA nucleotides.\n",
    "\n",
    "Display the results in the following format:\n",
    "\n",
    "> ```ENZYME_NAME is an enzyme with AMINO_ACIDS amino acids and NUCLEOTIDES nucleotides.```\n",
    "\n",
    "where ```NUCLEOTIDES``` is the total number of mRNA nucleotides that you calculated.\n",
    "\t\t\n",
    "**Note:** Multiplication is represented using the asterisk (```*```) sign."
   ]
  },
  {
   "cell_type": "markdown",
   "id": "5b0fc675",
   "metadata": {},
   "source": [
    "```\n",
    "enzyme = input('Please enter the name of an enzyme: ')\n",
    "\n",
    "length = input('How many amino acids does the enzyme contain? ')\n",
    "\n",
    "nucleotides = 3 * int(length)\n",
    "\t\t\t\n",
    "print(enzyme, 'is an enzyme with', length, 'amino acids and',  nucleotides, 'nucleotides.')\n",
    "\n",
    "```\n"
   ]
  },
  {
   "cell_type": "markdown",
   "id": "a3ed1637",
   "metadata": {},
   "source": [
    "### **Variable scopes**\n",
    "[**Resolution of names**](https://docs.python.org/3.6/reference/executionmodel.html\\#resolution-of-names)\n",
    "\n",
    "When defining a variable, we should always consider where in our programme we intent to use it. The more localised our variables, the better. This is because local variables are easier to distinguish, and thus reduce the chance of making mistakes --- e.g. unintentionally redefine or alter the value of an existing variable. \n",
    "\n",
    "To that end, the scope of a variable defines the ability to reference a variable from different *points* in our programmes. The concept of local variables becomes clearer once we explore functions in programming in chapter [Functions] REF.\n",
    "\n",
    "As displayed in figure [Variable scopes](#fig:opts:scopes), the point *at* or *from* which a variable can be referenced depends on the location where the variable is defined.\n",
    "\n",
    "In essence, there are three general rules to remember in relation variable scopes in Python:\n",
    "\n",
    "I. A variable that is defined in the outer scope, can be *accessed* or *called* in the inner scopes, but it cannot be *altered* implicitly. Not that such variables may still be altered using special techniques (not discussed). \n",
    "\n",
    "II. A variable that is defined in the innermost scopes (local), can only be *accessed*, *called*, or *altered* within the boundaries of the scope it is defined in.\n",
    "\n",
    "III. The inner scopes *from* which a variable is referenced must themselves have be contained within the defining scope --- e.g. in ```FuncB``` of figure [Variable scopes](#fig:opts:scopes), we can reference ```a```, ```b```, and ```x```; but not ```f1```. This is because the scope of ```f1``` is ```Script``` <kbd>→</kbd> ```FuncA```, so it can only be referenced from ```Script```  <kbd>→</kbd> ```FuncA``` <kbd>→ ...</kbd>, but not  ````Script```<kbd>→  ...</kbd> or ```Script``` <kbd>→</kbd>  ```FuncB``` <kbd>→ ...</kbd>.\n",
    "\n",
    "![Variable scopes in Python with respect to scripts and functions.](fig/variable_scopes.png){#fig:opts:scopes}\n",
    "\n",
    "Python is an interpreted language. This means that the Python interpreter goes through the codes that we write line by line, interpreting it to machine language. It is only then that the commands are processed and executed by the computer. On that account, a variable (or a function) can be referenced only *after* its initial definition. That is why, for instance, in ```Script (part 2)``` of figure [Variable scopes](#fig:opts:scopes), we can reference every variable and function except for ```FuncC```, which is declared further down the code hierarchy. \n",
    "\n",
    "Although scope and hierarchy appear at first glance as theoretical concepts in programming, their implications are entirely practical. The definition of these principles tend to vary from one programming language to another. As such, it is essential to understand these principles and their implications in relation to any programming language we are trying to learn."
   ]
  },
  {
   "cell_type": "markdown",
   "id": "70dc9d53",
   "metadata": {},
   "source": [
    "### **How to use terminal environment?** {#terminal}\n",
    "![](fig/commandprompt_1.png)\n",
    "![](fig/commandprompt_2.png)\n",
    "![](fig/commandprompt_3.png)\n",
    "\n",
    "## Operations {#sec:operations}\n",
    "\n",
    "Through our experimentations with [variable types](#sec:varTyp), we already know that variables may be subject to different operations. \n",
    "\n",
    "When assessing [type conversions](#sec:conversionType)  we also established that the operations we can apply to each variable depend on the *type* of that variable. To that end, we learned that although it is sometimes possible to mix variables from different types to perform an operation --- e.g. multiplying a floating point number with an integer, there are some logical restrictions in place.\n",
    "\n",
    "Throughout this section, we will take a closer look into different types of operations in Python. This will allow us to gain a deeper insight into the concept and familiarise ourselves with the underlying logic.\n",
    "\n",
    "To recapitulate on what we have done so far, we start off by reviewing *additions* --- the most basic of all operations."
   ]
  },
  {
   "cell_type": "markdown",
   "id": "5ac7eada",
   "metadata": {},
   "source": [
    "Give the variable ```total_items```:"
   ]
  },
  {
   "cell_type": "code",
   "execution_count": null,
   "id": "705424ec",
   "metadata": {},
   "outputs": [],
   "source": [
    "total_items = 2\n",
    "\n",
    "print(total_items) "
   ]
  },
  {
   "cell_type": "markdown",
   "id": "f77937a1",
   "metadata": {},
   "source": [
    "```{.output}\n",
    "2\n",
    "```"
   ]
  },
  {
   "cell_type": "markdown",
   "id": "f8d70d78",
   "metadata": {},
   "source": [
    "We can increment the value of an *existing* variable by ```1``` as follows:\n"
   ]
  },
  {
   "cell_type": "code",
   "execution_count": null,
   "id": "824597b1",
   "metadata": {},
   "outputs": [],
   "source": [
    "total_items = total_items + 1\n",
    "\n",
    "print(total_items)"
   ]
  },
  {
   "cell_type": "markdown",
   "id": "1529134c",
   "metadata": {},
   "source": [
    "```{.output}\n",
    "3\n",
    "```\n",
    "\n",
    "Given 2 different variables, each containing a different value; we can perform an operation on these values and store the result in *another* variable without altering the original variables in any way:\n",
    " "
   ]
  },
  {
   "cell_type": "code",
   "execution_count": null,
   "id": "9cd79504",
   "metadata": {},
   "outputs": [],
   "source": [
    "old_items = 4\n",
    "new_items = 3\n",
    "\n",
    "total_items = old_items + new_items\n",
    "\n",
    "print(total_items)"
   ]
  },
  {
   "cell_type": "markdown",
   "id": "04c69501",
   "metadata": {},
   "source": [
    "```{.output}\n",
    "7\n",
    "```"
   ]
  },
  {
   "cell_type": "markdown",
   "id": "a9aa7217",
   "metadata": {},
   "source": [
    "We can change the value of an *existing* variable using the value stored in *another* variable:\n"
   ]
  },
  {
   "cell_type": "code",
   "execution_count": null,
   "id": "ca822572",
   "metadata": {},
   "outputs": [],
   "source": [
    "new_items = 5\n",
    "total_items = total_items + new_items\n",
    "\n",
    "print(total_items)"
   ]
  },
  {
   "cell_type": "markdown",
   "id": "2ea3676f",
   "metadata": {},
   "source": [
    "```{.output}\n",
    "12\n",
    "```\n",
    "\t\n",
    "There is also a shorthand method for applying the operation on an *existing* variable: \t\n",
    "\t"
   ]
  },
  {
   "cell_type": "code",
   "execution_count": null,
   "id": "05bbc702",
   "metadata": {},
   "outputs": [],
   "source": [
    "total_items = 2\n",
    "\n",
    "print(total_items)"
   ]
  },
  {
   "cell_type": "markdown",
   "id": "efe946cb",
   "metadata": {},
   "source": [
    "```{.output}\n",
    "2\n",
    "```\n",
    "\t"
   ]
  },
  {
   "cell_type": "code",
   "execution_count": null,
   "id": "c5b743a9",
   "metadata": {},
   "outputs": [],
   "source": [
    "total_items += 1\n",
    "\t\n",
    "print(total_items)"
   ]
  },
  {
   "cell_type": "markdown",
   "id": "b57e29e0",
   "metadata": {},
   "source": [
    "```{.output}\n",
    "3\n",
    "```\n",
    "\n"
   ]
  },
  {
   "cell_type": "code",
   "execution_count": null,
   "id": "762794df",
   "metadata": {},
   "outputs": [],
   "source": [
    "new_items = 5\n",
    "total_items += new_items\n",
    "\n",
    "print(total_items)"
   ]
  },
  {
   "cell_type": "markdown",
   "id": "2bce697f",
   "metadata": {},
   "source": [
    "```{.output}\n",
    "8\n",
    "```\n",
    "\t\n",
    "As highlighted in the [introduction](#sec:operations), different operations may be applied to any variable or value. Throughout the rest of this section, we will explore the most fundamental operations in programming, and learn about their implementation in Python.\n",
    "\n",
    "## Remember\n",
    "There are 2 very general categories of operations in programming: *mathematical*, and *logical*. Naturally, we use mathematical operations to perform calculations, and logical operations to perform tests. "
   ]
  },
  {
   "cell_type": "markdown",
   "id": "4791335a",
   "metadata": {},
   "source": [
    "### **Mathematical Operations** {#math_ops}\n",
    "\n",
    "Suppose ```a``` and ```b``` are 2 variables representing integer numbers as follows:\n",
    "\n",
    "```\n",
    "a = 17\n",
    "b = 5\n",
    "```\n",
    "\n",
    "Using ```a``` and ```b``` we can itemise built-in mathematical operations in Python as follows:\t\n",
    "\n",
    "![Routine mathematical operations in Python](fig/routine_operations.png){#fig:nativeTypes}"
   ]
  },
  {
   "cell_type": "markdown",
   "id": "e9ee083e",
   "metadata": {},
   "source": [
    "## Remember\n",
    "As far as mathematical operations are concerned, variables ```a``` and ```b``` may be an instance of any *numeric* type. See Table [Routine mathematical operations in Python](#fig:nativeTypes) to find out more about numeric types in Python.\n",
    "\n",
    "Values of type ```int``` have been chosen in our examples to facilitate the understanding of the results. \n",
    "\n"
   ]
  },
  {
   "cell_type": "markdown",
   "id": "579c765c",
   "metadata": {},
   "source": [
    "## Do it Yourself\n",
    "\n",
    "1. Calculate the following and store the results in appropriately named variables:\n",
    "\n",
    "  a. $5.8 \\times 3.3$\n",
    "  b. $\\frac{180}{6}$\n",
    "  c. $35 - 3.0$\n",
    "  d. $35 - 3$\n",
    "  e. $2^{1000}$\n",
    "\n",
    "Display the result of each calculation -- including the type, in the following format:\n",
    "\n",
    "> ```Result: X is an instance of <class 'Y'>```"
   ]
  },
  {
   "cell_type": "markdown",
   "id": "2c39014d",
   "metadata": {},
   "source": [
    "2. Now using the results you obtained:\n",
    "\n",
    "  **I.** Can you explain why is the result of $35 - 3.0$ is an instance of type ```float```, whilst that of $35 - 3$ is of type ```int```?\n",
    "  \n",
    "  **II.** Unlike the numeric types, string values have a length. To obtain the length of a string value, we use <kbd>len()</kbd>. Convert the result for $2^{1000}$ from ```int``` to ```str```, then use the aforementioned function to work out the length of the number --- i.e. how many digits is it made of?\n",
    "\t\t\n",
    "If you feel adventurous, you can try this for $2^{10000}$ or higher; but beware that you might overwhelm your computer and need a restart it if you go too far (i.e. above $2^{1000000}$). Just make sure you save everything beforehand, so you don't accidentally step on your own foot.}"
   ]
  },
  {
   "cell_type": "markdown",
   "id": "76c2b976",
   "metadata": {},
   "source": [
    "**Hint:** We discuss <kbd>len()</kbd> in [subsection of arrays] REF. However, at this point, you should be able to use the official documentations and StackOverflow to work out how it works."
   ]
  },
  {
   "cell_type": "markdown",
   "id": "80e41c4f",
   "metadata": {},
   "source": [
    "## Q1"
   ]
  },
  {
   "cell_type": "code",
   "execution_count": null,
   "id": "63a3252e",
   "metadata": {},
   "outputs": [],
   "source": [
    "q1_a = 5.8 * 3.3\n",
    "print('Result:', q1_a, 'is an instance of', type(q1_a))\n",
    "\t"
   ]
  },
  {
   "cell_type": "markdown",
   "id": "50c1cb5e",
   "metadata": {},
   "source": [
    "```{.output}\n",
    "Result: 19.139999999999997 is an instance of <class 'float'>\n",
    "```"
   ]
  },
  {
   "cell_type": "code",
   "execution_count": null,
   "id": "92d701b6",
   "metadata": {},
   "outputs": [],
   "source": [
    "q1_b = 180 / 6\n",
    "print('Result:', q1_b, 'is an instance of', type(q1_b))\n",
    "\t"
   ]
  },
  {
   "cell_type": "markdown",
   "id": "c8dc2dc4",
   "metadata": {},
   "source": [
    "```{.output}\n",
    "Result: 30.0 is an instance of <class 'float'>\n",
    "```"
   ]
  },
  {
   "cell_type": "code",
   "execution_count": null,
   "id": "b876b541",
   "metadata": {},
   "outputs": [],
   "source": [
    "q1_c = 35 - 3.0\n",
    "print('Result:', q1_c, 'is an instance of', type(q1_c))\n",
    "\t"
   ]
  },
  {
   "cell_type": "markdown",
   "id": "03f46303",
   "metadata": {},
   "source": [
    "```{.output}\n",
    "Result: 32.0 is an instance of <class 'float'>\n",
    "```"
   ]
  },
  {
   "cell_type": "code",
   "execution_count": null,
   "id": "8cac16a3",
   "metadata": {},
   "outputs": [],
   "source": [
    "q1_d = 35 - 3\n",
    "print('Result:', q1_d, 'is an instance of', type(q1_d))\n",
    "\t"
   ]
  },
  {
   "cell_type": "markdown",
   "id": "01d66edf",
   "metadata": {},
   "source": [
    "```{.output}\n",
    "Result: 32 is an instance of <class 'int'>\n",
    "```"
   ]
  },
  {
   "cell_type": "code",
   "execution_count": null,
   "id": "a9179194",
   "metadata": {},
   "outputs": [],
   "source": [
    "q1_e = 2 ** 1000\n",
    "print('Result:', q1_e, 'is an instance of', type(q1_e))"
   ]
  },
  {
   "cell_type": "markdown",
   "id": "b112ef32",
   "metadata": {},
   "source": [
    "```{.output}\n",
    "Result: 10715086071862673209484250490600018105614048117055336074437503883703510511249361224931983788156958581275946729175531468251871452856923140435984577574698574803934567774824230985421074605062371141877954182153046474983581941267398767559165543946077062914571196477686542167660429831652624386837205668069376 is an instance of <class 'int'>\n",
    "```\n",
    "    "
   ]
  },
  {
   "cell_type": "markdown",
   "id": "0a6b8b34",
   "metadata": {},
   "source": [
    "## Q2-I\n",
    "\n",
    "In the case of $35 - 3.0$ vs $35 - 3$, the former includes a floating point number. Operations involving multiple numeric types always produce the results as an instance of the type that covers all of the operands -- i.e. ```float``` covers ```int```, but not vice-versa.  \n"
   ]
  },
  {
   "cell_type": "markdown",
   "id": "14af919e",
   "metadata": {},
   "source": [
    "## Q2-II\n"
   ]
  },
  {
   "cell_type": "code",
   "execution_count": null,
   "id": "9e8ae4fb",
   "metadata": {},
   "outputs": [],
   "source": [
    "big_num = 2 ** 1000\n",
    "big_num_str = str(big_num)\n",
    "big_num_len = len(big_num_str)\n",
    "\t\n",
    "print('Length of 2**1000:', big_num_len)"
   ]
  },
  {
   "cell_type": "markdown",
   "id": "74d2185f",
   "metadata": {},
   "source": [
    "```{.output}\n",
    "Length of 2**1000: 302\n",
    "```\n",
    "\n"
   ]
  },
  {
   "cell_type": "markdown",
   "id": "c4896d8f",
   "metadata": {},
   "source": [
    "## Interesting Fact\n",
    "As of Python 3.6, you can use an underscores (``` _ ```) *within* large numbers as a separator to make them easier to read in your code. For instance, instead of ```x = 1000000```, you can write ```x = 1_000_000```."
   ]
  },
  {
   "cell_type": "markdown",
   "id": "c9870c63",
   "metadata": {},
   "source": [
    "#### **Shorthands**\n",
    "When it comes to mathematical operations in Python, there is a frequently used shorthand method that every Python programmer should be familiar with.\n",
    "\n",
    "Suppose we have a variable defined as ```total_residues = 52``` and want to perform a mathematical operation on it. However, we would like to store the result of that operation in ```total_residues``` instead of a new variable. In such cases, we can do as follows:\n"
   ]
  },
  {
   "cell_type": "code",
   "execution_count": null,
   "id": "0d09a757",
   "metadata": {},
   "outputs": [],
   "source": [
    "total_residues = 52\n",
    "\n",
    "# Addition:\n",
    "total_residues += 8\n",
    "\n",
    "print(total_residues)"
   ]
  },
  {
   "cell_type": "markdown",
   "id": "1c422f5b",
   "metadata": {},
   "source": [
    "```{.output}\n",
    "60\n",
    "```\n",
    "\n"
   ]
  },
  {
   "cell_type": "code",
   "execution_count": null,
   "id": "c8be7147",
   "metadata": {},
   "outputs": [],
   "source": [
    "# Subtraction:\n",
    "total_residues -= 10\n",
    "\n",
    "print(total_residues)"
   ]
  },
  {
   "cell_type": "markdown",
   "id": "f3202bfa",
   "metadata": {},
   "source": [
    "```{.output}\n",
    "50\n",
    "```\n",
    "\n"
   ]
  },
  {
   "cell_type": "code",
   "execution_count": null,
   "id": "3733db63",
   "metadata": {},
   "outputs": [],
   "source": [
    "# Multiplication:\n",
    "total_residues *= 2\n",
    "\n",
    "print(total_residues)"
   ]
  },
  {
   "cell_type": "markdown",
   "id": "95562058",
   "metadata": {},
   "source": [
    "```{.output}\n",
    "100\n",
    "```\n"
   ]
  },
  {
   "cell_type": "code",
   "execution_count": null,
   "id": "2adb9558",
   "metadata": {},
   "outputs": [],
   "source": [
    "# Division:\n",
    "total_residues /= 4\n",
    "\n",
    "print(total_residues)"
   ]
  },
  {
   "cell_type": "markdown",
   "id": "5c720853",
   "metadata": {},
   "source": [
    "```{.output}\n",
    "25.0\n",
    "```\n"
   ]
  },
  {
   "cell_type": "code",
   "execution_count": null,
   "id": "227ca77c",
   "metadata": {},
   "outputs": [],
   "source": [
    "# Floor quotient:\n",
    "total_residues //= 2\n",
    "\n",
    "print(total_residues)"
   ]
  },
  {
   "cell_type": "markdown",
   "id": "5546f873",
   "metadata": {},
   "source": [
    "```{.output}\n",
    "12.0\n",
    "```\n"
   ]
  },
  {
   "cell_type": "code",
   "execution_count": null,
   "id": "7f6664bb",
   "metadata": {},
   "outputs": [],
   "source": [
    "# Remainder:\n",
    "total_residues %= 5\n",
    "\n",
    "print(total_residues)"
   ]
  },
  {
   "cell_type": "markdown",
   "id": "4c7fc21f",
   "metadata": {},
   "source": [
    "```{.output}\n",
    "2.0\n",
    "```\n"
   ]
  },
  {
   "cell_type": "code",
   "execution_count": null,
   "id": "01670212",
   "metadata": {},
   "outputs": [],
   "source": [
    "# Power:\n",
    "total_residues **= 3\n",
    "\n",
    "print(total_residues)"
   ]
  },
  {
   "cell_type": "markdown",
   "id": "775eb066",
   "metadata": {},
   "source": [
    "```{.output}\n",
    "8.0\n",
    "```\n",
    "\n",
    "We can also perform such operations using multiple variables:\n"
   ]
  },
  {
   "cell_type": "code",
   "execution_count": null,
   "id": "f23c48db",
   "metadata": {},
   "outputs": [],
   "source": [
    "total_residues = 52\n",
    "new_residues = 8\n",
    "number_of_proteins = 3\n",
    "\n",
    "total_residues += new_residues\n",
    "\n",
    "print(total_residues)"
   ]
  },
  {
   "cell_type": "markdown",
   "id": "f02ad6f6",
   "metadata": {},
   "source": [
    "```{.output}\n",
    "60\n",
    "```\n",
    "  "
   ]
  },
  {
   "cell_type": "code",
   "execution_count": null,
   "id": "c2a6d1f3",
   "metadata": {},
   "outputs": [],
   "source": [
    "total_residues += (number_of_proteins * new_residues)\n",
    "\n",
    "print(total_residues)"
   ]
  },
  {
   "cell_type": "markdown",
   "id": "0c93342c",
   "metadata": {},
   "source": [
    "```{.output}\n",
    "84\n",
    "```\n",
    "\n"
   ]
  },
  {
   "cell_type": "markdown",
   "id": "c9a7bd0e",
   "metadata": {},
   "source": [
    "## Do it Yourself \n",
    "\n",
    "1. Given:\n",
    "\t* Circumference: $C = 18.84956$\n",
    "\t* Radius: $R = 3$\n",
    "\t\n",
    "and considering that the properties of a circle are defined as follows:"
   ]
  },
  {
   "cell_type": "markdown",
   "id": "deaac3d5",
   "metadata": {},
   "source": [
    "$$\\pi = \\frac{C}{D}$$\n",
    "calculate $\\pi$ using the above equation and store it in a variable named ```pi```:\n",
    "\n",
    "![](fig/circle.png)\t"
   ]
  },
  {
   "cell_type": "markdown",
   "id": "78bdc684",
   "metadata": {},
   "source": [
    "Then round the results to 5 decimal places and display the result in the following format:\n",
    "\n",
    ">```The value of pi calculated to 5 decimal places: X.XXXXX```"
   ]
  },
  {
   "cell_type": "markdown",
   "id": "36f1efa7",
   "metadata": {},
   "source": [
    "**Note: **To round floating point numbers in Python, we use <kbd>round()</kbd>. This is a built-in function that takes 2 input arguments: the first is the variable/value to be rounded, and the second is the number decimal places. Read more about <kbd>round()</kbd> in the [official documentations](https://docs.python.org/3.6/library/functions.html\\#round).\n",
    "\t\n",
    "2. Now without creating a new variable, perform the following operation:\n",
    "\t\n",
    "\t$$pi = \\frac{pi}{(3 \\bmod 2) - 1}$$"
   ]
  },
  {
   "cell_type": "markdown",
   "id": "e07dc862",
   "metadata": {},
   "source": [
    "where the expression ''$3 \\bmod 2$'' represents the remainder for the division of 3 by 2.\n",
    "\n",
    "Explain the output.\n",
    "\n",
    "## Q1\n"
   ]
  },
  {
   "cell_type": "code",
   "execution_count": null,
   "id": "250dafb4",
   "metadata": {},
   "outputs": [],
   "source": [
    "c = 18.84956\n",
    "r = 3\n",
    "d = r * 2\n",
    "\t\n",
    "pi = c / d\n",
    "\t\n",
    "print('The value of pi calculated to 5 decimal places:', round(pi, 5))"
   ]
  },
  {
   "cell_type": "markdown",
   "id": "3fd106d7",
   "metadata": {},
   "source": [
    "```{.output}\n",
    "The value of pi calculated to 5 decimal places: 3.14159\n",
    "```"
   ]
  },
  {
   "cell_type": "markdown",
   "id": "f8ef3a6a",
   "metadata": {},
   "source": [
    "## Q2\n",
    "```\n",
    "\tpi /= (3 % 2) - 1\n",
    "\n",
    "```\n",
    "\n",
    "The calculation raises a ```ZeroDivisionError```. This is because division by zero is mathematically impossible."
   ]
  },
  {
   "cell_type": "markdown",
   "id": "5629b176",
   "metadata": {},
   "source": [
    "#### **Precedence**\n",
    "\n",
    "In mathematics and computer programming, there is a collection of conventional rules on the precedence of procedures to evaluate a mathematical expression. This collection of rules is referred to as the *order of operation* or *operator precedence*.\n",
    "\n",
    "Suppose we have a mathematical expression as follows:\n",
    "\n",
    "$$x = 2 + 3 \\times 9$$\n",
    "\n",
    "Such an expression can *only* be evaluated correctly if we do the multiplication first and then perform the addition. This means that the evaluation is done as follows:"
   ]
  },
  {
   "cell_type": "markdown",
   "id": "586f6860",
   "metadata": {},
   "source": [
    "$$given:3 \\times 9  = 27$$ \n",
    "$$\\implies x = 2 + 27$$    \n",
    "$$ = 29$$\n",
    "\n",
    "For instance, in an expression such as:"
   ]
  },
  {
   "cell_type": "markdown",
   "id": "318d981a",
   "metadata": {},
   "source": [
    "$$x = 2 \\times (3 + (5 - 1)^2)$$"
   ]
  },
  {
   "cell_type": "markdown",
   "id": "e7866071",
   "metadata": {},
   "source": [
    "the evaluation workflow may be described as follows:"
   ]
  },
  {
   "cell_type": "markdown",
   "id": "030dd218",
   "metadata": {},
   "source": [
    "$$x = 2 \\times (3 + 4^2)$$\n",
    "$$ = 2 \\times (3 + 16)$$\n",
    "$$ = 38$$\n",
    "\n",
    "The same principle applies in Python. This means that if we use Python to evaluate the above expression, the result would be identical:\n"
   ]
  },
  {
   "cell_type": "code",
   "execution_count": null,
   "id": "fba87b44",
   "metadata": {},
   "outputs": [],
   "source": [
    "result = 2 * (3 + (5 - 1) ** 2)\n",
    "\n",
    "print(result)"
   ]
  },
  {
   "cell_type": "markdown",
   "id": "9a4aff34",
   "metadata": {},
   "source": [
    "```{.output}\n",
    "38\n",
    "```"
   ]
  },
  {
   "cell_type": "markdown",
   "id": "61399370",
   "metadata": {},
   "source": [
    "## Remember\n",
    "Operator precedence in mathematical operations may be described as follows:\n",
    "\n",
    "1. Exponents and roots\n",
    "2. Multiplication and division\n",
    "3. Addition and subtraction\n",
    "\n",
    "If there are any parenthesis ```( )``` in the expression, the expression is evaluated from the innermost parenthesis outwards.\n"
   ]
  },
  {
   "cell_type": "markdown",
   "id": "7a2e663f",
   "metadata": {},
   "source": [
    "## Do it Yourself\n",
    "Display the result of each item in the following format:\n",
    "\n",
    "```\n",
    "EXPRESSION = RESULT\n",
    "```\n",
    "\n",
    "For example:\n",
    "\n",
    "```\n",
    "\t2 + 3 = 5\n",
    "```"
   ]
  },
  {
   "cell_type": "markdown",
   "id": "e0f1c68c",
   "metadata": {},
   "source": [
    "1. Calculate each expression *without* using parentheses:\n",
    "\n",
    "  a. $3 \\times \\frac{2}{4}$\n",
    "  b. $5 + 3 \\times \\frac{2}{4}$\n",
    "  c. $3 \\times \\frac{2}{4} + 5$\n",
    "  d. $\\frac{2}{4} \\times 3$\n"
   ]
  },
  {
   "cell_type": "markdown",
   "id": "efc77b50",
   "metadata": {},
   "source": [
    "2. Calculate these expressions *using* parentheses:\n",
    "\n",
    "  a. $5 + \\frac{2}{4} \\times 3$\n",
    "  b.  $5 + \\frac{2 \\times 3}{4}$\n",
    "  c. $5 + \\frac{2}{4 \\times 3}$"
   ]
  },
  {
   "cell_type": "markdown",
   "id": "3703a869",
   "metadata": {},
   "source": [
    "3.  Given\n",
    "\n",
    "```\n",
    "a = 2\n",
    "b = 5\n",
    "```\n",
    "\n",
    "use ```a``` and ```b``` to calculate the following expressions:\n",
    "  \n",
    "  a. $(a + b)^2$\n",
    "  b. $a^2 + 2ab + b^2$"
   ]
  },
  {
   "cell_type": "markdown",
   "id": "26a059f3",
   "metadata": {},
   "source": [
    "## Q1"
   ]
  },
  {
   "cell_type": "code",
   "execution_count": null,
   "id": "3aa1dc5e",
   "metadata": {},
   "outputs": [],
   "source": [
    "q1_a = 3 * 2 / 4\n",
    "print('3 * 2 / 4 =', q1_a)\n",
    "\t"
   ]
  },
  {
   "cell_type": "markdown",
   "id": "b9ef3059",
   "metadata": {},
   "source": [
    "```{.output}\n",
    "3 * 2 / 4 = 1.5\n",
    "```"
   ]
  },
  {
   "cell_type": "code",
   "execution_count": null,
   "id": "abf5480e",
   "metadata": {},
   "outputs": [],
   "source": [
    "q1_b = 5 + 3 * 2 / 4\n",
    "print('5 + 3 * 2 / 4 =', q1_b)\n",
    "\t"
   ]
  },
  {
   "cell_type": "markdown",
   "id": "fee65e3a",
   "metadata": {},
   "source": [
    "```{.output}\n",
    "5 + 3 * 2 / 4 = 6.5\n",
    "```"
   ]
  },
  {
   "cell_type": "code",
   "execution_count": null,
   "id": "c8a7f44a",
   "metadata": {},
   "outputs": [],
   "source": [
    "q1_c = 3 * 2 / 4 + 5\n",
    "print('3 * 2 / 4 + 5 =', q1_c)\n",
    "\t"
   ]
  },
  {
   "cell_type": "markdown",
   "id": "9a7422d7",
   "metadata": {},
   "source": [
    "```{.output}\n",
    "3 * 2 / 4 + 5 = 6.5\n",
    "```"
   ]
  },
  {
   "cell_type": "code",
   "execution_count": null,
   "id": "184535b9",
   "metadata": {},
   "outputs": [],
   "source": [
    "q1_d = 2 / 4 * 3\n",
    "print('2 / 4 * 3 =', q1_d)"
   ]
  },
  {
   "cell_type": "markdown",
   "id": "275333b0",
   "metadata": {},
   "source": [
    "```{.output}\n",
    "2 / 4 * 3 = 1.5\n",
    "```"
   ]
  },
  {
   "cell_type": "markdown",
   "id": "b081c560",
   "metadata": {},
   "source": [
    "## Q2\n"
   ]
  },
  {
   "cell_type": "code",
   "execution_count": null,
   "id": "ed3ec7b5",
   "metadata": {},
   "outputs": [],
   "source": [
    "q2_a = 5 + (2 / 4) * 3\n",
    "print('5 + (2 / 4) * 3 =', q2_a)\n",
    "\t"
   ]
  },
  {
   "cell_type": "markdown",
   "id": "fe097670",
   "metadata": {},
   "source": [
    "```{.output}\n",
    "5 + (2 / 4) * 3 = 6.5\n",
    "```"
   ]
  },
  {
   "cell_type": "code",
   "execution_count": null,
   "id": "f8baaf1f",
   "metadata": {},
   "outputs": [],
   "source": [
    "q2_b = 5 + (2 * 3) / 4\n",
    "print('5 + (2 * 3) / 4 =', q2_b)\n",
    "\t"
   ]
  },
  {
   "cell_type": "markdown",
   "id": "085530fd",
   "metadata": {},
   "source": [
    "```{.output}\n",
    "5 + (2 * 3) / 4 = 6.5\n",
    "```"
   ]
  },
  {
   "cell_type": "code",
   "execution_count": null,
   "id": "d77e3b52",
   "metadata": {},
   "outputs": [],
   "source": [
    "q2_c = 5 + 2 / (4 * 3)\n",
    "print('5 + 2 / (4 * 3) =', q2_c)"
   ]
  },
  {
   "cell_type": "markdown",
   "id": "c05059df",
   "metadata": {},
   "source": [
    "```{.output}\n",
    "5 + 2 / (4 * 3) = 5.166666666666667\n",
    "```\n"
   ]
  },
  {
   "cell_type": "markdown",
   "id": "ae3f8979",
   "metadata": {},
   "source": [
    "## Q3\n"
   ]
  },
  {
   "cell_type": "code",
   "execution_count": null,
   "id": "24ad943c",
   "metadata": {},
   "outputs": [],
   "source": [
    "a = 2\n",
    "b = 5\n",
    "\t\n",
    "q3_a = (a + b) ** 2\n",
    "print('(a + b)^2 =', q3_a)\n",
    "\t"
   ]
  },
  {
   "cell_type": "markdown",
   "id": "b6d9a0b5",
   "metadata": {},
   "source": [
    "```{.output}\n",
    "(a + b)^2 = 49\n",
    "```"
   ]
  },
  {
   "cell_type": "code",
   "execution_count": null,
   "id": "11a78641",
   "metadata": {},
   "outputs": [],
   "source": [
    "q3_b = a ** 2 + 2 * a * b + b ** 2\n",
    "print('a^2 + 2ab + b^2 =', q3_b)"
   ]
  },
  {
   "cell_type": "markdown",
   "id": "e172d4ea",
   "metadata": {},
   "source": [
    "```{.output}\n",
    "a^2 + 2ab + b^2 = 49\n",
    "```\n"
   ]
  },
  {
   "cell_type": "markdown",
   "id": "fd0aa04c",
   "metadata": {},
   "source": [
    "#### **Non-numeric values**\n",
    "It sometimes makes sense to apply *some* mathematical operations to non-numeric variables too.\n",
    "\n",
    "We can multiply strings to repeat them. There is no specific advantage to the use of multiplication instead of manually repeating characters or words, but it makes our code look cleaner, and that's always a good thing!\n",
    "\n",
    "We can also add string values to each other. This is called *string concatenation*. It is a useful method for concatenating a few strings and / or string variables.\n"
   ]
  },
  {
   "cell_type": "code",
   "execution_count": null,
   "id": "3d57f4ea",
   "metadata": {},
   "outputs": [],
   "source": [
    "SEPARATOR = '-' * 20\n",
    "NEW_LINE = '\\n'\n",
    "SPACE = ' '\n",
    "\n",
    "forename = 'Jane'\n",
    "surname = 'Doe'\n",
    "birthday = '01/01/1990'\n",
    "\n",
    "full_name = forename + SPACE + surname\n",
    "\n",
    "data = full_name + NEW_LINE + SEPARATOR + NEW_LINE + 'DoB: ' + birthday\n",
    "\n",
    "print(data)\n",
    "   "
   ]
  },
  {
   "cell_type": "markdown",
   "id": "0d5c4eed",
   "metadata": {},
   "source": [
    "```{.output}\n",
    "Jane Doe\n",
    "--------------------\n",
    "DoB: 01/01/1990\n",
    "```"
   ]
  },
  {
   "cell_type": "markdown",
   "id": "885912e5",
   "metadata": {},
   "source": [
    "## Remember\n",
    "New line character or ```'\\n'``` is a universal directive to induce a line-break in Unix based operating systems (MACOS) and Linux). In WINDOWS, we usually us ```'\\r'``` or ```'\\r\\n'``` instead. These are known as [escape sequences](), which we explore in additional details under [string operations](subsec:stringOperations) in chapter [Strings](ch:StringsAndFiles)\n"
   ]
  },
  {
   "cell_type": "markdown",
   "id": "6b5234f4",
   "metadata": {},
   "source": [
    "## Do it Yourself\n",
    "The risk of Huntington's disease appears to increase proportional to the continuous repetition of ```CAG``` nucleotides (glutamine codon) once they exceed 35 near the beginning of the Huntingtin (```IT15```) gene. The ```CAG``` repeats are also referred to as a polyglutamine or polyQ tract.\n",
    "\n",
    "```    \n",
    "glutamine_codon = 'CAG'\n",
    "```     \n",
    "\n",
    "1. Create a polynucleotide chain representing 36 glutamine codons. Store the result in a variable called ```polyq_codons```.\n",
    "\t\n",
    "Display the result as:\n",
    "\n",
    "```\n",
    "Polyglutamine codons with 36 repeats: XXXXXXXXX...\n",
    "```"
   ]
  },
  {
   "cell_type": "markdown",
   "id": "d4a5fc39",
   "metadata": {},
   "source": [
    "2. Use <kbd>len()</kbd> to work out the length of ```polyq_codons```, and store the result in a variable called ```polyq_codons_length```.\n",
    "\t\n",
    "Display the result in the following format:\n",
    "\n",
    "```\n",
    "Number of nucleotides in a polyglutamine with 36 repeats: XXX\n",
    "```"
   ]
  },
  {
   "cell_type": "markdown",
   "id": "0e085f34",
   "metadata": {},
   "source": [
    "3. Use <kbd>len()</kbd> to work out the length of ```glutamin_codon```, and store the result in variable ```amino_acids_per_codon```.\n",
    "\n",
    "4. Divide ```polyq_codons_length``` by ```amino_acids_per_codon``` to prove that the chain contains the codon for exactly 36 amino acids. Store the result in variable ```polyq_peptide_length```.\n",
    "\t\n",
    "Display the result in the following format:\n",
    "\n",
    "```\n",
    "Number of amino acids in a polyglutamine with 36 repeats: XXX\n",
    "```"
   ]
  },
  {
   "cell_type": "markdown",
   "id": "dab67125",
   "metadata": {},
   "source": [
    "5. Determine the types for the following variable:\n",
    "\n",
    "* amino_acids_per_codon\n",
    "* polyq_codons_length\n",
    "* polyq_peptide_length\n",
    "\n",
    "\tand display the result for each item in the following format:\n",
    "\n",
    "```\n",
    "Value: XXX - Type: <class 'XXXX'>\n",
    "```"
   ]
  },
  {
   "cell_type": "markdown",
   "id": "0b9efa9d",
   "metadata": {},
   "source": [
    "6. Are all the variables in task #5 of the same type? Why?\n",
    "\t\n",
    "7. Repeat from task #4, but this time use an alternative method of division as outlined in See Table [Routine mathematical operations in Python](#fig:nativeTypes)."
   ]
  },
  {
   "cell_type": "markdown",
   "id": "139ec60b",
   "metadata": {},
   "source": [
    "## Q1\n"
   ]
  },
  {
   "cell_type": "code",
   "execution_count": null,
   "id": "ec7810d4",
   "metadata": {},
   "outputs": [],
   "source": [
    "glutamine_codon = 'CAG'\n",
    "\t\n",
    "polyq_codons = glutamine_codon * 36\n",
    "\t\n",
    "print('Polyglutamine codons with 36 repeats:', polyq_codons)"
   ]
  },
  {
   "cell_type": "markdown",
   "id": "e1e1f1b6",
   "metadata": {},
   "source": [
    "```{.output}\n",
    "Polyglutamine codons with 36 repeats: CAGCAGCAGCAGCAGCAGCAGCAGCAGCAGCAGCAGCAGCAGCAGCAGCAGCAGCAGCAGCAGCAGCAGCAGCAGCAGCAGCAGCAGCAGCAGCAGCAGCAGCAGCAG\n",
    "```\n"
   ]
  },
  {
   "cell_type": "markdown",
   "id": "31b5d32d",
   "metadata": {},
   "source": [
    "## Q2\n"
   ]
  },
  {
   "cell_type": "code",
   "execution_count": null,
   "id": "38c5f7ed",
   "metadata": {},
   "outputs": [],
   "source": [
    "polyq_codons_length = len(polyq_codons)\n",
    "\t\n",
    "print('Number of nucleotides in a polyglutamine with 36 repeats:', polyq_codons_length)"
   ]
  },
  {
   "cell_type": "markdown",
   "id": "69925f9f",
   "metadata": {},
   "source": [
    "```{.output}\n",
    "Number of nucleotides in a polyglutamine with 36 repeats: 108\n",
    "```\n"
   ]
  },
  {
   "cell_type": "markdown",
   "id": "f027737a",
   "metadata": {},
   "source": [
    "## Q3\n"
   ]
  },
  {
   "cell_type": "code",
   "execution_count": null,
   "id": "70064bbd",
   "metadata": {
    "lines_to_next_cell": 2
   },
   "outputs": [],
   "source": [
    "amino_acids_per_codon = len(glutamine_codon)"
   ]
  },
  {
   "cell_type": "markdown",
   "id": "f131b789",
   "metadata": {},
   "source": [
    "## Q4\n"
   ]
  },
  {
   "cell_type": "code",
   "execution_count": null,
   "id": "85526bfa",
   "metadata": {},
   "outputs": [],
   "source": [
    "polyq_peptide_length = polyq_codons_length / amino_acids_per_codon\n",
    "\t\n",
    "print('Number of amino acids in a polyglutamine with 36 repeats:', polyq_peptide_length)\n",
    " "
   ]
  },
  {
   "cell_type": "markdown",
   "id": "f31bc1ca",
   "metadata": {},
   "source": [
    "```{.output}\n",
    "Number of amino acids in a polyglutamine with 36 repeats: 36.0\n",
    "```\n"
   ]
  },
  {
   "cell_type": "markdown",
   "id": "2b3bb5ba",
   "metadata": {},
   "source": [
    "## Q5\n"
   ]
  },
  {
   "cell_type": "code",
   "execution_count": null,
   "id": "91c6a7e3",
   "metadata": {},
   "outputs": [],
   "source": [
    "print('Value:', amino_acids_per_codon, '- Type:', type(amino_acids_per_codon))\n",
    "\t"
   ]
  },
  {
   "cell_type": "markdown",
   "id": "c380135a",
   "metadata": {},
   "source": [
    "```{.output}\n",
    "Value: 3 - Type: <class 'int'>\n",
    "```"
   ]
  },
  {
   "cell_type": "code",
   "execution_count": null,
   "id": "bc088316",
   "metadata": {},
   "outputs": [],
   "source": [
    "print('Value:', polyq_codons_length, '- Type:', type(polyq_codons_length))\n",
    "\t"
   ]
  },
  {
   "cell_type": "markdown",
   "id": "926c593e",
   "metadata": {},
   "source": [
    "```{.output}\n",
    "Value: 108 - Type: <class 'int'>\n",
    "```"
   ]
  },
  {
   "cell_type": "code",
   "execution_count": null,
   "id": "75962b54",
   "metadata": {},
   "outputs": [],
   "source": [
    "print('Value:', polyq_peptide_length, '- Type:', type(polyq_peptide_length))"
   ]
  },
  {
   "cell_type": "markdown",
   "id": "25201016",
   "metadata": {},
   "source": [
    "```{.output}\n",
    "Value: 36.0 - Type: <class 'float'>\n",
    "```"
   ]
  },
  {
   "cell_type": "markdown",
   "id": "c814c870",
   "metadata": {},
   "source": [
    "## Q6\n",
    "\n",
    "No, ```polyq_peptide_length``` is an instance of type ```float```. This is because we used the normal division (```/```) and not floor division (```//```}) to calculate its value. The result of normal division is always presented as a floating point number.\n"
   ]
  },
  {
   "cell_type": "markdown",
   "id": "8df2df59",
   "metadata": {},
   "source": [
    "## Q7\n"
   ]
  },
  {
   "cell_type": "code",
   "execution_count": null,
   "id": "37c5ca80",
   "metadata": {},
   "outputs": [],
   "source": [
    "polyq_peptide_length = polyq_codons_length // amino_acids_per_codon\n",
    "\t\n",
    "print('Number of amino acids in a polyglutamine with 36 repeats:', polyq_peptide_length)\n",
    "\t"
   ]
  },
  {
   "cell_type": "markdown",
   "id": "60b7e90d",
   "metadata": {},
   "source": [
    "```{.output}\n",
    "Number of amino acids in a polyglutamine with 36 repeats: 36\n",
    "```"
   ]
  },
  {
   "cell_type": "code",
   "execution_count": null,
   "id": "d1daac53",
   "metadata": {},
   "outputs": [],
   "source": [
    "print('Value:', amino_acids_per_codon, '- Type:', type(amino_acids_per_codon))\n",
    "\t"
   ]
  },
  {
   "cell_type": "markdown",
   "id": "e1624246",
   "metadata": {},
   "source": [
    "```{.output}\n",
    "Value: 3 - Type: <class 'int'>\n",
    "```"
   ]
  },
  {
   "cell_type": "code",
   "execution_count": null,
   "id": "8aa9e384",
   "metadata": {},
   "outputs": [],
   "source": [
    "print('Value:', polyq_codons_length, '- Type:', type(polyq_codons_length))\n",
    "\t"
   ]
  },
  {
   "cell_type": "markdown",
   "id": "4a94fc13",
   "metadata": {},
   "source": [
    "```{.output}\n",
    "Value: 108 - Type: <class 'int'>\n",
    "```"
   ]
  },
  {
   "cell_type": "code",
   "execution_count": null,
   "id": "483f7d1a",
   "metadata": {},
   "outputs": [],
   "source": [
    "print('Value:', polyq_peptide_length, '- Type:', type(polyq_peptide_length))"
   ]
  },
  {
   "cell_type": "markdown",
   "id": "78a4c215",
   "metadata": {},
   "source": [
    "```{.output}\n",
    "Value: 36 - Type: <class 'int'>\n",
    "```\n",
    "\n"
   ]
  },
  {
   "cell_type": "markdown",
   "id": "411b16ef",
   "metadata": {},
   "source": [
    "## Interesting Fact\n",
    "The Boolean data type is named after the English mathematician and logician George Boole (1815--1864)."
   ]
  },
  {
   "cell_type": "markdown",
   "id": "801de88a",
   "metadata": {},
   "source": [
    "### **Logical Operations** {#subsec:logicalOperatons}\n",
    "\n",
    "An operation may involve a comparison. The result of such operations is either ```True``` or ```False```. This is known as the *Boolean* or ```bool``` data type. In reality, however, computers record ```True``` and ```False``` as ```1``` and ```0``` respectively.\n",
    "\n",
    "Operations with Boolean results are referred to as *logical operations*. Testing the results of such operations is known as *truth value testing*.\n",
    "\n",
    "Given the two variables ```a``` and ```b``` as follows: \n",
    "\n",
    "```\n",
    "a = 17\n",
    "b = 5\n",
    "```\n",
    "\n",
    "Boolean operations may be defined as outlined in Table [Routine logical operations in Python.](#tab:routineOperations).\n",
    "\n",
    "![Routine logical operations in Python.](fig/routine_logical_operations.png){#tab:routineOperations}\n"
   ]
  },
  {
   "cell_type": "markdown",
   "id": "4fe95b3a",
   "metadata": {},
   "source": [
    "## Do it Yourself {#diy:equivalence}\n",
    "\n",
    "We know that in algebra, the first identity (square of a binomial) is:\n",
    "\t\n",
    "$$(a + b)^2 = a^2 + 2ab + b^2$$\n",
    "now given:\n",
    "\t\n",
    "```    \n",
    "a = 15\n",
    "b = 4\n",
    "```"
   ]
  },
  {
   "cell_type": "markdown",
   "id": "6e01df6c",
   "metadata": {},
   "source": [
    "1. Calculate\n",
    "\n",
    "$$y_1 = (a + b)^{2}$$\n",
    "$$y_2 = a^2 + 2ab + b^2$$\n",
    "\n",
    "Display the results in the following format:\n",
    "\n",
    "```\n",
    "y1 = XX\n",
    "y2 = XX\n",
    "```\n",
    "\t\t\n",
    "2. Determine whether or not ```y_1``` is indeed equal to ```y_2```. Store the result of your test in another variable called ```equivalence```. Display the results in the following format:\n",
    "\n",
    "```\n",
    "Where a = XX and b = XX: \n",
    "y1 is equal to y2: [True/False]\n",
    "```"
   ]
  },
  {
   "cell_type": "markdown",
   "id": "aebdf3e9",
   "metadata": {},
   "source": [
    "## Q1\n",
    "   "
   ]
  },
  {
   "cell_type": "code",
   "execution_count": null,
   "id": "29348fa8",
   "metadata": {},
   "outputs": [],
   "source": [
    "a = 15\n",
    "b = 4\n",
    "\t\t\n",
    "y_1 = (a + b) ** 2\n",
    "y_2 = a ** 2 + 2 * a * b + b ** 2 \n",
    "\t\t\n",
    "print('y1 =', y_1)"
   ]
  },
  {
   "cell_type": "markdown",
   "id": "c1199897",
   "metadata": {},
   "source": [
    "```{.output}\n",
    "y1 = 361\n",
    "```"
   ]
  },
  {
   "cell_type": "code",
   "execution_count": null,
   "id": "35f06727",
   "metadata": {},
   "outputs": [],
   "source": [
    "print('y2 =', y_2)"
   ]
  },
  {
   "cell_type": "markdown",
   "id": "2f945519",
   "metadata": {},
   "source": [
    "```{.output}\n",
    "y2 = 361\n",
    "```\n"
   ]
  },
  {
   "cell_type": "markdown",
   "id": "06d52332",
   "metadata": {},
   "source": [
    "## Q2\n"
   ]
  },
  {
   "cell_type": "code",
   "execution_count": null,
   "id": "07992138",
   "metadata": {},
   "outputs": [],
   "source": [
    "    \n",
    "equivalence = y_1 == y_2\n",
    "\t\t\n",
    "print('Where a =', a, ' and b=', b)"
   ]
  },
  {
   "cell_type": "markdown",
   "id": "580a7afd",
   "metadata": {},
   "source": [
    "```{.output}\n",
    "Where a = 15  and b= 4\n",
    "```"
   ]
  },
  {
   "cell_type": "code",
   "execution_count": null,
   "id": "e72a2c9d",
   "metadata": {},
   "outputs": [],
   "source": [
    "print('y1 is equal to y2:', equivalence)"
   ]
  },
  {
   "cell_type": "markdown",
   "id": "68249422",
   "metadata": {},
   "source": [
    "```{.output}\n",
    "y1 is equal to y2: True\n",
    "```"
   ]
  },
  {
   "cell_type": "markdown",
   "id": "87f02b00",
   "metadata": {},
   "source": [
    "#### **Negation** {#sec:logicalStatements:Negation}\n",
    "\n",
    "We can also use negation in logical operations. Negation in Python is implemented using <kbd>not</kbd>:\n",
    "\n",
    "![Negations in Python.](fig/Negation.png)"
   ]
  },
  {
   "cell_type": "markdown",
   "id": "c13bd1b5",
   "metadata": {},
   "source": [
    "## Do it Yourself\n",
    "\n",
    "Using the information from previous [Do it Yourself](#diy:equivalence):"
   ]
  },
  {
   "cell_type": "markdown",
   "id": "3bc24a8a",
   "metadata": {},
   "source": [
    "1. Without using <kbd>not</kbd>, determine whether or not ```y_1``` is *not equal* to ```y_2```. Display the result of your test and store it in another variable called ```inequivalent```.\n",
    "\n",
    "2. Negate ```inequivalent``` and display the result."
   ]
  },
  {
   "cell_type": "markdown",
   "id": "96f44cdb",
   "metadata": {},
   "source": [
    "## Q1\n"
   ]
  },
  {
   "cell_type": "code",
   "execution_count": null,
   "id": "840c552b",
   "metadata": {},
   "outputs": [],
   "source": [
    "inequivalent = y_1 != y_2\n",
    "\t\t\n",
    "print(inequivalent)"
   ]
  },
  {
   "cell_type": "markdown",
   "id": "7ff19287",
   "metadata": {},
   "source": [
    "```{.output}\n",
    "False\n",
    "```\n"
   ]
  },
  {
   "cell_type": "markdown",
   "id": "1fea360b",
   "metadata": {},
   "source": [
    "## Q2\n"
   ]
  },
  {
   "cell_type": "code",
   "execution_count": null,
   "id": "26d14ab7",
   "metadata": {},
   "outputs": [],
   "source": [
    "inequivalent_negated = not inequivalent\n",
    "\t\t\n",
    "print(inequivalent_negated)    \n",
    "\t"
   ]
  },
  {
   "cell_type": "markdown",
   "id": "445102f9",
   "metadata": {},
   "source": [
    "```{.output}\n",
    "True\n",
    "```\n"
   ]
  },
  {
   "cell_type": "markdown",
   "id": "0bbcd1dc",
   "metadata": {},
   "source": [
    "#### **Disjunctions and Conjunctions**\n",
    "\n",
    "Logical operations may be combined using conjunction with <kbd>and</kbd> and disjunction with <kbd>or</kbd> to create more complex logics:\n",
    "\n",
    "![Disjunctions and Conjunctions in Python.](fig/Disjunction.png)\n"
   ]
  },
  {
   "cell_type": "markdown",
   "id": "5220d3ce",
   "metadata": {},
   "source": [
    "## Do it Yourself\n",
    "\n",
    "Given \n",
    "\t \n",
    "```\n",
    "a = True\n",
    "b = False\n",
    "c = True\n",
    "```\n",
    "\t\n",
    "Evaluate the following statements:\n",
    "\t\n",
    "1. a == b\n",
    "2. a == c\n",
    "3. a ```or``` b\n",
    "4. a ```and``` b\n",
    "5. a ```or``` b ```and``` c\n",
    "6. (a ```or``` b) ```and``` c\n",
    "7. ```not``` a ```or``` (b ```and``` c)\n",
    "8. ```not``` a ```or``` ```not```(b ```and``` c)\n",
    "9. ```not``` a ```and``` ```not```(b ```and``` c)\n",
    "10. ```not``` a ```and``` ```not```(b ```or``` c)"
   ]
  },
  {
   "cell_type": "markdown",
   "id": "083cea5e",
   "metadata": {},
   "source": [
    "Display the results in the following format:\n",
    "\n",
    "```\n",
    "1. [True/False]\n",
    "2. [True/False]\n",
    "\t\t...\n",
    "```\n",
    "\n",
    "Given that: \n",
    "```   \n",
    "a = True\n",
    "b = False\n",
    "c = True\n",
    "```\n",
    "\n",
    "## Q1\n"
   ]
  },
  {
   "cell_type": "code",
   "execution_count": null,
   "id": "fb824340",
   "metadata": {},
   "outputs": [],
   "source": [
    "print('1.', a == b)"
   ]
  },
  {
   "cell_type": "markdown",
   "id": "1ed7465b",
   "metadata": {},
   "source": [
    "```{.output}\n",
    "1. False\n",
    "```\n",
    "\n",
    "## Q2\n"
   ]
  },
  {
   "cell_type": "code",
   "execution_count": null,
   "id": "59cba55c",
   "metadata": {},
   "outputs": [],
   "source": [
    "print('2.', a == c)"
   ]
  },
  {
   "cell_type": "markdown",
   "id": "86f938e7",
   "metadata": {},
   "source": [
    "```{.output}\n",
    "2. False\n",
    "```"
   ]
  },
  {
   "cell_type": "markdown",
   "id": "7bc844f3",
   "metadata": {},
   "source": [
    "## Q3\n"
   ]
  },
  {
   "cell_type": "code",
   "execution_count": null,
   "id": "ee35ae19",
   "metadata": {},
   "outputs": [],
   "source": [
    "print('3.', a or b)"
   ]
  },
  {
   "cell_type": "markdown",
   "id": "58d829bb",
   "metadata": {},
   "source": [
    "```{.output}\n",
    "3. 15\n",
    "```"
   ]
  },
  {
   "cell_type": "markdown",
   "id": "3cae83c4",
   "metadata": {},
   "source": [
    "## Q4\n"
   ]
  },
  {
   "cell_type": "code",
   "execution_count": null,
   "id": "e4a25282",
   "metadata": {},
   "outputs": [],
   "source": [
    "print('4.', a and b)"
   ]
  },
  {
   "cell_type": "markdown",
   "id": "f142a795",
   "metadata": {},
   "source": [
    "```{.output}\n",
    "4. 4\n",
    "```\n",
    "\n",
    "## Q5\n"
   ]
  },
  {
   "cell_type": "code",
   "execution_count": null,
   "id": "2f79dc16",
   "metadata": {},
   "outputs": [],
   "source": [
    "print('5.', a or b and c)"
   ]
  },
  {
   "cell_type": "markdown",
   "id": "4c2f8ffc",
   "metadata": {},
   "source": [
    "```{.output}\n",
    "5. 15\n",
    "```\n",
    "\n",
    "## Q6\n"
   ]
  },
  {
   "cell_type": "code",
   "execution_count": null,
   "id": "40350693",
   "metadata": {},
   "outputs": [],
   "source": [
    "print('6.', (a or b) and c)"
   ]
  },
  {
   "cell_type": "markdown",
   "id": "134ce6c3",
   "metadata": {},
   "source": [
    "```{.output}\n",
    "6. 18.84956\n",
    "```\n",
    "\n",
    "## Q7\n"
   ]
  },
  {
   "cell_type": "code",
   "execution_count": null,
   "id": "13da9b3a",
   "metadata": {},
   "outputs": [],
   "source": [
    "print('7.', not a or (b and c))"
   ]
  },
  {
   "cell_type": "markdown",
   "id": "506a5afc",
   "metadata": {},
   "source": [
    "```{.output}\n",
    "7. 18.84956\n",
    "```\n",
    "\n",
    "## Q8\n"
   ]
  },
  {
   "cell_type": "code",
   "execution_count": null,
   "id": "b5d38dbe",
   "metadata": {},
   "outputs": [],
   "source": [
    "print('8.', not a or not(b and c))"
   ]
  },
  {
   "cell_type": "markdown",
   "id": "63943418",
   "metadata": {},
   "source": [
    "```{.output}\n",
    "8. False\n",
    "```"
   ]
  },
  {
   "cell_type": "markdown",
   "id": "bd2375ef",
   "metadata": {},
   "source": [
    "## Q9\n"
   ]
  },
  {
   "cell_type": "code",
   "execution_count": null,
   "id": "e28b68b2",
   "metadata": {},
   "outputs": [],
   "source": [
    "print('9.', not a and not(b and c))"
   ]
  },
  {
   "cell_type": "markdown",
   "id": "5a7d25ba",
   "metadata": {},
   "source": [
    "```{.output}\n",
    "9. False\n",
    "```\n",
    "\n",
    "## Q10\n"
   ]
  },
  {
   "cell_type": "code",
   "execution_count": null,
   "id": "4ec2bc85",
   "metadata": {},
   "outputs": [],
   "source": [
    "print('10.', not a and not(b or c))"
   ]
  },
  {
   "cell_type": "markdown",
   "id": "f9422a0a",
   "metadata": {},
   "source": [
    "```{.output}\n",
    "10. False\n",
    "```"
   ]
  },
  {
   "cell_type": "markdown",
   "id": "2818e033",
   "metadata": {},
   "source": [
    "#### **Complex logical operations**\n",
    "\n",
    "It may help to break down more complex operations, or use parenthesis to make them easier to both read and write:\n",
    "\n",
    "![Complex Logical Operations in Python.](fig/Complex_Logical_Operations.png)\n",
    "\n",
    "Notice that in the last example, all notations are essentially the same and only vary in terms of their collective results as defined using parenthesis. Always remember that in a logical statement:"
   ]
  },
  {
   "cell_type": "markdown",
   "id": "f7803cda",
   "metadata": {},
   "source": [
    "## Logical statement\n",
    "\n",
    "- [x] The statement in parenthesis does **not** have precedence over the rest of the state (unlike mathematical statements). It merely defines an independent part of the operation whose response is evaluated separately. \n",
    "\n",
    "- [x] The precedence is established on a first come, first serve basis (from left to right).\n",
    "\n",
    "- [x] Always use parenthesis in longer statements for clarification.\n",
    "\n",
    "- [x] In disjunctive statements ---i.e. a > 5 ```or``` b > 5, if the first part is ```True```, the second part is *not* checked. In other words, if a is greater than 5, the computer does not proceed to check whether or not b is greater than 5. \n",
    "\n",
    "- [x] In conjunctive statements ---i.e. a > 5 ```and``` b > 5, the statement proceeds to the seconds part if and only if the first part is ```True```. In other words, the result of a conjunctive statement is only ```True``` if and only if both a and b are greater than 5. If a is ```False```, the entire statement will inevitably be ```False```.\n",
    "\n",
    "- [x] The longer the statement, the more difficult it would be to understand it properly, and by extension, the more likely it would be to cause problems. \n"
   ]
  },
  {
   "cell_type": "code",
   "execution_count": null,
   "id": "b68ac2d9",
   "metadata": {
    "lines_to_next_cell": 2
   },
   "outputs": [],
   "source": [
    "a, b, c = 17, 5, 2  # Alternative method to define variables."
   ]
  },
  {
   "cell_type": "code",
   "execution_count": null,
   "id": "0a06fa5f",
   "metadata": {},
   "outputs": [],
   "source": [
    "# Disjunction: false OR true.\n",
    "a < b or b > c  "
   ]
  },
  {
   "cell_type": "markdown",
   "id": "5bcd65df",
   "metadata": {},
   "source": [
    "```{.output}\n",
    "True\n",
    "```\n",
    "\n"
   ]
  },
  {
   "cell_type": "code",
   "execution_count": null,
   "id": "a8c138c9",
   "metadata": {},
   "outputs": [],
   "source": [
    "# Disjunction: true OR true.\n",
    "a > b or b > c  "
   ]
  },
  {
   "cell_type": "markdown",
   "id": "4cf0bdae",
   "metadata": {},
   "source": [
    "```{.output}\n",
    "True\n",
    "```\n",
    "\n"
   ]
  },
  {
   "cell_type": "code",
   "execution_count": null,
   "id": "43fddc4a",
   "metadata": {},
   "outputs": [],
   "source": [
    "# Conjunction: true AND true.\n",
    "a > b and b > c  "
   ]
  },
  {
   "cell_type": "markdown",
   "id": "9403bb96",
   "metadata": {},
   "source": [
    "```{.output}\n",
    "True\n",
    "```\n",
    "\n"
   ]
  },
  {
   "cell_type": "code",
   "execution_count": null,
   "id": "4beabeb5",
   "metadata": {},
   "outputs": [],
   "source": [
    "# Conjunction: false and true.\n",
    "a < b and b > c  "
   ]
  },
  {
   "cell_type": "markdown",
   "id": "d5956fa4",
   "metadata": {},
   "source": [
    "```{.output}\n",
    "False\n",
    "```\n"
   ]
  },
  {
   "cell_type": "code",
   "execution_count": null,
   "id": "a263de66",
   "metadata": {},
   "outputs": [],
   "source": [
    "# Disjunction and conjunction: true OR false AND true\n",
    "a > b or b < c and b < a"
   ]
  },
  {
   "cell_type": "markdown",
   "id": "4399ffac",
   "metadata": {},
   "source": [
    "```{.output}\n",
    "True\n",
    "```\n"
   ]
  },
  {
   "cell_type": "code",
   "execution_count": null,
   "id": "5efa8beb",
   "metadata": {},
   "outputs": [],
   "source": [
    "# Disjunction and conjunction: false OR true AND false\n",
    "a < b or b > c and b > a"
   ]
  },
  {
   "cell_type": "markdown",
   "id": "35e17c6f",
   "metadata": {},
   "source": [
    "```{.output}\n",
    "False\n",
    "```\n",
    "\n"
   ]
  },
  {
   "cell_type": "code",
   "execution_count": null,
   "id": "f2b2f147",
   "metadata": {},
   "outputs": [],
   "source": [
    "# Disjunctions and conjunction: false OR true AND true\n",
    "a < b or b > c and b < a"
   ]
  },
  {
   "cell_type": "markdown",
   "id": "362412f9",
   "metadata": {},
   "source": [
    "```{.output}\n",
    "True\n",
    "```\n"
   ]
  },
  {
   "cell_type": "code",
   "execution_count": null,
   "id": "4ccfe7c1",
   "metadata": {},
   "outputs": [],
   "source": [
    "# Disjunction and negated conjunction and conjunction: \n",
    "# true AND NOT false AND false\n",
    "a < b or not b < c and b > a"
   ]
  },
  {
   "cell_type": "markdown",
   "id": "3c0c364c",
   "metadata": {},
   "source": [
    "```{.output}\n",
    "False\n",
    "```\n",
    "\n"
   ]
  },
  {
   "cell_type": "code",
   "execution_count": null,
   "id": "4009689d",
   "metadata": {},
   "outputs": [],
   "source": [
    "# Disjunction and negated conjunction - similar to the \n",
    "# previous example: true AND NOT (false AND false)\n",
    "a < b or not (b < c and b > a)"
   ]
  },
  {
   "cell_type": "markdown",
   "id": "73064a7e",
   "metadata": {},
   "source": [
    "```{.output}\n",
    "True\n",
    "```"
   ]
  },
  {
   "cell_type": "markdown",
   "id": "70eb6cd5",
   "metadata": {},
   "source": [
    "These are only a few examples. There are endless possibilities, try them yourself and see how they work."
   ]
  },
  {
   "cell_type": "markdown",
   "id": "3d74d5db",
   "metadata": {},
   "source": [
    "## Remember\n",
    "\n",
    "Some logical operations may be written in different ways. However, we should always use the notation that is most coherent in the context of our code. If in doubt, use the simplest / shortest notation."
   ]
  },
  {
   "cell_type": "markdown",
   "id": "4be2a997",
   "metadata": {},
   "source": [
    "To that end, you may want to use variables to split complex statements down to smaller portions:\n"
   ]
  },
  {
   "cell_type": "code",
   "execution_count": null,
   "id": "04c32117",
   "metadata": {},
   "outputs": [],
   "source": [
    "age_a, age_b = 15, 35\n",
    "\t\n",
    "are_positive = age_a > 0 and age_b > 0\n",
    "\t\n",
    "a_is_older = are_positive and (age_a > age_b)\n",
    "b_is_older = are_positive and (age_a < age_b)\n",
    "\t\n",
    "a_is_teenager = are_positive and 12 < age_a < 20\n",
    "b_is_teenager = are_positive and 12 < age_b < 20\n",
    "\t\n",
    "a_is_teenager and b_is_older"
   ]
  },
  {
   "cell_type": "markdown",
   "id": "0d7aca79",
   "metadata": {},
   "source": [
    "```{.output}\n",
    "True\n",
    "```\n"
   ]
  },
  {
   "cell_type": "code",
   "execution_count": null,
   "id": "d971f040",
   "metadata": {},
   "outputs": [],
   "source": [
    "a_is_teenager and a_is_older"
   ]
  },
  {
   "cell_type": "markdown",
   "id": "ec6b20ee",
   "metadata": {},
   "source": [
    "```{.output}\n",
    "False\n",
    "```\n"
   ]
  },
  {
   "cell_type": "code",
   "execution_count": null,
   "id": "6445858d",
   "metadata": {},
   "outputs": [],
   "source": [
    "a_is_teenager and (b_is_teenager or b_is_older)"
   ]
  },
  {
   "cell_type": "markdown",
   "id": "c125ecaf",
   "metadata": {},
   "source": [
    "```{.output}\n",
    "True\n",
    "```"
   ]
  },
  {
   "cell_type": "markdown",
   "id": "cdfa0420",
   "metadata": {},
   "source": [
    "## Do it Yourself\n",
    "\n",
    "Given\n",
    "```\n",
    "a = 3\n",
    "b = 13\n",
    "```\n",
    "\n",
    "Test the following statements and display the results:\n",
    "\t\n",
    "* $a^2 < b$\n",
    "* $3 - a^3 < b$\n",
    "* $|25 - a^2| > b$\n",
    "* $25 \\bmod a^2 > b$\n",
    "* $25 \\bmod a^2 > b$ or $25 \\bmod b < a$\n",
    "* $25 \\bmod a^2 < b$ and $25 \\bmod b > a$\n",
    "* $\\frac{12}{a}$ and $a\\times4 < b$"
   ]
  },
  {
   "cell_type": "markdown",
   "id": "bdcf0e00",
   "metadata": {},
   "source": [
    "where \"|...|\" represents the absolute value, and \"$n \\bmod m$\" represents the remainder for the division of~$n$ by $m$.} \n",
    "\t\n",
    "Display the results in the following format:\n",
    "```\n",
    "1. [True/False]\n",
    "2. [True/False]\n",
    "...\n",
    "```\n",
    "\n",
    "Given that: \n",
    "```   \n",
    "a = 3\n",
    "b = 13\n",
    "```"
   ]
  },
  {
   "cell_type": "markdown",
   "id": "8c861073",
   "metadata": {},
   "source": [
    "## Q1\n"
   ]
  },
  {
   "cell_type": "code",
   "execution_count": null,
   "id": "d046a33d",
   "metadata": {},
   "outputs": [],
   "source": [
    "print('1.', a**2 < b)"
   ]
  },
  {
   "cell_type": "markdown",
   "id": "7876c925",
   "metadata": {},
   "source": [
    "```{.output}\n",
    "1. False\n",
    "```\n"
   ]
  },
  {
   "cell_type": "markdown",
   "id": "a74ea6b5",
   "metadata": {},
   "source": [
    "## Q2\n"
   ]
  },
  {
   "cell_type": "code",
   "execution_count": null,
   "id": "4d1d7deb",
   "metadata": {},
   "outputs": [],
   "source": [
    "print('2.', (3 - a**3) < b)"
   ]
  },
  {
   "cell_type": "markdown",
   "id": "ffd985e2",
   "metadata": {},
   "source": [
    "```{.output}\n",
    "2. True\n",
    "```\n"
   ]
  },
  {
   "cell_type": "markdown",
   "id": "87d668de",
   "metadata": {},
   "source": [
    "## Q3\n"
   ]
  },
  {
   "cell_type": "code",
   "execution_count": null,
   "id": "83e12724",
   "metadata": {},
   "outputs": [],
   "source": [
    "print('3.', abs(25 - a**2) > b)"
   ]
  },
  {
   "cell_type": "markdown",
   "id": "72a82390",
   "metadata": {},
   "source": [
    "```{.output}\n",
    "3. True\n",
    "```"
   ]
  },
  {
   "cell_type": "markdown",
   "id": "0cd11c8b",
   "metadata": {},
   "source": [
    "## Q4\n"
   ]
  },
  {
   "cell_type": "code",
   "execution_count": null,
   "id": "765393cd",
   "metadata": {},
   "outputs": [],
   "source": [
    "print('4.', (25 % a**2) > b)"
   ]
  },
  {
   "cell_type": "markdown",
   "id": "16dda27b",
   "metadata": {},
   "source": [
    "```{.output}\n",
    "4. True\n",
    "```\n",
    "\t"
   ]
  },
  {
   "cell_type": "markdown",
   "id": "4efdb0ec",
   "metadata": {},
   "source": [
    "## Q5\n"
   ]
  },
  {
   "cell_type": "code",
   "execution_count": null,
   "id": "fa5e845b",
   "metadata": {},
   "outputs": [],
   "source": [
    "print('5.', (25 % a**2) > b or (25 % b) < a)"
   ]
  },
  {
   "cell_type": "markdown",
   "id": "a5145270",
   "metadata": {},
   "source": [
    "```{.output}\n",
    "5. True\n",
    "```"
   ]
  },
  {
   "cell_type": "markdown",
   "id": "3b509341",
   "metadata": {},
   "source": [
    "## Q6\n"
   ]
  },
  {
   "cell_type": "code",
   "execution_count": null,
   "id": "1f661031",
   "metadata": {},
   "outputs": [],
   "source": [
    "print('6.', (25 % a**2) < b and (25 % b) > a)"
   ]
  },
  {
   "cell_type": "markdown",
   "id": "9bc90071",
   "metadata": {},
   "source": [
    "```{.output}\n",
    "6. False\n",
    "```\n",
    "\t"
   ]
  },
  {
   "cell_type": "markdown",
   "id": "64ddd7e6",
   "metadata": {},
   "source": [
    "## Q7\n"
   ]
  },
  {
   "cell_type": "code",
   "execution_count": null,
   "id": "6879ca00",
   "metadata": {},
   "outputs": [],
   "source": [
    "print('7.', (12 / a) and (a * 4) < b)"
   ]
  },
  {
   "cell_type": "markdown",
   "id": "923bfe52",
   "metadata": {},
   "source": [
    "```{.output}\n",
    "7. False\n",
    "```\n"
   ]
  },
  {
   "cell_type": "markdown",
   "id": "dd674f5a",
   "metadata": {},
   "source": [
    "## Exercises"
   ]
  },
  {
   "cell_type": "markdown",
   "id": "cc49522f",
   "metadata": {},
   "source": [
    "## End of chapter **Exercises**\n",
    "\n",
    "- [x] Write and execute a Python script to display your own name as an output in the terminal.\n",
    "- [x] Write and execute a Python script that:\n",
    "  * Displays the text ```Please press enter to continue...```, and waits for the user to press enter.\n",
    "  * Once the user pressed enter, the program should display ```Welcome to my programme!``` before it terminates.\n",
    "- [x] We have an enzyme whose reaction velocity is $v=50~mol \\cdot L^{-1} \\cdot s^{-1}$ at the substrate concentration of $[S] = K_{m} = 2.5~mol \\cdot L^{-1}$. Work out the maximum reaction velocity or $V_{\\max}$ for this enzyme using the Michaelis-Menten equation:\n",
    "\t\t"
   ]
  },
  {
   "cell_type": "markdown",
   "id": "33a4a5ed",
   "metadata": {},
   "source": [
    "\t\t$$v = \\frac{V_{\\max} [\\textrm{S}]}{K_{m} + [\\textrm{S}]}$$   \n"
   ]
  },
  {
   "cell_type": "markdown",
   "id": "eed6faa2",
   "metadata": {},
   "source": [
    "- Two key functions for I/O operations are <kbd>print()</kbd> and <kbd>input()</kbd>\n",
    "- Three most commonly used variables such as ```int```, ```float```, and ```str```.\n",
    "- Variable scope can be local or global depending where they are being used.\n",
    "- Mathematical operations follow conventional rules of precedence\n",
    "- Logical operations provide results in Boolean (True or False)\n",
    "\n",
    "[r-markdown]: https://rmarkdown.rstudio.com/"
   ]
  }
 ],
 "metadata": {
  "jupytext": {
   "cell_metadata_filter": "-all",
   "main_language": "python",
   "notebook_metadata_filter": "-all"
  }
 },
 "nbformat": 4,
 "nbformat_minor": 5
}
