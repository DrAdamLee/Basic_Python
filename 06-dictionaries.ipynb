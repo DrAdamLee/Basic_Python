{
 "cells": [
  {
   "cell_type": "raw",
   "id": "ddf28580",
   "metadata": {},
   "source": [
    "---\n",
    "title: \"Dictionaries\"\n",
    "output: html_document\n",
    "date: '2022-05-11'\n",
    "---"
   ]
  },
  {
   "cell_type": "markdown",
   "id": "ce9d791f",
   "metadata": {},
   "source": [
    "[**Download Chapter notebook (ipynb)**](06-dictionaries.ipynb)\n",
    "\n",
    "[<span style=\"color: rgb(255, 0, 0);\">**Mandatory Lesson Feedback Survey**</span>](https://docs.google.com/forms/d/e/1FAIpQLSdr0capF7jloJhPH3Pki1B3LZoKOG16poOpuVJ7SL2LkwLHQA/viewform?pli=1)\n",
    "\n",
    ":::::::::::::::::::::::::::::::::::::: questions\n",
    "\n",
    "- How is a dictionary defined in Python?\n",
    "- What are the ways to interact with a dictionary?\n",
    "- Can a dictionary be nested?\n",
    "\n",
    "::::::::::::::::::::::::::::::::::::::::::::::::\n"
   ]
  },
  {
   "cell_type": "markdown",
   "id": "bdea7f36",
   "metadata": {},
   "source": [
    "::::::::::::::::::::::::::::::::::::: objectives\n",
    "\n",
    "- Understanding the structure of a dictionary.\n",
    "- Accessing data from a dictionary.\n",
    "- Practising nested dictionaries to deal with complex data.\n",
    "::::::::::::::::::::::::::::::::::::::::::::::::"
   ]
  },
  {
   "cell_type": "markdown",
   "id": "f8fd3ce4",
   "metadata": {},
   "source": [
    "This chapter assumes that you are familiar with the following concepts in Python 3:\n",
    "\n",
    ":::::::::::::::::: prereq\n",
    "- [Indentation Rule](03-conditional_statements.Rmd#subsubsec:indentationRule)\n",
    "- [Conditional Statements](03-conditional_statements.Rmd)\n",
    "- [Arrays](04-arrays.Rmd)\n",
    "- [Loops and Iterations](05-iterations.Rmd)\n",
    "\n",
    "::::::::::::::::::\n",
    "\n",
    "## Dictionary {#sec:dict}\n",
    "\n",
    "[**Mapping Types -- ```dict```**](https://docs.python.org/3.6/library/stdtypes.html\\#mapping-types-dict)\n",
    "\n",
    "[**Google search**](https://www.google.co.uk/search?q=Dictionaries%20in%20Python%203)\n",
    "\n",
    "[**StackOverflow python-3.x dictionaries**](https://stackoverflow.com/search?q=python-3.x%20dictionaries&s=78ef2a31-bb79-485b-914d-02db1ab8e9ca)\n",
    "\n",
    "[**YouTube Tutorial Dictionaries**](https://www.youtube.com/results?search_query=Python+3+Programming+Tutorial+-+Dictionaries)"
   ]
  },
  {
   "cell_type": "markdown",
   "id": "e3c80313",
   "metadata": {},
   "source": [
    "One of the most useful built-in tools in Python, dictionaries associate a set of *values* with a number of *keys*.\n",
    "\n",
    "Think of an old fashion, paperback dictionary where we have a range of words with their definitions. The words are the *keys*, and the definitions are the *values* that are associated with the keys. A Python dictionary works in the same way."
   ]
  },
  {
   "cell_type": "markdown",
   "id": "6a1a5b4d",
   "metadata": {},
   "source": [
    "Consider the following scenario:"
   ]
  },
  {
   "cell_type": "markdown",
   "id": "59b3c38d",
   "metadata": {},
   "source": [
    ">Suppose we have a number of protein kinases, and we would like to associate them with their descriptions for future reference."
   ]
  },
  {
   "cell_type": "markdown",
   "id": "66220a1a",
   "metadata": {},
   "source": [
    "This is an example of association in arrays. We may visualise this problem as displayed in [Figure](#assArr).\n",
    "\n",
    "![Illustrative diagram of associative arrays, showing the sets of *keys* and their association with some of the values.](fig/associative_arrays.png){#assArr}\n",
    "One way to associate the proteins with their definitions would be to use nested arrays. However, it would make it difficult to retrieve the values at a later time. This is because to retrieve the values, we would need to know the index at which a given protein is stored.\n",
    "\n",
    "Instead of using normal arrays, in such circumstances, we use *associative arrays*. The most popular method to create construct an associative array in Python is to create dictionaries or ```dict```.\n",
    "\n",
    ":::::::::::::::::::::::::::::::::::: callout\n",
    "## Remember\n",
    "\n",
    "To implement a ```dict``` in Python, we place our entries in curly bracket, separated using a comma. We separate *keys* and *values* using a colon --- e.g.  {<span style=\"color: rgb(32, 121, 77);\">'key'</span>: <span style=\"color: rgb(32, 121, 77);\">'value'</span>}. The combination of dictionary *key* and its associating *value* is known as a dictionary *item*.\n",
    "\n",
    "::::::::::::::::::::::::::::::::::::\n",
    "\n",
    ":::::::::::::::::::::::::::::::::::: callout\n",
    "## Note\n",
    "When constructing a long ```dict``` with several *items* that span over several lines, it is not necessary to write one *item* per line or use indentations for each *item* or line. All we must is to write the \\emph{items} as {<span style=\"color: rgb(32, 121, 77);\">'key'</span>: <span style=\"color: rgb(32, 121, 77);\">'value'</span>} in curly brackets and separate each pair with a comma. However, it is good practice to write one *item* per line and use indentations as it makes it considerably easier to read the code and understand the hierarchy.\n",
    "\n",
    "::::::::::::::::::::::::::::::::::::"
   ]
  },
  {
   "cell_type": "markdown",
   "id": "bc7fca75",
   "metadata": {},
   "source": [
    "We can therefore implement the diagram displayed in [Figure](#assArr) in Python as follows:"
   ]
  },
  {
   "cell_type": "code",
   "execution_count": null,
   "id": "fc2eb409",
   "metadata": {
    "lines_to_next_cell": 2
   },
   "outputs": [],
   "source": [
    "protein_kinases = {\n",
    "  'PKA': 'Involved in regulation of glycogen, sugar, and lipid metabolism.',\n",
    "  'PKC': 'Regulates signal transduction pathways such as the Wnt pathway.',\n",
    "  'CK1': 'Controls the function of other proteins through phosphorylation.'\n",
    "  }\n",
    "\n",
    "print(protein_kinases)\n",
    "\n",
    "print(type(protein_kinases))"
   ]
  },
  {
   "cell_type": "markdown",
   "id": "9585dc0e",
   "metadata": {},
   "source": [
    ":::::::::::::::::::::::::::::: challenge\n",
    "\n",
    "## Do it Yourself\n",
    "Use [Universal Protein Resource](https://uniprot.org/) (UniProt) to find the following proteins for humans:\n",
    "  - Axin-1\n",
    "\t- Rhodopsin\n",
    "\n",
    "Construct a dictionary for these proteins and the number amino acids for each of them. The *keys* should represent the name of the protein. Display the result.\n",
    "\n",
    "::::::::::::::::: solution\n",
    "\n",
    "## DIY ANSWER {#diy:firstDictExample}"
   ]
  },
  {
   "cell_type": "code",
   "execution_count": null,
   "id": "8c24d6e1",
   "metadata": {},
   "outputs": [],
   "source": [
    "proteins = {\n",
    "  'Axin-1': 862,\n",
    "  'Rhodopsin': 348\n",
    "  }\n",
    "\n",
    "print(proteins)"
   ]
  },
  {
   "cell_type": "markdown",
   "id": "4a21c7fd",
   "metadata": {},
   "source": [
    ":::::::::::::::::\n",
    "\n",
    ":::::::::::::::::::::::::::::::\n",
    "\n",
    "Now that we have created a dictionary; we can test whether or not a specific *key* exists our dictionary:\n",
    "\n",
    "\n",
    "\n"
   ]
  },
  {
   "cell_type": "code",
   "execution_count": null,
   "id": "5d5983c7",
   "metadata": {},
   "outputs": [],
   "source": [
    "'CK1' in protein_kinases"
   ]
  },
  {
   "cell_type": "code",
   "execution_count": null,
   "id": "f3e42935",
   "metadata": {},
   "outputs": [],
   "source": [
    "'GSK3' in protein_kinases"
   ]
  },
  {
   "cell_type": "markdown",
   "id": "f6086b9c",
   "metadata": {},
   "source": [
    ":::::::::::::::::::::::::::::: challenge\n",
    "\n",
    "## Do it Yourself\n",
    "\n",
    "Using the dictionary you created in [Do it Yourself](#diy:firstDictExample), test to see whether or not a protein called **ERK** exists as a *key* in your dictionary? Display the result as a Boolean value."
   ]
  },
  {
   "cell_type": "markdown",
   "id": "a40523fd",
   "metadata": {
    "lines_to_next_cell": 0
   },
   "source": [
    "::::::::::::::::: solution\n",
    "\n",
    "## DIY ANSWER"
   ]
  },
  {
   "cell_type": "code",
   "execution_count": null,
   "id": "1e3f2b34",
   "metadata": {},
   "outputs": [],
   "source": [
    "print('ERK' in proteins)"
   ]
  },
  {
   "cell_type": "markdown",
   "id": "cf1e228e",
   "metadata": {},
   "source": [
    ":::::::::::::::::\n",
    "\n",
    ":::::::::::::::::::::::::::::::\n",
    "\n",
    "### **Interacting with a dictionary** {#subsec:dict:InteractingWithDicts}\n",
    "We have already learnt that in programming, the more explicit our code, the better it is. Interacting with dictionaries in Python is very easy, coherent, and explicit. This makes them a powerful tool that we can exploit for different purposes.\n",
    "\n",
    "In arrays, specifically in ```list``` and ```tuple```, we routinely use [indexing](#sec:list:indexing) techniques to retrieve *values*. In dictionaries, however, we use *keys* to do that. Because we can define the *keys* of a dictionary ourselves, we no longer have to rely exclusively on numeric indices.\n",
    "\n",
    "As a result, we can retrieve the *values* of a dictionary using their respective *keys* as follows:"
   ]
  },
  {
   "cell_type": "code",
   "execution_count": null,
   "id": "0cea39b6",
   "metadata": {},
   "outputs": [],
   "source": [
    "print(protein_kinases['CK1'])"
   ]
  },
  {
   "cell_type": "markdown",
   "id": "3018e50d",
   "metadata": {},
   "source": [
    "However, if we attempt to retrieve the *value* for a *key* that does not exist in our ```dict```, a ```KeyError``` will be raised:"
   ]
  },
  {
   "cell_type": "code",
   "execution_count": null,
   "id": "c94264b6",
   "metadata": {},
   "outputs": [],
   "source": [
    "'GSK3' in protein_kinases\n",
    "\n",
    "print(protein_kinases['GSK3'])"
   ]
  },
  {
   "cell_type": "markdown",
   "id": "203403f8",
   "metadata": {
    "lines_to_next_cell": 0
   },
   "source": [
    ":::::::::::::::::::::::::::::: challenge\n",
    "\n",
    "## Do it Yourself {#diy:dict:implement:fromTable}\n",
    "\n",
    "Implement a ```dict``` to represent the following set of information:\n",
    "\n",
    "**Cystic Fibrosis:**\n",
    "\n",
    "| **Full Name** | **Gene** | **Type**  |\n",
    "|:---------------------------:|:---:|:---:|\n",
    "| Cystic fibrosis transmembrane conductance regulator | CFTR | Membrane Protein |\n",
    "\n",
    "Using the dictionary you implemented, retrieve and display the *gene* associated with cystic fibrosis.\n",
    "\n",
    "::::::::::::::::: solution\n",
    "\n",
    "## DIY ANSWER"
   ]
  },
  {
   "cell_type": "code",
   "execution_count": null,
   "id": "c20b409a",
   "metadata": {
    "lines_to_next_cell": 0
   },
   "outputs": [],
   "source": [
    "cystic_fibrosis = {\n",
    "  'full name': 'Cystic fibrosis transmembrane conductance regulator',\n",
    "  'gene': 'CFTR',\n",
    "  'type': 'Membrane Protein'\n",
    "  }\n",
    "\n",
    "print(cystic_fibrosis['gene'])"
   ]
  },
  {
   "cell_type": "markdown",
   "id": "198388c3",
   "metadata": {},
   "source": [
    ":::::::::::::::::\n",
    "\n",
    ":::::::::::::::::::::::::::::::\n",
    "\n",
    ":::::::::::::::::::::::::::::::::::: callout\n",
    "## Remember\n",
    "Whilst the *values* in a ```dict``` can be of virtually any type supported in Python, the *keys* may only be defined using immutable types.\n",
    "\n",
    "To find out which types are immutable, see [Table](02-input_output.Rmd#fig:nativeTypes). Additionally, the *keys* in a dictionary must be unique.\n",
    "\n",
    "::::::::::::::::::::::::::::::::::::\n",
    "\n",
    "If we attempt to construct a ```dict``` using a mutable value as *key*, a ```TypeError``` will be raised.\n",
    "\n",
    "For instance, ```list``` is a mutable type and therefore cannot be used as a *key*:"
   ]
  },
  {
   "cell_type": "code",
   "execution_count": null,
   "id": "95019061",
   "metadata": {},
   "outputs": [],
   "source": [
    "test_dict = {\n",
    "  ['a', 'b']: 'some value'\n",
    "  }"
   ]
  },
  {
   "cell_type": "markdown",
   "id": "0007256c",
   "metadata": {},
   "source": [
    "But we can use any immutable type as a *key*:"
   ]
  },
  {
   "cell_type": "code",
   "execution_count": null,
   "id": "43639f1a",
   "metadata": {},
   "outputs": [],
   "source": [
    "test_dict = {\n",
    "  'ab': 'some value'\n",
    "  }\n",
    "\n",
    "print(test_dict)"
   ]
  },
  {
   "cell_type": "code",
   "execution_count": null,
   "id": "72d10b7a",
   "metadata": {},
   "outputs": [],
   "source": [
    "test_dict = {\n",
    "  ('a', 'b'): 'some value'\n",
    "  }\n",
    "\n",
    "print(test_dict)"
   ]
  },
  {
   "cell_type": "markdown",
   "id": "e242c79e",
   "metadata": {},
   "source": [
    "If we define a *key* more than once, the Python interpreter constructs the entry in ```dict``` using the last instance.\n",
    "\n",
    "In the following example, we repeat the *key* <span style=\"color: rgb(32, 121, 77);\">'pathway'</span> twice; and as expected, the interpreter only uses the last instance, which in this case represents the value <span style=\"color: rgb(32, 121, 77);\">'Canonical'</span>:"
   ]
  },
  {
   "cell_type": "code",
   "execution_count": null,
   "id": "5e685a30",
   "metadata": {},
   "outputs": [],
   "source": [
    "signal = {\n",
    "  'name': 'Wnt',\n",
    "  'pathway': 'Non-Canonical',  # first instance\n",
    "  'pathway': 'Canonical'  # second instance\n",
    "  }\n",
    "\n",
    "print(signal)"
   ]
  },
  {
   "cell_type": "markdown",
   "id": "1388b7e9",
   "metadata": {},
   "source": [
    "### **Mutability**\n",
    "Dictionaries are mutable. This means that we can alter their contents. We can make any alterations to a dictionary as long as we use *immutable* values for the *keys*.\n",
    "\n",
    "Suppose we have a dictionary stored in a variable called ```protein```, holding some information about a specific protein:"
   ]
  },
  {
   "cell_type": "code",
   "execution_count": null,
   "id": "21f46639",
   "metadata": {},
   "outputs": [],
   "source": [
    "protein = {\n",
    "  'full name': 'Cystic fibrosis transmembrane conductance regulator',\n",
    "  'alias': 'CFTR',\n",
    "  'gene': 'CFTR',\n",
    "  'type': 'Membrane Protein',\n",
    "  'common mutations': ['Delta-F508', 'G542X', 'G551D', 'N1303K']\n",
    "  }"
   ]
  },
  {
   "cell_type": "markdown",
   "id": "d83f0797",
   "metadata": {},
   "source": [
    "We can add new *items* to our dictionary or alter the existing ones:"
   ]
  },
  {
   "cell_type": "code",
   "execution_count": null,
   "id": "1af53c6a",
   "metadata": {
    "lines_to_next_cell": 2,
    "results": "hold"
   },
   "outputs": [],
   "source": [
    "# Adding a new item:\n",
    "protein['chromosome'] = 7\n",
    "\n",
    "print(protein)\n",
    "\n",
    "print(protein['chromosome'])"
   ]
  },
  {
   "cell_type": "markdown",
   "id": "fe344a13",
   "metadata": {},
   "source": [
    "We can also alter an existing *value* in a dictionary using its *key*. To do so, we simply access the *value* using its *key*, and treat it as a normal variable; i.e. the same way we do with members of a ```list```:"
   ]
  },
  {
   "cell_type": "code",
   "execution_count": null,
   "id": "d31262c4",
   "metadata": {},
   "outputs": [],
   "source": [
    "print(protein['common mutations'])"
   ]
  },
  {
   "cell_type": "code",
   "execution_count": null,
   "id": "e1adf667",
   "metadata": {},
   "outputs": [],
   "source": [
    "protein['common mutations'].append('W1282X')\n",
    "print(protein)"
   ]
  },
  {
   "cell_type": "markdown",
   "id": "ca052d41",
   "metadata": {
    "lines_to_next_cell": 0
   },
   "source": [
    ":::::::::::::::::::::::::::::: challenge\n",
    "\n",
    "## Do it Yourself\n",
    "\n",
    "Implement the following dictionary:\n",
    "\n",
    "```\n",
    "signal = {'name': 'Wnt', 'pathway': 'Non-Canonical'}}\n",
    "\n",
    "```\n",
    "\n",
    "with respect to <span style=\"color: rgb(32, 121, 77);\">signal</span>:\n",
    "\n",
    "   - Correct the *value* of <span style=\"color: rgb(32, 121, 77);\">pathway</span> to \"Canonical\";\n",
    "   - Add a new *item* to the dictionary to represent the *receptors* for the canonical pathway as  \"Frizzled\" and \"LRP\".\n",
    "\n",
    "Display the altered dictionary as the final result.\n",
    "\n",
    "::::::::::::::::: solution\n",
    "\n",
    "## DIY ANSWER"
   ]
  },
  {
   "cell_type": "code",
   "execution_count": null,
   "id": "c56a175d",
   "metadata": {
    "lines_to_next_cell": 0
   },
   "outputs": [],
   "source": [
    "signal = {'name': 'Wnt', 'pathway': 'Non-Canonical'}\n",
    "\n",
    "signal['pathway'] = 'Canonical'\n",
    "signal['receptors'] = ('Frizzled', 'LRP')\n",
    "\n",
    "print(signal)"
   ]
  },
  {
   "cell_type": "markdown",
   "id": "a2009dd9",
   "metadata": {},
   "source": [
    ":::::::::::::::::\n",
    "\n",
    ":::::::::::::::::::::::::::::::\n",
    "\n",
    ":::::::::::::::::::::::::::::::::::: callout\n",
    "## Advanced Topic\n",
    "Displaying an entire dictionary using the <kbd>print()</kbd> function can look a little messy because it is not properly structured. There is, however, an external library called ```pprint``` (Pretty-Print) that behaves in very similar way to the default <kbd>print()</kbd> function, but structures dictionaries and other arrays in a more presentable way before displaying them. We do not discuss ``Pretty-Print'' in this course, but it is a part of Python's default library and is therefore installed with Python automatically. To learn more it, have a read through the [official documentations](https://docs.python.org/3/library/pprint.html\\#module-pprint) for the library and review the [examples](https://docs.python.org/3/library/pprint.html\\#example).\n",
    "\n",
    "::::::::::::::::::::::::::::::::::::\n",
    "\n",
    "Because the *keys* are immutable, they cannot be altered. However, we can get around this limitation by introducing a new *key* and assigning the *values* of the old *key* to the new one. Once we do that, we can go ahead and *remove* the old *item*. The easiest way to remove an *item* from a dictionary is to use the syntax <kbd>del</kbd>:"
   ]
  },
  {
   "cell_type": "code",
   "execution_count": null,
   "id": "3714ed05",
   "metadata": {},
   "outputs": [],
   "source": [
    "# Creating a new key and assigning to it the\n",
    "# values of the old key:\n",
    "protein['human chromosome'] = protein['chromosome']\n",
    "\n",
    "print(protein)"
   ]
  },
  {
   "cell_type": "code",
   "execution_count": null,
   "id": "c529e9f7",
   "metadata": {
    "lines_to_next_cell": 2
   },
   "outputs": [],
   "source": [
    "# Now we remove the old item from the dictionary:\n",
    "del protein['chromosome']\n",
    "\n",
    "print(protein)"
   ]
  },
  {
   "cell_type": "markdown",
   "id": "85d09b00",
   "metadata": {},
   "source": [
    "We can simplify the above operation using the <kbd>.pop()</kbd> method, which removes the specified *key* from a dictionary and returns any *values* associated with it:"
   ]
  },
  {
   "cell_type": "code",
   "execution_count": null,
   "id": "25ef3190",
   "metadata": {},
   "outputs": [],
   "source": [
    "protein['common mutations in caucasians'] = protein.pop('common mutations')\n",
    "\n",
    "print(protein)"
   ]
  },
  {
   "cell_type": "markdown",
   "id": "42972973",
   "metadata": {},
   "source": [
    "::::::::::::::::::::::::::::::: challenge\n",
    "\n",
    "## Do it Yourself\n",
    "\n",
    "Implement a dictionary as:"
   ]
  },
  {
   "cell_type": "code",
   "execution_count": null,
   "id": "7cb3b3d0",
   "metadata": {},
   "outputs": [],
   "source": [
    "signal = {'name': 'Beta-Galactosidase', 'pdb': '4V40'}"
   ]
  },
  {
   "cell_type": "markdown",
   "id": "3eb58682",
   "metadata": {
    "lines_to_next_cell": 0
   },
   "source": [
    "with respect to <span style=\"color: rgb(32, 121, 77);\">signal</span>:\n",
    "\n",
    "   - Change the *key* name from <span style=\"color: rgb(32, 121, 77);\">'pdb'</span> to <span style=\"color: rgb(32, 121, 77);\">'pdb id '</span> using the <kbd>.pop()</kbd> method.\n",
    "   - Write a code to find out whether the dictionary:\n",
    "\n",
    "        - contains the new *key* (i.e. <span style=\"color: rgb(32, 121, 77);\">'pdb id '</span>).\n",
    "        - confirm that it no longer contains the old *key* (i.e. <span style=\"color: rgb(32, 121, 77);\">'pdb'</span>)\n",
    "\n",
    "If both conditions are met, display:\n",
    "```\n",
    "Contains the new key, but not the old one.\n",
    "```\n",
    "Otherwise:\n",
    "```\n",
    "Failed to alter the dictionary.\n",
    "```\n",
    "\n",
    "::::::::::::::::: solution\n",
    "\n",
    "## DIY ANSWER"
   ]
  },
  {
   "cell_type": "code",
   "execution_count": null,
   "id": "f5e0d4a0",
   "metadata": {
    "results": "hold"
   },
   "outputs": [],
   "source": [
    "signal = {\n",
    "\t\t    'name': 'Beta-Galactosidase',\n",
    "\t\t    'pdb': '4V40'\n",
    "\t}\n",
    "\n",
    "signal['pdb id'] = signal.pop('pdb')\n",
    "\n",
    "if 'pdb id' in signal and 'pdb' not in signal:\n",
    "    print('Contains the new key, but not the old one.')\n",
    "else:\n",
    "    print('Failed to alter the dictionary.')\n"
   ]
  },
  {
   "cell_type": "markdown",
   "id": "0d91d04a",
   "metadata": {},
   "source": [
    ":::::::::::::::::\n",
    "\n",
    ":::::::::::::::::::::::::::::::\n",
    "\n",
    "### **Nested dictionaries**\n",
    "As explained earlier the section, dictionaries are amongst the most powerful built-in tools in Python. It is possible to construct nested dictionaries to organise data in a hierarchical fashion. This useful technique is outlined extensively in [example](#ex:dict:dictExample).\n",
    "\n",
    "It is very easy to implement nested dictionaries:"
   ]
  },
  {
   "cell_type": "code",
   "execution_count": null,
   "id": "0ba70efd",
   "metadata": {
    "results": "hold"
   },
   "outputs": [],
   "source": [
    "# Parent dictionary\n",
    "pkc_family = {\n",
    "    # Child dictionary A:\n",
    "    'conventional': {\n",
    "      'note': 'Require DAG, Ca2+, and phospholipid for activation.',\n",
    "      'types': ['alpha', 'beta-1', 'beta-2', 'gamma']\n",
    "    },\n",
    "    # Child dictionary B:\n",
    "    'atypical': {\n",
    "        'note': (\n",
    "            'Require neither Ca2+ nor DAG for'\n",
    "            'activation (require phosphatidyl serine).'\n",
    "        ),\n",
    "        'types': ['iota', 'zeta']\n",
    "    }\n",
    "}"
   ]
  },
  {
   "cell_type": "markdown",
   "id": "4986c07b",
   "metadata": {},
   "source": [
    "and we follow similar principles to access, alter, or remove the *values* stored in nested dictionaries:"
   ]
  },
  {
   "cell_type": "code",
   "execution_count": null,
   "id": "a61748b3",
   "metadata": {},
   "outputs": [],
   "source": [
    "print(pkc_family)"
   ]
  },
  {
   "cell_type": "code",
   "execution_count": null,
   "id": "33a7e59d",
   "metadata": {},
   "outputs": [],
   "source": [
    "print(pkc_family['atypical'])"
   ]
  },
  {
   "cell_type": "code",
   "execution_count": null,
   "id": "b61e8131",
   "metadata": {},
   "outputs": [],
   "source": [
    "print(pkc_family['conventional']['note'])"
   ]
  },
  {
   "cell_type": "code",
   "execution_count": null,
   "id": "7e828949",
   "metadata": {},
   "outputs": [],
   "source": [
    "print(pkc_family['conventional']['types'])"
   ]
  },
  {
   "cell_type": "code",
   "execution_count": null,
   "id": "da7c90a4",
   "metadata": {},
   "outputs": [],
   "source": [
    "print(pkc_family['conventional']['types'][2])"
   ]
  },
  {
   "cell_type": "code",
   "execution_count": null,
   "id": "3f1f6c04",
   "metadata": {
    "lines_to_next_cell": 2
   },
   "outputs": [],
   "source": [
    "apkc_types = pkc_family['conventional']['types']\n",
    "print(apkc_types[1])"
   ]
  },
  {
   "cell_type": "markdown",
   "id": "2b2ae459",
   "metadata": {},
   "source": [
    "::::::::::::::::::::::::::::::: challenge\n",
    "\n",
    "## Do it Yourself\n",
    "\n",
    "Implement the following table of genetic disorders as a nested dictionary:\n",
    "\n",
    "|   | Full Name | Gene | Type  |\n",
    "|:---------------------------:|:---:|:---:|:---:|\n",
    "| **Cystic fibrosis** | Cystic fibrosis transmembrane conductance regulator | CFTR | Membrane Protein |\n",
    "| **Xeroderma pigmentosum A** | DNA repair protein complementing XP-A cells | XPA | Nucleotide excision repair |\n",
    "| **Haemophilia A** | Haemophilia A | F8 | Factor VIII Blood-clotting protein |\n",
    "\n",
    "Using the dictionary, display the *gene* for *Haemophilia A*.\n",
    "\n",
    "::::::::::::::::: solution\n",
    "\n",
    "## DIY ANSWER"
   ]
  },
  {
   "cell_type": "code",
   "execution_count": null,
   "id": "ed6fc1fe",
   "metadata": {
    "lines_to_next_cell": 0,
    "results": "hold"
   },
   "outputs": [],
   "source": [
    "genetic_diseases = {\n",
    "    'Cystic fibrosis': {\n",
    "        'name': 'Cystic fibrosis transmembrane conductance regulator',\n",
    "        'gene': 'CFTR',\n",
    "        'type': 'Membrane Protein'\n",
    "    },\n",
    "    'Xeroderma pigmentosum A': {\n",
    "        'name': 'DNA repair protein complementing XP-A cells',\n",
    "        'gene': 'XPA',\n",
    "        'type': 'Nucleotide excision repair'\n",
    "    },\n",
    "    'Haemophilia A': {\n",
    "        'name': 'Haemophilia A',\n",
    "        'gene': 'F8',\n",
    "        'type': 'Factor VIII Blood-clotting protein'\n",
    "    }\n",
    "}\n",
    "\n",
    "print(genetic_diseases['Haemophilia A']['gene'])"
   ]
  },
  {
   "cell_type": "markdown",
   "id": "346e1630",
   "metadata": {},
   "source": [
    ":::::::::::::::::\n",
    "\n",
    ":::::::::::::::::::::::::::::::\n",
    "\n",
    "::::::::::::::::::::::::::::::: discussion\n",
    "### EXAMPLE: Nested dictionaries in practice {#ex:dict:dictExample}\n",
    "We would like to store and analyse the structure of several proteins involved in the *Lac operon*. To do so, we create a Python ```dict``` to help us organise our data.\n",
    "\n",
    "We start off by creating an empty dictionary that will store our structures:"
   ]
  },
  {
   "cell_type": "code",
   "execution_count": null,
   "id": "92c254a6",
   "metadata": {},
   "outputs": [],
   "source": [
    "structures = dict()"
   ]
  },
  {
   "cell_type": "markdown",
   "id": "d5d26546",
   "metadata": {},
   "source": [
    "We then move onto depositing our individual entries to <span style=\"color: rgb(32, 121, 77);\">structure</span> by adding new *items* to it.\n",
    "\n",
    "Each *item* has a *key* that represents the name of the protein we are depositing, and a *value* that is itself a dictionary consisting of information regarding the structure of that protein:"
   ]
  },
  {
   "cell_type": "code",
   "execution_count": null,
   "id": "88c201fb",
   "metadata": {},
   "outputs": [],
   "source": [
    "structures['Beta-Galactosidase'] = {\n",
    "    'pdb id': '4V40',\n",
    "    'deposit date': '1994-07-18',\n",
    "    'organism': 'Escherichia coli',\n",
    "    'method': 'x-ray',\n",
    "    'resolution': 2.5,\n",
    "    'authors': (\n",
    "        'Jacobson, R.H.', 'Zhang, X.',\n",
    "        'Dubose, R.F.', 'Matthews, B.W.'\n",
    "    )\n",
    "}"
   ]
  },
  {
   "cell_type": "code",
   "execution_count": null,
   "id": "f0f7df5a",
   "metadata": {
    "lines_to_next_cell": 2
   },
   "outputs": [],
   "source": [
    "structures['Lactose Permease'] = {\n",
    "    'pdb id': '1PV6',\n",
    "    'deposit data': '2003-06-23',\n",
    "    'organism': 'Escherichia coli',\n",
    "    'method': 'x-ray',\n",
    "    'resolution': 3.5,\n",
    "    'authors': (\n",
    "        'Abramson, J.', 'Smirnova, I.', 'Kasho, V.',\n",
    "        'Verner, G.', 'Kaback, H.R.', 'Iwata, S.'\n",
    "    )\n",
    "}"
   ]
  },
  {
   "cell_type": "markdown",
   "id": "f8b61f8a",
   "metadata": {},
   "source": [
    "Dictionaries don't have to be homogeneous. In other words, there can be different *items* in each entry.\n",
    "\n",
    "For instance, the <span style=\"color: rgb(32, 121, 77);\">'LacY'</span> protein contains an additional *key* entitled <span style=\"color: rgb(32, 121, 77);\">'note'</span>:"
   ]
  },
  {
   "cell_type": "code",
   "execution_count": null,
   "id": "2532141e",
   "metadata": {},
   "outputs": [],
   "source": [
    "structures['LacY'] = {\n",
    "    'pdb id': '2Y5Y',\n",
    "    'deposit data': '2011-01-19',\n",
    "    'organism': 'Escherichia coli',\n",
    "    'method': 'x-ray',\n",
    "    'resolution': 3.38,\n",
    "    'note': 'in complex with an affinity inactivator',\n",
    "    'authors': (\n",
    "        'Chaptal, V.', 'Kwon, S.', 'Sawaya, M.R.',\n",
    "        'Guan, L.', 'Kaback, H.R.', 'Abramson, J.'\n",
    "    )\n",
    "}"
   ]
  },
  {
   "cell_type": "markdown",
   "id": "5a2752d9",
   "metadata": {},
   "source": [
    "The variable <span style=\"color: rgb(32, 121, 77);\">structure</span> which is an instance of type ```dict```, is now a nested dictionary:"
   ]
  },
  {
   "cell_type": "code",
   "execution_count": null,
   "id": "70e4ec16",
   "metadata": {},
   "outputs": [],
   "source": [
    "print(structures)"
   ]
  },
  {
   "cell_type": "markdown",
   "id": "1dba08bb",
   "metadata": {},
   "source": [
    "We know that we can extract information from our nested ```dict``` just like we would with any other ```dict```:"
   ]
  },
  {
   "cell_type": "code",
   "execution_count": null,
   "id": "346d42ac",
   "metadata": {},
   "outputs": [],
   "source": [
    "print(structures['Beta-Galactosidase'])"
   ]
  },
  {
   "cell_type": "code",
   "execution_count": null,
   "id": "93464b1b",
   "metadata": {},
   "outputs": [],
   "source": [
    "print(structures['Beta-Galactosidase']['method'])"
   ]
  },
  {
   "cell_type": "code",
   "execution_count": null,
   "id": "d7155b4d",
   "metadata": {},
   "outputs": [],
   "source": [
    "print(structures['Beta-Galactosidase']['authors'])"
   ]
  },
  {
   "cell_type": "code",
   "execution_count": null,
   "id": "db824400",
   "metadata": {},
   "outputs": [],
   "source": [
    "print(structures['Beta-Galactosidase']['authors'][0])"
   ]
  },
  {
   "cell_type": "markdown",
   "id": "a56d1a79",
   "metadata": {},
   "source": [
    "Sometimes, especially when creating longer dictionaries, it might be easier to store individual entries in a variable beforehand and add them to the parent dictionary later on.\n",
    "\n",
    "Note that our parent dictionary in this case is represented by the variable <span style=\"color: rgb(32, 121, 77);\">structure</span>."
   ]
  },
  {
   "cell_type": "code",
   "execution_count": null,
   "id": "76c27cd6",
   "metadata": {},
   "outputs": [],
   "source": [
    "entry = {\n",
    "    'Lac Repressor': {\n",
    "        'pdb id': '1LBI',\n",
    "        'deposit data': '1996-02-17',\n",
    "        'organism': 'Escherichia coli',\n",
    "        'method': 'x-ray',\n",
    "        'resolution': 2.7,\n",
    "        'authors': (\n",
    "            'Lewis, M.', 'Chang, G.', 'Horton, N.C.',\n",
    "            'Kercher, M.A.', 'Pace, H.C.', 'Lu, P.'\n",
    "        )\n",
    "    }\n",
    "}"
   ]
  },
  {
   "cell_type": "markdown",
   "id": "5f5f7e63",
   "metadata": {},
   "source": [
    "We can then use the <kbd>.update()</kbd> method to update our <span style=\"color: rgb(32, 121, 77);\">structures</span> dictionary:"
   ]
  },
  {
   "cell_type": "code",
   "execution_count": null,
   "id": "94067944",
   "metadata": {},
   "outputs": [],
   "source": [
    "structures.update(entry)\n",
    "\n",
    "print(structures['Lac Repressor'])"
   ]
  },
  {
   "cell_type": "markdown",
   "id": "71cb0aa9",
   "metadata": {},
   "source": [
    "We sometimes need to see what *keys* our dictionary contains. To obtain an array of *keys*, we use the method <kbd>.keys()</kbd> as follows:"
   ]
  },
  {
   "cell_type": "code",
   "execution_count": null,
   "id": "c922ca4f",
   "metadata": {},
   "outputs": [],
   "source": [
    "print(structures.keys())"
   ]
  },
  {
   "cell_type": "markdown",
   "id": "8baf4669",
   "metadata": {},
   "source": [
    "Likewise, we can also obtain an array of *values* in a dictionary using the <kbd>.values()</kbd> method:"
   ]
  },
  {
   "cell_type": "code",
   "execution_count": null,
   "id": "2ee21e5e",
   "metadata": {},
   "outputs": [],
   "source": [
    "print(structures['LacY'].values())"
   ]
  },
  {
   "cell_type": "markdown",
   "id": "980898e4",
   "metadata": {},
   "source": [
    "We can then extract specific information to conduct an analysis. Note that the <kbd>len()</kbd> function in this context returns the number of *keys* in the parent dictionary only."
   ]
  },
  {
   "cell_type": "code",
   "execution_count": null,
   "id": "3505f85f",
   "metadata": {
    "results": "hold"
   },
   "outputs": [],
   "source": [
    "sum_resolutions = 0\n",
    "res = 'resolution'\n",
    "\n",
    "sum_resolutions += structures['Beta-Galactosidase'][res]\n",
    "sum_resolutions += structures['Lactose Permease'][res]\n",
    "sum_resolutions += structures['Lac Repressor'][res]\n",
    "sum_resolutions += structures['LacY'][res]\n",
    "\n",
    "total_entries = len(structures)\n",
    "\n",
    "average_resolution = sum_resolutions / total_entries\n",
    "\n",
    "print(average_resolution)"
   ]
  },
  {
   "cell_type": "markdown",
   "id": "cc03caa3",
   "metadata": {},
   "source": [
    ":::::::::::::::::::::::::::::::\n",
    "\n",
    "### **Useful methods for dictionary** {#subsec:dict:usefulMethods}\n",
    "Now we use some snippets to demonstrate some of the useful *methods* associated with ```dict``` in Python.\n",
    "\n",
    "Given a dictionary as:"
   ]
  },
  {
   "cell_type": "code",
   "execution_count": null,
   "id": "337541b9",
   "metadata": {},
   "outputs": [],
   "source": [
    "lac_repressor = {\n",
    "\t    'pdb id': '1LBI',\n",
    "\t    'deposit data': '1996-02-17',\n",
    "\t    'organism': 'Escherichia coli',\n",
    "\t    'method': 'x-ray',\n",
    "\t    'resolution': 2.7,\n",
    "}"
   ]
  },
  {
   "cell_type": "markdown",
   "id": "85acde22",
   "metadata": {},
   "source": [
    "We can create an array of all *items* in the dictionary using the <kbd>.items()</kbd> method:"
   ]
  },
  {
   "cell_type": "code",
   "execution_count": null,
   "id": "13c00c5e",
   "metadata": {
    "lines_to_next_cell": 2
   },
   "outputs": [],
   "source": [
    "print(lac_repressor.items())"
   ]
  },
  {
   "cell_type": "markdown",
   "id": "ae8034ba",
   "metadata": {},
   "source": [
    "Similar to the <kbd>enumerate()</kbd> function (discussed in [subsection DIY](#diy:loops:for:enumerate) ), the <kbd>.items()</kbd> method also returns an array of ```tuple``` members. Each ```tuple``` itself consists of 2 members, and is structured as (<span style=\"color: rgb(32, 121, 77);\">'key'</span>: <span style=\"color: rgb(32, 121, 77);\">'value'</span>). On that account, we can use its output in the context of a ```for```--loop as follows:"
   ]
  },
  {
   "cell_type": "code",
   "execution_count": null,
   "id": "b9150e23",
   "metadata": {
    "lines_to_next_cell": 2
   },
   "outputs": [],
   "source": [
    "for key, value in lac_repressor.items():\n",
    "    print(key, value, sep=': ')"
   ]
  },
  {
   "cell_type": "markdown",
   "id": "a0d71ec7",
   "metadata": {},
   "source": [
    "::::::::::::::::::::::::::::::: challenge\n",
    "\n",
    "## Do it Yourself\n",
    "\n",
    "Try <kbd>.items()</kbd> on a nested ```dict``` and see how it works."
   ]
  },
  {
   "cell_type": "markdown",
   "id": "c6add375",
   "metadata": {},
   "source": [
    "::::::::::::::::: solution\n",
    "\n",
    "## DIY ANSWER"
   ]
  },
  {
   "cell_type": "code",
   "execution_count": null,
   "id": "0720c954",
   "metadata": {
    "lines_to_next_cell": 0
   },
   "outputs": [],
   "source": [
    "nested_dict = {\n",
    "    'L1-a': {\n",
    "        'L2-Ka': 'L2_Va',\n",
    "        'L2-Kb': 'L2_Vb',\n",
    "    },\n",
    "    'L1-b': {\n",
    "        'L2-Kc': 'L2_Vc',\n",
    "        'L2-Kd': 'L3_Vd'\n",
    "    },\n",
    "    'L3-c': 'L3_V'\n",
    "}\n",
    "\n",
    "print(nested_dict.items())"
   ]
  },
  {
   "cell_type": "markdown",
   "id": "5261d1da",
   "metadata": {},
   "source": [
    ":::::::::::::::::\n",
    "\n",
    ":::::::::::::::::::::::::::::::\n",
    "\n",
    "We learned earlier that if we ask for a *key* that is not in the ```dict```, a ```KeyError``` will be raised. If we anticipate this, we can handle it using the <kbd>.get()</kbd> method. The method takes in the *key* and searches the dictionary to find it. If found, the associating *value* is returned. Otherwise, the method returns ```None``` by default. We can also pass a second value to <kbd>.get()</kbd> to replace ```None``` in cases that the requested *key* does not exist:"
   ]
  },
  {
   "cell_type": "code",
   "execution_count": null,
   "id": "72c838aa",
   "metadata": {},
   "outputs": [],
   "source": [
    "print(lac_repressor['gene'])"
   ]
  },
  {
   "cell_type": "code",
   "execution_count": null,
   "id": "e266c136",
   "metadata": {},
   "outputs": [],
   "source": [
    "print(lac_repressor.get('gene'))"
   ]
  },
  {
   "cell_type": "code",
   "execution_count": null,
   "id": "1975a290",
   "metadata": {},
   "outputs": [],
   "source": [
    "print(lac_repressor.get('gene', 'Not found...'))"
   ]
  },
  {
   "cell_type": "markdown",
   "id": "2ba9b6a6",
   "metadata": {
    "lines_to_next_cell": 0
   },
   "source": [
    "::::::::::::::::::::::::::::::: challenge\n",
    "\n",
    "## Do it Yourself\n",
    "\n",
    "Implement the <span style=\"color: rgb(32, 121, 77);\">lac_repressor</span> dictionary and try to extract the *values* associated with the following *keys*:\n",
    "\n",
    "- <span style=\"color: rgb(32, 121, 77);\">organism</span>\n",
    "- <span style=\"color: rgb(32, 121, 77);\">authors</span>\n",
    "- <span style=\"color: rgb(32, 121, 77);\">subunits</span>\n",
    "- <span style=\"color: rgb(32, 121, 77);\">method</span>\n",
    "\n",
    "If a *key* does not exist in the dictionary, display <span style=\"color: rgb(32, 121, 77);\">No entry</span> instead.\n",
    "\n",
    "Display the results in the following format:\n",
    "```\n",
    "organism: XXX\n",
    "authors: XXX\n",
    "```\n",
    "\n",
    "::::::::::::::::: solution\n",
    "\n",
    "## DIY ANSWER"
   ]
  },
  {
   "cell_type": "code",
   "execution_count": null,
   "id": "c23e1a29",
   "metadata": {},
   "outputs": [],
   "source": [
    "lac_repressor = {\n",
    "    'pdb id': '1LBI',\n",
    "    'deposit data': '1996-02-17',\n",
    "    'organism': 'Escherichia coli',\n",
    "    'method': 'x-ray',\n",
    "    'resolution': 2.7,\n",
    "}\n",
    "\n",
    "requested_keys = ['organism', 'authors', 'subunits', 'method']\n",
    "\n",
    "for key in requested_keys:\n",
    "    lac_repressor.get(key, 'No entry')"
   ]
  },
  {
   "cell_type": "markdown",
   "id": "25cf2942",
   "metadata": {},
   "source": [
    ":::::::::::::::::\n",
    "\n",
    ":::::::::::::::::::::::::::::::\n",
    "### ```for```-loop and dictionary\n",
    "Dictionaries and ```for```-loops create a powerful combination. We can leverage the accessibility of dictionary *values* through specific *keys* that we define ourselves in a loop to extract data iteratively and repeatedly.\n",
    "\n",
    "One of the most useful tools that we can create using nothing more than a ```for```-loop and a dictionary, in only a few lines of code, is a sequence converter.\n",
    "\n",
    "Here, we are essentially iterating through a sequence of DNA nucleotides (<span style=\"color: rgb(32, 121, 77);\">sequence</span>), extracting one character per loop cycle from our string (<span style=\"color: rgb(32, 121, 77);\">nucleotide</span>). We then use that character as a *key* to retrieve its corresponding *value* from our a dictionary (<span style=\"color: rgb(32, 121, 77);\">dna2rna</span>). Once we get the *value*, we add it to the variable that we initialised using an empty string outside the scope of our ```for```-loop (<span style=\"color: rgb(32, 121, 77);\">rna_sequence</span>) as discussed in [subsection](#subsubsec:mathematicalOperations:nonNumerics). At the end of the process, the variable <span style=\"color: rgb(32, 121, 77);\">rna_sequence</span> will contain a converted version of our sequence."
   ]
  },
  {
   "cell_type": "code",
   "execution_count": null,
   "id": "7fbb1eec",
   "metadata": {
    "results": "hold"
   },
   "outputs": [],
   "source": [
    "sequence = 'CCCATCTTAAGACTTCACAAGACTTGTGAAATCAGACCACTGCTCAATGCGGAACGCCCG'\n",
    "\n",
    "dna2rna = {\"A\": \"U\", \"T\": \"A\", \"C\": \"G\", \"G\": \"C\"}\n",
    "\n",
    "rna_sequence = str()  # Creating an empty string.\n",
    "\n",
    "for nucleotide in sequence:\n",
    "    rna_sequence += dna2rna[nucleotide]\n",
    "\n",
    "print('DNA:', sequence)\n",
    "print('RNA:', rna_sequence)"
   ]
  },
  {
   "cell_type": "markdown",
   "id": "7c95d97b",
   "metadata": {},
   "source": [
    "::::::::::::::::::::::::::::::: challenge\n",
    "\n",
    "## Do it Yourself\n",
    "\n",
    "We know that in reverse transcription, RNA nucleotides are converted to their complementary DNA as shown:\n",
    "\n",
    "| Type | Direction | Nucleotides  |\n",
    "|:---------------------------:|:---:|:---:|\n",
    "| RNA | 5'...' | U A G C |\n",
    "| cDNA | 5'...' | A T C G |\n",
    "\n",
    "with that in mind:\n",
    "\n",
    "1. Use the table to construct a dictionary for reverse transcription, and another dictionary for the conversion of cDNA to DNA.\n",
    "\n",
    "2. Using the appropriate dictionary, convert the following mRNA (exon) sequence for human G protein-coupled receptor to its cDNA."
   ]
  },
  {
   "cell_type": "code",
   "execution_count": null,
   "id": "927b99ba",
   "metadata": {
    "lines_to_next_cell": 2
   },
   "outputs": [],
   "source": [
    "human_gpcr = (\n",
    "    'AUGGAUGUGACUUCCCAAGCCCGGGGCGUGGGCCUGGAGAUGUACCCAGGCACCGCGCAGCCUGCGGCCCCCAACACCACCUC'\n",
    "    'CCCCGAGCUCAACCUGUCCCACCCGCUCCUGGGCACCGCCCUGGCCAAUGGGACAGGUGAGCUCUCGGAGCACCAGCAGUACG'\n",
    "    'UGAUCGGCCUGUUCCUCUCGUGCCUCUACACCAUCUUCCUCUUCCCCAUCGGCUUUGUGGGCAACAUCCUGAUCCUGGUGGUG'\n",
    "    'AACAUCAGCUUCCGCGAGAAGAUGACCAUCCCCGACCUGUACUUCAUCAACCUGGCGGUGGCGGACCUCAUCCUGGUGGCCGA'\n",
    "    'CUCCCUCAUUGAGGUGUUCAACCUGCACGAGCGGUACUACGACAUCGCCGUCCUGUGCACCUUCAUGUCGCUCUUCCUGCAGG'\n",
    "    'UCAACAUGUACAGCAGCGUCUUCUUCCUCACCUGGAUGAGCUUCGACCGCUACAUCGCCCUGGCCAGGGCCAUGCGCUGCAGC'\n",
    "    'CUGUUCCGCACCAAGCACCACGCCCGGCUGAGCUGUGGCCUCAUCUGGAUGGCAUCCGUGUCAGCCACGCUGGUGCCCUUCAC'\n",
    "    'CGCCGUGCACCUGCAGCACACCGACGAGGCCUGCUUCUGUUUCGCGGAUGUCCGGGAGGUGCAGUGGCUCGAGGUCACGCUGG'\n",
    "    'GCUUCAUCGUGCCCUUCGCCAUCAUCGGCCUGUGCUACUCCCUCAUUGUCCGGGUGCUGGUCAGGGCGCACCGGCACCGUGGG'\n",
    "    'CUGCGGCCCCGGCGGCAGAAGGCGCUCCGCAUGAUCCUCGCGGUGGUGCUGGUCUUCUUCGUCUGCUGGCUGCCGGAGAACGU'\n",
    "    'CUUCAUCAGCGUGCACCUCCUGCAGCGGACGCAGCCUGGGGCCGCUCCCUGCAAGCAGUCUUUCCGCCAUGCCCACCCCCUCA'\n",
    "    'CGGGCCACAUUGUCAACCUCACCGCCUUCUCCAACAGCUGCCUAAACCCCCUCAUCUACAGCUUUCUCGGGGAGACCUUCAGG'\n",
    "    'GACAAGCUGAGGCUGUACAUUGAGCAGAAAACAAAUUUGCCGGCCCUGAACCGCUUCUGUCACGCUGCCCUGAAGGCCGUCAU'\n",
    "    'UCCAGACAGCACCGAGCAGUCGGAUGUGAGGUUCAGCAGUGCCGUG'\n",
    ")"
   ]
  },
  {
   "cell_type": "markdown",
   "id": "48d1634d",
   "metadata": {},
   "source": [
    "::::::::::::::::: solution\n",
    "\n",
    "## Q1"
   ]
  },
  {
   "cell_type": "code",
   "execution_count": null,
   "id": "8b727ad1",
   "metadata": {},
   "outputs": [],
   "source": [
    "mrna2cdna = {\n",
    "    'U': 'A',\n",
    "    'A': 'T',\n",
    "    'G': 'C',\n",
    "    'C': 'G'\n",
    "}\n",
    "\n",
    "cdna2dna = {\n",
    "    'A': 'T',\n",
    "    'T': 'A',\n",
    "    'C': 'G',\n",
    "    'G': 'C'\n",
    "}"
   ]
  },
  {
   "cell_type": "markdown",
   "id": "dbccc257",
   "metadata": {},
   "source": [
    "## Q2"
   ]
  },
  {
   "cell_type": "code",
   "execution_count": null,
   "id": "2d133aef",
   "metadata": {
    "lines_to_next_cell": 0
   },
   "outputs": [],
   "source": [
    "cdna = str()\n",
    "for nucleotide in human_gpcr:\n",
    "    cdna += mrna2cdna[nucleotide]\n",
    "\n",
    "print(cdna)"
   ]
  },
  {
   "cell_type": "markdown",
   "id": "b9e73440",
   "metadata": {},
   "source": [
    ":::::::::::::::::\n",
    "\n",
    ":::::::::::::::::::::::::::::::\n",
    "\n",
    "## Summary\n",
    "In this section we talked about dictionaries, which are one the most powerful built-in types in Python. We learned:\n",
    "\n",
    "- how to create dictionaries in Python,\n",
    "- methods to alter or manipulate normal and nested dictionaries,\n",
    "- two different techniques for changing an existing *key*,\n",
    "- examples on how dictionaries help us organise our data and retrieve them when needed,"
   ]
  },
  {
   "cell_type": "markdown",
   "id": "f7cb4f74",
   "metadata": {},
   "source": [
    "Finally, we also learned that we can create an *iterable* (discussed in [section](#for-loop)) from dictionary *keys* or *values* using the <kbd>.key()</kbd>, the <kbd>.values()</kbd>, or the <kbd>.items()</kbd> methods.\n",
    "\n",
    "## Exercises\n",
    ":::::::::::::::::::::::::::::::::::::::: challenge\n",
    "\n",
    "### End of chapter Exercises\n",
    "\n",
    "We know that the process of protein translation starts by transcribing a gene from DNA to RNA *nucleotides*, followed by translating the RNA *codons* to protein.\n",
    "\n",
    "Conventionally, we write a DNA sequence from the <span style=\"color: rgb(32, 121, 77);\">5'</span>-end to the <span style=\"color: rgb(32, 121, 77);\">3'</span>-end. The transcription process, however, starts from the <span style=\"color: rgb(32, 121, 77);\">3'</span>-end of a gene to the <span style=\"color: rgb(32, 121, 77);\">5'</span>-end (anti-sense strand), resulting in a sense mRNA sequence complementing the sense DNA strand. This is because RNA polymerase can only add nucleotides to the <span style=\"color: rgb(32, 121, 77);\">3'</span>-end of the growing mRNA chain, which eliminates the need for the [Okazaki fragments](https://en.wikipedia.org/wiki/Okazaki_fragments) as seen in DNA replication.\n",
    "\n",
    "**Example:** The DNA sequence <span style=\"color: rgb(32, 121, 77);\">ATGTCTAAA</span> is transcribed into <span style=\"color: rgb(32, 121, 77);\">AUGUCUAAA</span>.\n",
    "\n",
    "Given a conversion table:\n",
    "\n",
    "![](fig/conversion_table.png)\n",
    "\n",
    "and this <span style=\"color: rgb(32, 121, 77);\">5'</span>- to <span style=\"color: rgb(32, 121, 77);\">3'</span>-end DNA sequence of 717 nucleotides for the [Green Fluorescent Protein (GFP)](https://en.wikipedia.org/wiki/Green_fluorescent_protein) mutant 3 extracted from [Aequorea victoria](https://en.wikipedia.org/wiki/Aequorea_victoria):"
   ]
  },
  {
   "cell_type": "code",
   "execution_count": null,
   "id": "0cdbf868",
   "metadata": {},
   "outputs": [],
   "source": [
    "dna_sequence = (\n",
    "    'ATGTCTAAAGGTGAAGAATTATTCACTGGTGTTGTCCCAATTTTGGTTGAATTAGATGGTGATGTTAATGGT'\n",
    "    'CACAAATTTTCTGTCTCCGGTGAAGGTGAAGGTGATGCTACTTACGGTAAATTGACCTTAAAATTTATTTGT'\n",
    "    'ACTACTGGTAAATTGCCAGTTCCATGGCCAACCTTAGTCACTACTTTCGGTTATGGTGTTCAATGTTTTGCT'\n",
    "    'AGATACCCAGATCATATGAAACAACATGACTTTTTCAAGTCTGCCATGCCAGAAGGTTATGTTCAAGAAAGA'\n",
    "    'ACTATTTTTTTCAAAGATGACGGTAACTACAAGACCAGAGCTGAAGTCAAGTTTGAAGGTGATACCTTAGTT'\n",
    "    'AATAGAATCGAATTAAAAGGTATTGATTTTAAAGAAGATGGTAACATTTTAGGTCACAAATTGGAATACAAC'\n",
    "    'TATAACTCTCACAATGTTTACATCATGGCTGACAAACAAAAGAATGGTATCAAAGTTAACTTCAAAATTAGA'\n",
    "    'CACAACATTGAAGATGGTTCTGTTCAATTAGCTGACCATTATCAACAAAATACTCCAATTGGTGATGGTCCA'\n",
    "    'GTCTTGTTACCAGACAACCATTACTTATCCACTCAATCTGCCTTATCCAAAGATCCAAACGAAAAGAGAGAC'\n",
    "    'CACATGGTCTTGTTAGAATTTGTTACTGCTGCTGGTATTACCCATGGTATGGATGAATTGTACAAATAA'\n",
    ")"
   ]
  },
  {
   "cell_type": "markdown",
   "id": "3d8270d7",
   "metadata": {},
   "source": [
    "Use the DNA sequence and the conversion table to:\n",
    "\n",
    "1. Write a Python script to *transcribe* this sequence to mRNA as it occurs in a biological organism. That is, determine the complimentary DNA first, and use that to work out the mRNA.\n",
    "\n",
    "2. Use the following dictionary in a Python script to obtain the translation (protein sequence) of the Green Fluorescent Protein using the mRNA sequence you obtained."
   ]
  },
  {
   "cell_type": "code",
   "execution_count": null,
   "id": "3cd496a1",
   "metadata": {},
   "outputs": [],
   "source": [
    "codon2aa = {\n",
    "    \"UUU\": \"F\", \"UUC\": \"F\", \"UUA\": \"L\", \"UUG\": \"L\", \"CUU\": \"L\",\n",
    "    \"CUC\": \"L\", \"CUA\": \"L\", \"CUG\": \"L\", \"AUU\": \"I\", \"AUC\": \"I\",\n",
    "    \"AUA\": \"I\", \"GUU\": \"V\", \"GUC\": \"V\", \"GUA\": \"V\", \"GUG\": \"V\",\n",
    "    \"UCU\": \"S\", \"UCC\": \"S\", \"UCA\": \"S\", \"UCG\": \"S\", \"AGU\": \"S\",\n",
    "    \"AGC\": \"S\", \"CCU\": \"P\", \"CCC\": \"P\", \"CCA\": \"P\", \"CCG\": \"P\",\n",
    "    \"ACU\": \"T\", \"ACC\": \"T\", \"ACA\": \"T\", \"ACG\": \"T\", \"GCU\": \"A\",\n",
    "    \"GCC\": \"A\", \"GCA\": \"A\", \"GCG\": \"A\", \"UAU\": \"Y\", \"UAC\": \"Y\",\n",
    "    \"CAU\": \"H\", \"CAC\": \"H\", \"CAA\": \"Q\", \"CAG\": \"Q\", \"AAU\": \"N\",\n",
    "    \"AAC\": \"N\", \"AAA\": \"K\", \"AAG\": \"K\", \"GAU\": \"D\", \"GAC\": \"D\",\n",
    "    \"GAA\": \"E\", \"GAG\": \"E\", \"UGU\": \"C\", \"UGC\": \"C\", \"UGG\": \"W\",\n",
    "    \"CGU\": \"R\", \"CGC\": \"R\", \"CGA\": \"R\", \"CGG\": \"R\", \"AGA\": \"R\",\n",
    "    \"AGG\": \"R\", \"GGU\": \"G\", \"GGC\": \"G\", \"GGA\": \"G\", \"GGG\": \"G\",\n",
    "    \"AUG\": \"<Met>\", \"UAA\": \"<STOP>\", \"UAG\": \"<STOP>\", \"UGA\": \"<STOP>\"\n",
    "}"
   ]
  },
  {
   "cell_type": "markdown",
   "id": "dbf33e81",
   "metadata": {
    "lines_to_next_cell": 0
   },
   "source": [
    "::::::::::::::::::::: solution\n",
    "\n",
    "## Please check these solutions only after submitting the assignments.\n",
    "\n",
    "### Q1"
   ]
  },
  {
   "cell_type": "code",
   "execution_count": null,
   "id": "4483fa50",
   "metadata": {},
   "outputs": [],
   "source": [
    "dna_sequence = (\n",
    "    'ATGTCTAAAGGTGAAGAATTATTCACTGGTGTTGTCCCAATTTTGGTTGAATTAGATGGTGATGTTAATGGT'\n",
    "    'CACAAATTTTCTGTCTCCGGTGAAGGTGAAGGTGATGCTACTTACGGTAAATTGACCTTAAAATTTATTTGT'\n",
    "    'ACTACTGGTAAATTGCCAGTTCCATGGCCAACCTTAGTCACTACTTTCGGTTATGGTGTTCAATGTTTTGCT'\n",
    "    'AGATACCCAGATCATATGAAACAACATGACTTTTTCAAGTCTGCCATGCCAGAAGGTTATGTTCAAGAAAGA'\n",
    "    'ACTATTTTTTTCAAAGATGACGGTAACTACAAGACCAGAGCTGAAGTCAAGTTTGAAGGTGATACCTTAGTT'\n",
    "    'AATAGAATCGAATTAAAAGGTATTGATTTTAAAGAAGATGGTAACATTTTAGGTCACAAATTGGAATACAAC'\n",
    "    'TATAACTCTCACAATGTTTACATCATGGCTGACAAACAAAAGAATGGTATCAAAGTTAACTTCAAAATTAGA'\n",
    "    'CACAACATTGAAGATGGTTCTGTTCAATTAGCTGACCATTATCAACAAAATACTCCAATTGGTGATGGTCCA'\n",
    "    'GTCTTGTTACCAGACAACCATTACTTATCCACTCAATCTGCCTTATCCAAAGATCCAAACGAAAAGAGAGAC'\n",
    "    'CACATGGTCTTGTTAGAATTTGTTACTGCTGCTGGTATTACCCATGGTATGGATGAATTGTACAAATAA'\n",
    ")\n",
    "\n",
    "\n",
    "codon2aa = {\n",
    "    \"UUU\": \"F\", \"UUC\": \"F\", \"UUA\": \"L\", \"UUG\": \"L\", \"CUU\": \"L\",\n",
    "    \"CUC\": \"L\", \"CUA\": \"L\", \"CUG\": \"L\", \"AUU\": \"I\", \"AUC\": \"I\",\n",
    "    \"AUA\": \"I\", \"GUU\": \"V\", \"GUC\": \"V\", \"GUA\": \"V\", \"GUG\": \"V\",\n",
    "    \"UCU\": \"S\", \"UCC\": \"S\", \"UCA\": \"S\", \"UCG\": \"S\", \"AGU\": \"S\",\n",
    "    \"AGC\": \"S\", \"CCU\": \"P\", \"CCC\": \"P\", \"CCA\": \"P\", \"CCG\": \"P\",\n",
    "    \"ACU\": \"T\", \"ACC\": \"T\", \"ACA\": \"T\", \"ACG\": \"T\", \"GCU\": \"A\",\n",
    "    \"GCC\": \"A\", \"GCA\": \"A\", \"GCG\": \"A\", \"UAU\": \"Y\", \"UAC\": \"Y\",\n",
    "    \"CAU\": \"H\", \"CAC\": \"H\", \"CAA\": \"Q\", \"CAG\": \"Q\", \"AAU\": \"N\",\n",
    "    \"AAC\": \"N\", \"AAA\": \"K\", \"AAG\": \"K\", \"GAU\": \"D\", \"GAC\": \"D\",\n",
    "    \"GAA\": \"E\", \"GAG\": \"E\", \"UGU\": \"C\", \"UGC\": \"C\", \"UGG\": \"W\",\n",
    "    \"CGU\": \"R\", \"CGC\": \"R\", \"CGA\": \"R\", \"CGG\": \"R\", \"AGA\": \"R\",\n",
    "    \"AGG\": \"R\", \"GGU\": \"G\", \"GGC\": \"G\", \"GGA\": \"G\", \"GGG\": \"G\",\n",
    "    \"AUG\": \"<Met>\", \"UAA\": \"<STOP>\", \"UAG\": \"<STOP>\", \"UGA\": \"<STOP>\"\n",
    "}\n",
    "\n",
    "dna2cdna = {\n",
    "    'A': 'T',\n",
    "    'C': 'G',\n",
    "    'G': 'C',\n",
    "    'T': 'A'\n",
    "}\n",
    "\n",
    "\n",
    "dna2mrna = {\n",
    "    'A': 'U',\n",
    "    'T': 'A',\n",
    "    'G': 'C',\n",
    "    'C': 'G'\n",
    "}\n",
    "\n",
    "\n",
    "# Transcription\n",
    "# -----------------------------------------------------------------\n",
    "m_rna = str()\n",
    "\n",
    "for nucleotide in dna_sequence:\n",
    "    # DNA to cDNA\n",
    "    c_dna = dna2cdna[nucleotide]\n",
    "\n",
    "    # cDNA to mRNA\n",
    "    m_rna += dna2mrna[c_dna]\n",
    "\n",
    "\n",
    "print('mRNA:', m_rna)\n",
    "\n",
    "\n",
    "# Translation:\n",
    "# -----------------------------------------------------------------\n",
    "mrna_len = len(m_rna)\n",
    "codon_len = 3\n",
    "\n",
    "protein = str()\n",
    "\n",
    "for index in range(0, mrna_len, codon_len):\n",
    "    codon = m_rna[index: index + codon_len]\n",
    "    protein += codon2aa[codon]\n",
    "\n",
    "print('Protein:', protein)\n",
    "\n",
    "# -----------------------------------------------------------------\n",
    "# INTERMEDIATE-LEVEL TWIST (Alternative answer):\n",
    "# One can also combine the two processes.\n",
    "#\n",
    "# Advantages:\n",
    "#   - One for-loop.\n",
    "#   - No use of `range()`.\n",
    "#   - Almost twice as fast (half as many iterations).\n",
    "# -----------------------------------------------------------------\n",
    "m_rna = str()\n",
    "protein = str()\n",
    "codon = str()\n",
    "\n",
    "for nucleotide in dna_sequence:\n",
    "    # DNA to cDNA\n",
    "    c_dna = dna2cdna[nucleotide]\n",
    "\n",
    "    # Transcription:\n",
    "    transcribed_nucleotide = dna2mrna[c_dna]\n",
    "    m_rna += transcribed_nucleotide\n",
    "\n",
    "    # Translation process:\n",
    "    # Retaining the residue to construct triplets.\n",
    "    codon += transcribed_nucleotide\n",
    "\n",
    "    # Check if this is a triplet (a codon):\n",
    "    if len(codon) == 3:\n",
    "        # Convert to amino acid and store:\n",
    "        protein += codon2aa[codon]\n",
    "\n",
    "        # Reset the codon to an empty string:\n",
    "        codon = str()\n",
    "print('mRNA:', m_rna)\n",
    "print('Protein:', protein)"
   ]
  },
  {
   "cell_type": "markdown",
   "id": "af26eff4",
   "metadata": {},
   "source": [
    ":::::::::::::::::::::\n",
    "::::::::::::::::::::::::::::::::::::::::\n",
    "\n",
    "::::::::::::::::::::::::::::::::::::: keypoints\n",
    "\n",
    "- Dictionaries associate a set of *values* with a number of *keys*.\n",
    "- *keys* are used to access the values of a dictionary.\n",
    "- Dictionaries are mutable.\n",
    "- Nested dictionaries are constructed to organise data in a hierarchical fashion.\n",
    "- Some of the useful methods to work with dictionaries are: <kbd>.items()</kbd>, <kbd>.get()</kbd>\n",
    "\n",
    "::::::::::::::::::::::::::::::::::::::::::::::::\n",
    "\n"
   ]
  },
  {
   "cell_type": "markdown",
   "id": "1e8335ee",
   "metadata": {},
   "source": [
    "[r-markdown]: https://rmarkdown.rstudio.com/"
   ]
  }
 ],
 "metadata": {
  "jupytext": {
   "cell_metadata_filter": "results,-all",
   "main_language": "python",
   "notebook_metadata_filter": "-all"
  }
 },
 "nbformat": 4,
 "nbformat_minor": 5
}
